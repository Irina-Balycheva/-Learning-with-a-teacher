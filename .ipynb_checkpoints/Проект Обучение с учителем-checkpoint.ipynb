{
 "cells": [
  {
   "cell_type": "markdown",
   "metadata": {},
   "source": [
    "Ссылка на GitHub: [https://github.com/Irina-Balycheva/-Learning-with-a-teacher](https://github.com/Irina-Balycheva/-Learning-with-a-teacher)"
   ]
  },
  {
   "cell_type": "markdown",
   "metadata": {},
   "source": [
    "# Отток клиентов"
   ]
  },
  {
   "cell_type": "markdown",
   "metadata": {},
   "source": [
    "Из «Бета-Банка» стали уходить клиенты. Каждый месяц. Немного, но заметно. Банковские маркетологи посчитали: сохранять текущих клиентов дешевле, чем привлекать новых.\n",
    "\n",
    "Нужно спрогнозировать, уйдёт клиент из банка в ближайшее время или нет. Предоставлены исторические данные о поведении клиентов и расторжении договоров с банком. \n",
    "\n",
    "Построим модель с предельно большим значением *F1*-меры. При этом нужно довести метрику до 0.59. \n",
    "\n",
    "Источник данных: [https://www.kaggle.com/barelydedicated/bank-customer-churn-modeling](https://www.kaggle.com/barelydedicated/bank-customer-churn-modeling)"
   ]
  },
  {
   "cell_type": "markdown",
   "metadata": {},
   "source": [
    "## Подготовка данных"
   ]
  },
  {
   "cell_type": "code",
   "execution_count": 1,
   "metadata": {},
   "outputs": [],
   "source": [
    "import pandas as pd\n",
    "from sklearn.model_selection import train_test_split\n",
    "from sklearn.linear_model import LogisticRegression\n",
    "from sklearn.tree import DecisionTreeClassifier\n",
    "from sklearn.ensemble import RandomForestClassifier\n",
    "from sklearn.metrics import f1_score, precision_score, recall_score\n",
    "from sklearn.preprocessing import OrdinalEncoder\n",
    "import matplotlib.pyplot as plt \n",
    "import seaborn as sns\n",
    "sns.set(style=\"white\")\n",
    "sns.set(style=\"whitegrid\", color_codes=True)\n",
    "from sklearn.metrics import accuracy_score\n",
    "from sklearn.metrics import roc_auc_score\n",
    "from sklearn.metrics import roc_curve\n",
    "from sklearn.metrics import confusion_matrix\n",
    "import numpy as np\n",
    "from sklearn.utils import shuffle\n",
    "from sklearn.model_selection import GridSearchCV\n",
    "\n",
    "pd.set_option('display.max_rows', None)\n",
    "pd.set_option('display.max_columns', None)\n"
   ]
  },
  {
   "cell_type": "code",
   "execution_count": 5,
   "metadata": {},
   "outputs": [
    {
     "data": {
      "text/html": [
       "<div>\n",
       "<style scoped>\n",
       "    .dataframe tbody tr th:only-of-type {\n",
       "        vertical-align: middle;\n",
       "    }\n",
       "\n",
       "    .dataframe tbody tr th {\n",
       "        vertical-align: top;\n",
       "    }\n",
       "\n",
       "    .dataframe thead th {\n",
       "        text-align: right;\n",
       "    }\n",
       "</style>\n",
       "<table border=\"1\" class=\"dataframe\">\n",
       "  <thead>\n",
       "    <tr style=\"text-align: right;\">\n",
       "      <th></th>\n",
       "      <th>RowNumber</th>\n",
       "      <th>CustomerId</th>\n",
       "      <th>Surname</th>\n",
       "      <th>CreditScore</th>\n",
       "      <th>Geography</th>\n",
       "      <th>Gender</th>\n",
       "      <th>Age</th>\n",
       "      <th>Tenure</th>\n",
       "      <th>Balance</th>\n",
       "      <th>NumOfProducts</th>\n",
       "      <th>HasCrCard</th>\n",
       "      <th>IsActiveMember</th>\n",
       "      <th>EstimatedSalary</th>\n",
       "      <th>Exited</th>\n",
       "    </tr>\n",
       "  </thead>\n",
       "  <tbody>\n",
       "    <tr>\n",
       "      <th>0</th>\n",
       "      <td>1</td>\n",
       "      <td>15634602</td>\n",
       "      <td>Hargrave</td>\n",
       "      <td>619</td>\n",
       "      <td>France</td>\n",
       "      <td>Female</td>\n",
       "      <td>42</td>\n",
       "      <td>2.0</td>\n",
       "      <td>0.00</td>\n",
       "      <td>1</td>\n",
       "      <td>1</td>\n",
       "      <td>1</td>\n",
       "      <td>101348.88</td>\n",
       "      <td>1</td>\n",
       "    </tr>\n",
       "    <tr>\n",
       "      <th>1</th>\n",
       "      <td>2</td>\n",
       "      <td>15647311</td>\n",
       "      <td>Hill</td>\n",
       "      <td>608</td>\n",
       "      <td>Spain</td>\n",
       "      <td>Female</td>\n",
       "      <td>41</td>\n",
       "      <td>1.0</td>\n",
       "      <td>83807.86</td>\n",
       "      <td>1</td>\n",
       "      <td>0</td>\n",
       "      <td>1</td>\n",
       "      <td>112542.58</td>\n",
       "      <td>0</td>\n",
       "    </tr>\n",
       "    <tr>\n",
       "      <th>2</th>\n",
       "      <td>3</td>\n",
       "      <td>15619304</td>\n",
       "      <td>Onio</td>\n",
       "      <td>502</td>\n",
       "      <td>France</td>\n",
       "      <td>Female</td>\n",
       "      <td>42</td>\n",
       "      <td>8.0</td>\n",
       "      <td>159660.80</td>\n",
       "      <td>3</td>\n",
       "      <td>1</td>\n",
       "      <td>0</td>\n",
       "      <td>113931.57</td>\n",
       "      <td>1</td>\n",
       "    </tr>\n",
       "    <tr>\n",
       "      <th>3</th>\n",
       "      <td>4</td>\n",
       "      <td>15701354</td>\n",
       "      <td>Boni</td>\n",
       "      <td>699</td>\n",
       "      <td>France</td>\n",
       "      <td>Female</td>\n",
       "      <td>39</td>\n",
       "      <td>1.0</td>\n",
       "      <td>0.00</td>\n",
       "      <td>2</td>\n",
       "      <td>0</td>\n",
       "      <td>0</td>\n",
       "      <td>93826.63</td>\n",
       "      <td>0</td>\n",
       "    </tr>\n",
       "    <tr>\n",
       "      <th>4</th>\n",
       "      <td>5</td>\n",
       "      <td>15737888</td>\n",
       "      <td>Mitchell</td>\n",
       "      <td>850</td>\n",
       "      <td>Spain</td>\n",
       "      <td>Female</td>\n",
       "      <td>43</td>\n",
       "      <td>2.0</td>\n",
       "      <td>125510.82</td>\n",
       "      <td>1</td>\n",
       "      <td>1</td>\n",
       "      <td>1</td>\n",
       "      <td>79084.10</td>\n",
       "      <td>0</td>\n",
       "    </tr>\n",
       "    <tr>\n",
       "      <th>5</th>\n",
       "      <td>6</td>\n",
       "      <td>15574012</td>\n",
       "      <td>Chu</td>\n",
       "      <td>645</td>\n",
       "      <td>Spain</td>\n",
       "      <td>Male</td>\n",
       "      <td>44</td>\n",
       "      <td>8.0</td>\n",
       "      <td>113755.78</td>\n",
       "      <td>2</td>\n",
       "      <td>1</td>\n",
       "      <td>0</td>\n",
       "      <td>149756.71</td>\n",
       "      <td>1</td>\n",
       "    </tr>\n",
       "    <tr>\n",
       "      <th>6</th>\n",
       "      <td>7</td>\n",
       "      <td>15592531</td>\n",
       "      <td>Bartlett</td>\n",
       "      <td>822</td>\n",
       "      <td>France</td>\n",
       "      <td>Male</td>\n",
       "      <td>50</td>\n",
       "      <td>7.0</td>\n",
       "      <td>0.00</td>\n",
       "      <td>2</td>\n",
       "      <td>1</td>\n",
       "      <td>1</td>\n",
       "      <td>10062.80</td>\n",
       "      <td>0</td>\n",
       "    </tr>\n",
       "    <tr>\n",
       "      <th>7</th>\n",
       "      <td>8</td>\n",
       "      <td>15656148</td>\n",
       "      <td>Obinna</td>\n",
       "      <td>376</td>\n",
       "      <td>Germany</td>\n",
       "      <td>Female</td>\n",
       "      <td>29</td>\n",
       "      <td>4.0</td>\n",
       "      <td>115046.74</td>\n",
       "      <td>4</td>\n",
       "      <td>1</td>\n",
       "      <td>0</td>\n",
       "      <td>119346.88</td>\n",
       "      <td>1</td>\n",
       "    </tr>\n",
       "    <tr>\n",
       "      <th>8</th>\n",
       "      <td>9</td>\n",
       "      <td>15792365</td>\n",
       "      <td>He</td>\n",
       "      <td>501</td>\n",
       "      <td>France</td>\n",
       "      <td>Male</td>\n",
       "      <td>44</td>\n",
       "      <td>4.0</td>\n",
       "      <td>142051.07</td>\n",
       "      <td>2</td>\n",
       "      <td>0</td>\n",
       "      <td>1</td>\n",
       "      <td>74940.50</td>\n",
       "      <td>0</td>\n",
       "    </tr>\n",
       "    <tr>\n",
       "      <th>9</th>\n",
       "      <td>10</td>\n",
       "      <td>15592389</td>\n",
       "      <td>H?</td>\n",
       "      <td>684</td>\n",
       "      <td>France</td>\n",
       "      <td>Male</td>\n",
       "      <td>27</td>\n",
       "      <td>2.0</td>\n",
       "      <td>134603.88</td>\n",
       "      <td>1</td>\n",
       "      <td>1</td>\n",
       "      <td>1</td>\n",
       "      <td>71725.73</td>\n",
       "      <td>0</td>\n",
       "    </tr>\n",
       "  </tbody>\n",
       "</table>\n",
       "</div>"
      ],
      "text/plain": [
       "   RowNumber  CustomerId   Surname  CreditScore Geography  Gender  Age  \\\n",
       "0          1    15634602  Hargrave          619    France  Female   42   \n",
       "1          2    15647311      Hill          608     Spain  Female   41   \n",
       "2          3    15619304      Onio          502    France  Female   42   \n",
       "3          4    15701354      Boni          699    France  Female   39   \n",
       "4          5    15737888  Mitchell          850     Spain  Female   43   \n",
       "5          6    15574012       Chu          645     Spain    Male   44   \n",
       "6          7    15592531  Bartlett          822    France    Male   50   \n",
       "7          8    15656148    Obinna          376   Germany  Female   29   \n",
       "8          9    15792365        He          501    France    Male   44   \n",
       "9         10    15592389        H?          684    France    Male   27   \n",
       "\n",
       "   Tenure    Balance  NumOfProducts  HasCrCard  IsActiveMember  \\\n",
       "0     2.0       0.00              1          1               1   \n",
       "1     1.0   83807.86              1          0               1   \n",
       "2     8.0  159660.80              3          1               0   \n",
       "3     1.0       0.00              2          0               0   \n",
       "4     2.0  125510.82              1          1               1   \n",
       "5     8.0  113755.78              2          1               0   \n",
       "6     7.0       0.00              2          1               1   \n",
       "7     4.0  115046.74              4          1               0   \n",
       "8     4.0  142051.07              2          0               1   \n",
       "9     2.0  134603.88              1          1               1   \n",
       "\n",
       "   EstimatedSalary  Exited  \n",
       "0        101348.88       1  \n",
       "1        112542.58       0  \n",
       "2        113931.57       1  \n",
       "3         93826.63       0  \n",
       "4         79084.10       0  \n",
       "5        149756.71       1  \n",
       "6         10062.80       0  \n",
       "7        119346.88       1  \n",
       "8         74940.50       0  \n",
       "9         71725.73       0  "
      ]
     },
     "metadata": {},
     "output_type": "display_data"
    }
   ],
   "source": [
    "# открываем данные\n",
    "df = pd.read_csv('C:/Users/dvpav/Desktop/projects/Обучение с учителем/Churn.csv')\n",
    "display(df.head(10))"
   ]
  },
  {
   "cell_type": "code",
   "execution_count": 6,
   "metadata": {},
   "outputs": [
    {
     "name": "stdout",
     "output_type": "stream",
     "text": [
      "<class 'pandas.core.frame.DataFrame'>\n",
      "RangeIndex: 10000 entries, 0 to 9999\n",
      "Data columns (total 14 columns):\n",
      " #   Column           Non-Null Count  Dtype  \n",
      "---  ------           --------------  -----  \n",
      " 0   RowNumber        10000 non-null  int64  \n",
      " 1   CustomerId       10000 non-null  int64  \n",
      " 2   Surname          10000 non-null  object \n",
      " 3   CreditScore      10000 non-null  int64  \n",
      " 4   Geography        10000 non-null  object \n",
      " 5   Gender           10000 non-null  object \n",
      " 6   Age              10000 non-null  int64  \n",
      " 7   Tenure           9091 non-null   float64\n",
      " 8   Balance          10000 non-null  float64\n",
      " 9   NumOfProducts    10000 non-null  int64  \n",
      " 10  HasCrCard        10000 non-null  int64  \n",
      " 11  IsActiveMember   10000 non-null  int64  \n",
      " 12  EstimatedSalary  10000 non-null  float64\n",
      " 13  Exited           10000 non-null  int64  \n",
      "dtypes: float64(3), int64(8), object(3)\n",
      "memory usage: 1.1+ MB\n"
     ]
    }
   ],
   "source": [
    "df.info()"
   ]
  },
  {
   "cell_type": "markdown",
   "metadata": {},
   "source": [
    "Пропущенные значения имеются только в столбце \"Tenure\". Чтобы не избавляться от 10% данных заменим их на медианное значение, которое более устойчиво к выбросам.  "
   ]
  },
  {
   "cell_type": "code",
   "execution_count": 7,
   "metadata": {},
   "outputs": [
    {
     "data": {
      "text/plain": [
       "RowNumber          0\n",
       "CustomerId         0\n",
       "Surname            0\n",
       "CreditScore        0\n",
       "Geography          0\n",
       "Gender             0\n",
       "Age                0\n",
       "Tenure             0\n",
       "Balance            0\n",
       "NumOfProducts      0\n",
       "HasCrCard          0\n",
       "IsActiveMember     0\n",
       "EstimatedSalary    0\n",
       "Exited             0\n",
       "dtype: int64"
      ]
     },
     "execution_count": 7,
     "metadata": {},
     "output_type": "execute_result"
    }
   ],
   "source": [
    "df['Tenure'] = df['Tenure'].fillna(df['Tenure'].median())\n",
    "df.isnull().sum()"
   ]
  },
  {
   "cell_type": "markdown",
   "metadata": {},
   "source": [
    "Преобразуем в классы столбец \"Gender\" и \"Geography\" путем прямого кодирования, которое подходит для всех наших будущих моделей. Удалим лишние признаки. "
   ]
  },
  {
   "cell_type": "code",
   "execution_count": 8,
   "metadata": {},
   "outputs": [
    {
     "data": {
      "text/html": [
       "<div>\n",
       "<style scoped>\n",
       "    .dataframe tbody tr th:only-of-type {\n",
       "        vertical-align: middle;\n",
       "    }\n",
       "\n",
       "    .dataframe tbody tr th {\n",
       "        vertical-align: top;\n",
       "    }\n",
       "\n",
       "    .dataframe thead th {\n",
       "        text-align: right;\n",
       "    }\n",
       "</style>\n",
       "<table border=\"1\" class=\"dataframe\">\n",
       "  <thead>\n",
       "    <tr style=\"text-align: right;\">\n",
       "      <th></th>\n",
       "      <th>RowNumber</th>\n",
       "      <th>CustomerId</th>\n",
       "      <th>Surname</th>\n",
       "      <th>CreditScore</th>\n",
       "      <th>Geography</th>\n",
       "      <th>Age</th>\n",
       "      <th>Tenure</th>\n",
       "      <th>Balance</th>\n",
       "      <th>NumOfProducts</th>\n",
       "      <th>HasCrCard</th>\n",
       "      <th>IsActiveMember</th>\n",
       "      <th>EstimatedSalary</th>\n",
       "      <th>Exited</th>\n",
       "      <th>Gender_Male</th>\n",
       "    </tr>\n",
       "  </thead>\n",
       "  <tbody>\n",
       "    <tr>\n",
       "      <th>0</th>\n",
       "      <td>1</td>\n",
       "      <td>15634602</td>\n",
       "      <td>Hargrave</td>\n",
       "      <td>619</td>\n",
       "      <td>France</td>\n",
       "      <td>42</td>\n",
       "      <td>2.0</td>\n",
       "      <td>0.00</td>\n",
       "      <td>1</td>\n",
       "      <td>1</td>\n",
       "      <td>1</td>\n",
       "      <td>101348.88</td>\n",
       "      <td>1</td>\n",
       "      <td>0</td>\n",
       "    </tr>\n",
       "    <tr>\n",
       "      <th>1</th>\n",
       "      <td>2</td>\n",
       "      <td>15647311</td>\n",
       "      <td>Hill</td>\n",
       "      <td>608</td>\n",
       "      <td>Spain</td>\n",
       "      <td>41</td>\n",
       "      <td>1.0</td>\n",
       "      <td>83807.86</td>\n",
       "      <td>1</td>\n",
       "      <td>0</td>\n",
       "      <td>1</td>\n",
       "      <td>112542.58</td>\n",
       "      <td>0</td>\n",
       "      <td>0</td>\n",
       "    </tr>\n",
       "    <tr>\n",
       "      <th>2</th>\n",
       "      <td>3</td>\n",
       "      <td>15619304</td>\n",
       "      <td>Onio</td>\n",
       "      <td>502</td>\n",
       "      <td>France</td>\n",
       "      <td>42</td>\n",
       "      <td>8.0</td>\n",
       "      <td>159660.80</td>\n",
       "      <td>3</td>\n",
       "      <td>1</td>\n",
       "      <td>0</td>\n",
       "      <td>113931.57</td>\n",
       "      <td>1</td>\n",
       "      <td>0</td>\n",
       "    </tr>\n",
       "    <tr>\n",
       "      <th>3</th>\n",
       "      <td>4</td>\n",
       "      <td>15701354</td>\n",
       "      <td>Boni</td>\n",
       "      <td>699</td>\n",
       "      <td>France</td>\n",
       "      <td>39</td>\n",
       "      <td>1.0</td>\n",
       "      <td>0.00</td>\n",
       "      <td>2</td>\n",
       "      <td>0</td>\n",
       "      <td>0</td>\n",
       "      <td>93826.63</td>\n",
       "      <td>0</td>\n",
       "      <td>0</td>\n",
       "    </tr>\n",
       "    <tr>\n",
       "      <th>4</th>\n",
       "      <td>5</td>\n",
       "      <td>15737888</td>\n",
       "      <td>Mitchell</td>\n",
       "      <td>850</td>\n",
       "      <td>Spain</td>\n",
       "      <td>43</td>\n",
       "      <td>2.0</td>\n",
       "      <td>125510.82</td>\n",
       "      <td>1</td>\n",
       "      <td>1</td>\n",
       "      <td>1</td>\n",
       "      <td>79084.10</td>\n",
       "      <td>0</td>\n",
       "      <td>0</td>\n",
       "    </tr>\n",
       "    <tr>\n",
       "      <th>5</th>\n",
       "      <td>6</td>\n",
       "      <td>15574012</td>\n",
       "      <td>Chu</td>\n",
       "      <td>645</td>\n",
       "      <td>Spain</td>\n",
       "      <td>44</td>\n",
       "      <td>8.0</td>\n",
       "      <td>113755.78</td>\n",
       "      <td>2</td>\n",
       "      <td>1</td>\n",
       "      <td>0</td>\n",
       "      <td>149756.71</td>\n",
       "      <td>1</td>\n",
       "      <td>1</td>\n",
       "    </tr>\n",
       "    <tr>\n",
       "      <th>6</th>\n",
       "      <td>7</td>\n",
       "      <td>15592531</td>\n",
       "      <td>Bartlett</td>\n",
       "      <td>822</td>\n",
       "      <td>France</td>\n",
       "      <td>50</td>\n",
       "      <td>7.0</td>\n",
       "      <td>0.00</td>\n",
       "      <td>2</td>\n",
       "      <td>1</td>\n",
       "      <td>1</td>\n",
       "      <td>10062.80</td>\n",
       "      <td>0</td>\n",
       "      <td>1</td>\n",
       "    </tr>\n",
       "    <tr>\n",
       "      <th>7</th>\n",
       "      <td>8</td>\n",
       "      <td>15656148</td>\n",
       "      <td>Obinna</td>\n",
       "      <td>376</td>\n",
       "      <td>Germany</td>\n",
       "      <td>29</td>\n",
       "      <td>4.0</td>\n",
       "      <td>115046.74</td>\n",
       "      <td>4</td>\n",
       "      <td>1</td>\n",
       "      <td>0</td>\n",
       "      <td>119346.88</td>\n",
       "      <td>1</td>\n",
       "      <td>0</td>\n",
       "    </tr>\n",
       "    <tr>\n",
       "      <th>8</th>\n",
       "      <td>9</td>\n",
       "      <td>15792365</td>\n",
       "      <td>He</td>\n",
       "      <td>501</td>\n",
       "      <td>France</td>\n",
       "      <td>44</td>\n",
       "      <td>4.0</td>\n",
       "      <td>142051.07</td>\n",
       "      <td>2</td>\n",
       "      <td>0</td>\n",
       "      <td>1</td>\n",
       "      <td>74940.50</td>\n",
       "      <td>0</td>\n",
       "      <td>1</td>\n",
       "    </tr>\n",
       "    <tr>\n",
       "      <th>9</th>\n",
       "      <td>10</td>\n",
       "      <td>15592389</td>\n",
       "      <td>H?</td>\n",
       "      <td>684</td>\n",
       "      <td>France</td>\n",
       "      <td>27</td>\n",
       "      <td>2.0</td>\n",
       "      <td>134603.88</td>\n",
       "      <td>1</td>\n",
       "      <td>1</td>\n",
       "      <td>1</td>\n",
       "      <td>71725.73</td>\n",
       "      <td>0</td>\n",
       "      <td>1</td>\n",
       "    </tr>\n",
       "  </tbody>\n",
       "</table>\n",
       "</div>"
      ],
      "text/plain": [
       "   RowNumber  CustomerId   Surname  CreditScore Geography  Age  Tenure  \\\n",
       "0          1    15634602  Hargrave          619    France   42     2.0   \n",
       "1          2    15647311      Hill          608     Spain   41     1.0   \n",
       "2          3    15619304      Onio          502    France   42     8.0   \n",
       "3          4    15701354      Boni          699    France   39     1.0   \n",
       "4          5    15737888  Mitchell          850     Spain   43     2.0   \n",
       "5          6    15574012       Chu          645     Spain   44     8.0   \n",
       "6          7    15592531  Bartlett          822    France   50     7.0   \n",
       "7          8    15656148    Obinna          376   Germany   29     4.0   \n",
       "8          9    15792365        He          501    France   44     4.0   \n",
       "9         10    15592389        H?          684    France   27     2.0   \n",
       "\n",
       "     Balance  NumOfProducts  HasCrCard  IsActiveMember  EstimatedSalary  \\\n",
       "0       0.00              1          1               1        101348.88   \n",
       "1   83807.86              1          0               1        112542.58   \n",
       "2  159660.80              3          1               0        113931.57   \n",
       "3       0.00              2          0               0         93826.63   \n",
       "4  125510.82              1          1               1         79084.10   \n",
       "5  113755.78              2          1               0        149756.71   \n",
       "6       0.00              2          1               1         10062.80   \n",
       "7  115046.74              4          1               0        119346.88   \n",
       "8  142051.07              2          0               1         74940.50   \n",
       "9  134603.88              1          1               1         71725.73   \n",
       "\n",
       "   Exited  Gender_Male  \n",
       "0       1            0  \n",
       "1       0            0  \n",
       "2       1            0  \n",
       "3       0            0  \n",
       "4       0            0  \n",
       "5       1            1  \n",
       "6       0            1  \n",
       "7       1            0  \n",
       "8       0            1  \n",
       "9       0            1  "
      ]
     },
     "metadata": {},
     "output_type": "display_data"
    }
   ],
   "source": [
    "df = pd.get_dummies(df, columns=['Gender'], drop_first=True)\n",
    "\n",
    "display(df.head(10))\n"
   ]
  },
  {
   "cell_type": "code",
   "execution_count": 9,
   "metadata": {},
   "outputs": [
    {
     "data": {
      "text/plain": [
       "France     5014\n",
       "Germany    2509\n",
       "Spain      2477\n",
       "Name: Geography, dtype: int64"
      ]
     },
     "metadata": {},
     "output_type": "display_data"
    },
    {
     "data": {
      "text/html": [
       "<div>\n",
       "<style scoped>\n",
       "    .dataframe tbody tr th:only-of-type {\n",
       "        vertical-align: middle;\n",
       "    }\n",
       "\n",
       "    .dataframe tbody tr th {\n",
       "        vertical-align: top;\n",
       "    }\n",
       "\n",
       "    .dataframe thead th {\n",
       "        text-align: right;\n",
       "    }\n",
       "</style>\n",
       "<table border=\"1\" class=\"dataframe\">\n",
       "  <thead>\n",
       "    <tr style=\"text-align: right;\">\n",
       "      <th></th>\n",
       "      <th>RowNumber</th>\n",
       "      <th>CustomerId</th>\n",
       "      <th>Surname</th>\n",
       "      <th>CreditScore</th>\n",
       "      <th>Age</th>\n",
       "      <th>Tenure</th>\n",
       "      <th>Balance</th>\n",
       "      <th>NumOfProducts</th>\n",
       "      <th>HasCrCard</th>\n",
       "      <th>IsActiveMember</th>\n",
       "      <th>EstimatedSalary</th>\n",
       "      <th>Exited</th>\n",
       "      <th>Gender_Male</th>\n",
       "      <th>Geography_Germany</th>\n",
       "      <th>Geography_Spain</th>\n",
       "    </tr>\n",
       "  </thead>\n",
       "  <tbody>\n",
       "    <tr>\n",
       "      <th>0</th>\n",
       "      <td>1</td>\n",
       "      <td>15634602</td>\n",
       "      <td>Hargrave</td>\n",
       "      <td>619</td>\n",
       "      <td>42</td>\n",
       "      <td>2.0</td>\n",
       "      <td>0.00</td>\n",
       "      <td>1</td>\n",
       "      <td>1</td>\n",
       "      <td>1</td>\n",
       "      <td>101348.88</td>\n",
       "      <td>1</td>\n",
       "      <td>0</td>\n",
       "      <td>0</td>\n",
       "      <td>0</td>\n",
       "    </tr>\n",
       "    <tr>\n",
       "      <th>1</th>\n",
       "      <td>2</td>\n",
       "      <td>15647311</td>\n",
       "      <td>Hill</td>\n",
       "      <td>608</td>\n",
       "      <td>41</td>\n",
       "      <td>1.0</td>\n",
       "      <td>83807.86</td>\n",
       "      <td>1</td>\n",
       "      <td>0</td>\n",
       "      <td>1</td>\n",
       "      <td>112542.58</td>\n",
       "      <td>0</td>\n",
       "      <td>0</td>\n",
       "      <td>0</td>\n",
       "      <td>1</td>\n",
       "    </tr>\n",
       "    <tr>\n",
       "      <th>2</th>\n",
       "      <td>3</td>\n",
       "      <td>15619304</td>\n",
       "      <td>Onio</td>\n",
       "      <td>502</td>\n",
       "      <td>42</td>\n",
       "      <td>8.0</td>\n",
       "      <td>159660.80</td>\n",
       "      <td>3</td>\n",
       "      <td>1</td>\n",
       "      <td>0</td>\n",
       "      <td>113931.57</td>\n",
       "      <td>1</td>\n",
       "      <td>0</td>\n",
       "      <td>0</td>\n",
       "      <td>0</td>\n",
       "    </tr>\n",
       "    <tr>\n",
       "      <th>3</th>\n",
       "      <td>4</td>\n",
       "      <td>15701354</td>\n",
       "      <td>Boni</td>\n",
       "      <td>699</td>\n",
       "      <td>39</td>\n",
       "      <td>1.0</td>\n",
       "      <td>0.00</td>\n",
       "      <td>2</td>\n",
       "      <td>0</td>\n",
       "      <td>0</td>\n",
       "      <td>93826.63</td>\n",
       "      <td>0</td>\n",
       "      <td>0</td>\n",
       "      <td>0</td>\n",
       "      <td>0</td>\n",
       "    </tr>\n",
       "    <tr>\n",
       "      <th>4</th>\n",
       "      <td>5</td>\n",
       "      <td>15737888</td>\n",
       "      <td>Mitchell</td>\n",
       "      <td>850</td>\n",
       "      <td>43</td>\n",
       "      <td>2.0</td>\n",
       "      <td>125510.82</td>\n",
       "      <td>1</td>\n",
       "      <td>1</td>\n",
       "      <td>1</td>\n",
       "      <td>79084.10</td>\n",
       "      <td>0</td>\n",
       "      <td>0</td>\n",
       "      <td>0</td>\n",
       "      <td>1</td>\n",
       "    </tr>\n",
       "    <tr>\n",
       "      <th>5</th>\n",
       "      <td>6</td>\n",
       "      <td>15574012</td>\n",
       "      <td>Chu</td>\n",
       "      <td>645</td>\n",
       "      <td>44</td>\n",
       "      <td>8.0</td>\n",
       "      <td>113755.78</td>\n",
       "      <td>2</td>\n",
       "      <td>1</td>\n",
       "      <td>0</td>\n",
       "      <td>149756.71</td>\n",
       "      <td>1</td>\n",
       "      <td>1</td>\n",
       "      <td>0</td>\n",
       "      <td>1</td>\n",
       "    </tr>\n",
       "    <tr>\n",
       "      <th>6</th>\n",
       "      <td>7</td>\n",
       "      <td>15592531</td>\n",
       "      <td>Bartlett</td>\n",
       "      <td>822</td>\n",
       "      <td>50</td>\n",
       "      <td>7.0</td>\n",
       "      <td>0.00</td>\n",
       "      <td>2</td>\n",
       "      <td>1</td>\n",
       "      <td>1</td>\n",
       "      <td>10062.80</td>\n",
       "      <td>0</td>\n",
       "      <td>1</td>\n",
       "      <td>0</td>\n",
       "      <td>0</td>\n",
       "    </tr>\n",
       "    <tr>\n",
       "      <th>7</th>\n",
       "      <td>8</td>\n",
       "      <td>15656148</td>\n",
       "      <td>Obinna</td>\n",
       "      <td>376</td>\n",
       "      <td>29</td>\n",
       "      <td>4.0</td>\n",
       "      <td>115046.74</td>\n",
       "      <td>4</td>\n",
       "      <td>1</td>\n",
       "      <td>0</td>\n",
       "      <td>119346.88</td>\n",
       "      <td>1</td>\n",
       "      <td>0</td>\n",
       "      <td>1</td>\n",
       "      <td>0</td>\n",
       "    </tr>\n",
       "    <tr>\n",
       "      <th>8</th>\n",
       "      <td>9</td>\n",
       "      <td>15792365</td>\n",
       "      <td>He</td>\n",
       "      <td>501</td>\n",
       "      <td>44</td>\n",
       "      <td>4.0</td>\n",
       "      <td>142051.07</td>\n",
       "      <td>2</td>\n",
       "      <td>0</td>\n",
       "      <td>1</td>\n",
       "      <td>74940.50</td>\n",
       "      <td>0</td>\n",
       "      <td>1</td>\n",
       "      <td>0</td>\n",
       "      <td>0</td>\n",
       "    </tr>\n",
       "    <tr>\n",
       "      <th>9</th>\n",
       "      <td>10</td>\n",
       "      <td>15592389</td>\n",
       "      <td>H?</td>\n",
       "      <td>684</td>\n",
       "      <td>27</td>\n",
       "      <td>2.0</td>\n",
       "      <td>134603.88</td>\n",
       "      <td>1</td>\n",
       "      <td>1</td>\n",
       "      <td>1</td>\n",
       "      <td>71725.73</td>\n",
       "      <td>0</td>\n",
       "      <td>1</td>\n",
       "      <td>0</td>\n",
       "      <td>0</td>\n",
       "    </tr>\n",
       "  </tbody>\n",
       "</table>\n",
       "</div>"
      ],
      "text/plain": [
       "   RowNumber  CustomerId   Surname  CreditScore  Age  Tenure    Balance  \\\n",
       "0          1    15634602  Hargrave          619   42     2.0       0.00   \n",
       "1          2    15647311      Hill          608   41     1.0   83807.86   \n",
       "2          3    15619304      Onio          502   42     8.0  159660.80   \n",
       "3          4    15701354      Boni          699   39     1.0       0.00   \n",
       "4          5    15737888  Mitchell          850   43     2.0  125510.82   \n",
       "5          6    15574012       Chu          645   44     8.0  113755.78   \n",
       "6          7    15592531  Bartlett          822   50     7.0       0.00   \n",
       "7          8    15656148    Obinna          376   29     4.0  115046.74   \n",
       "8          9    15792365        He          501   44     4.0  142051.07   \n",
       "9         10    15592389        H?          684   27     2.0  134603.88   \n",
       "\n",
       "   NumOfProducts  HasCrCard  IsActiveMember  EstimatedSalary  Exited  \\\n",
       "0              1          1               1        101348.88       1   \n",
       "1              1          0               1        112542.58       0   \n",
       "2              3          1               0        113931.57       1   \n",
       "3              2          0               0         93826.63       0   \n",
       "4              1          1               1         79084.10       0   \n",
       "5              2          1               0        149756.71       1   \n",
       "6              2          1               1         10062.80       0   \n",
       "7              4          1               0        119346.88       1   \n",
       "8              2          0               1         74940.50       0   \n",
       "9              1          1               1         71725.73       0   \n",
       "\n",
       "   Gender_Male  Geography_Germany  Geography_Spain  \n",
       "0            0                  0                0  \n",
       "1            0                  0                1  \n",
       "2            0                  0                0  \n",
       "3            0                  0                0  \n",
       "4            0                  0                1  \n",
       "5            1                  0                1  \n",
       "6            1                  0                0  \n",
       "7            0                  1                0  \n",
       "8            1                  0                0  \n",
       "9            1                  0                0  "
      ]
     },
     "metadata": {},
     "output_type": "display_data"
    }
   ],
   "source": [
    "display(df['Geography'].value_counts())\n",
    "\n",
    "df = pd.get_dummies(df, columns=['Geography'], drop_first=True)\n",
    "\n",
    "display(df.head(10))"
   ]
  },
  {
   "cell_type": "code",
   "execution_count": 10,
   "metadata": {},
   "outputs": [
    {
     "name": "stdout",
     "output_type": "stream",
     "text": [
      "<class 'pandas.core.frame.DataFrame'>\n",
      "RangeIndex: 10000 entries, 0 to 9999\n",
      "Data columns (total 15 columns):\n",
      " #   Column             Non-Null Count  Dtype  \n",
      "---  ------             --------------  -----  \n",
      " 0   RowNumber          10000 non-null  int64  \n",
      " 1   CustomerId         10000 non-null  int64  \n",
      " 2   Surname            10000 non-null  object \n",
      " 3   CreditScore        10000 non-null  int64  \n",
      " 4   Age                10000 non-null  int64  \n",
      " 5   Tenure             10000 non-null  float64\n",
      " 6   Balance            10000 non-null  float64\n",
      " 7   NumOfProducts      10000 non-null  int64  \n",
      " 8   HasCrCard          10000 non-null  int64  \n",
      " 9   IsActiveMember     10000 non-null  int64  \n",
      " 10  EstimatedSalary    10000 non-null  float64\n",
      " 11  Exited             10000 non-null  float64\n",
      " 12  Gender_Male        10000 non-null  float64\n",
      " 13  Geography_Germany  10000 non-null  float64\n",
      " 14  Geography_Spain    10000 non-null  float64\n",
      "dtypes: float64(7), int64(7), object(1)\n",
      "memory usage: 1.1+ MB\n"
     ]
    },
    {
     "name": "stderr",
     "output_type": "stream",
     "text": [
      "C:\\Users\\dvpav\\AppData\\Local\\Temp/ipykernel_7364/4080508757.py:2: DeprecationWarning: `np.float` is a deprecated alias for the builtin `float`. To silence this warning, use `float` by itself. Doing this will not modify any behavior and is safe. If you specifically wanted the numpy scalar type, use `np.float64` here.\n",
      "Deprecated in NumPy 1.20; for more details and guidance: https://numpy.org/devdocs/release/1.20.0-notes.html#deprecations\n",
      "  df['Geography_Germany'] = df['Geography_Germany'].astype(np.float)\n",
      "C:\\Users\\dvpav\\AppData\\Local\\Temp/ipykernel_7364/4080508757.py:3: DeprecationWarning: `np.float` is a deprecated alias for the builtin `float`. To silence this warning, use `float` by itself. Doing this will not modify any behavior and is safe. If you specifically wanted the numpy scalar type, use `np.float64` here.\n",
      "Deprecated in NumPy 1.20; for more details and guidance: https://numpy.org/devdocs/release/1.20.0-notes.html#deprecations\n",
      "  df['Geography_Spain'] = df['Geography_Spain'].astype(np.float)\n",
      "C:\\Users\\dvpav\\AppData\\Local\\Temp/ipykernel_7364/4080508757.py:4: DeprecationWarning: `np.float` is a deprecated alias for the builtin `float`. To silence this warning, use `float` by itself. Doing this will not modify any behavior and is safe. If you specifically wanted the numpy scalar type, use `np.float64` here.\n",
      "Deprecated in NumPy 1.20; for more details and guidance: https://numpy.org/devdocs/release/1.20.0-notes.html#deprecations\n",
      "  df['Gender_Male'] = df['Gender_Male'].astype(np.float)\n",
      "C:\\Users\\dvpav\\AppData\\Local\\Temp/ipykernel_7364/4080508757.py:5: DeprecationWarning: `np.float` is a deprecated alias for the builtin `float`. To silence this warning, use `float` by itself. Doing this will not modify any behavior and is safe. If you specifically wanted the numpy scalar type, use `np.float64` here.\n",
      "Deprecated in NumPy 1.20; for more details and guidance: https://numpy.org/devdocs/release/1.20.0-notes.html#deprecations\n",
      "  df['Exited'] = df['Exited'].astype(np.float)\n"
     ]
    }
   ],
   "source": [
    "# изменим типы данных на int\n",
    "df['Geography_Germany'] = df['Geography_Germany'].astype(np.float)\n",
    "df['Geography_Spain'] = df['Geography_Spain'].astype(np.float)\n",
    "df['Gender_Male'] = df['Gender_Male'].astype(np.float)\n",
    "df['Exited'] = df['Exited'].astype(np.float)\n",
    "\n",
    "df.info()"
   ]
  },
  {
   "cell_type": "code",
   "execution_count": 11,
   "metadata": {},
   "outputs": [],
   "source": [
    "df = df.drop(['RowNumber','Surname', 'CustomerId'], axis=1)\n"
   ]
  },
  {
   "cell_type": "markdown",
   "metadata": {},
   "source": [
    "## Исследование задачи"
   ]
  },
  {
   "cell_type": "markdown",
   "metadata": {},
   "source": [
    "Посмотрим количество клиентов, ушедших и оставшихся в банке:"
   ]
  },
  {
   "cell_type": "code",
   "execution_count": 12,
   "metadata": {},
   "outputs": [
    {
     "data": {
      "text/plain": [
       "0.0    7963\n",
       "1.0    2037\n",
       "Name: Exited, dtype: int64"
      ]
     },
     "metadata": {},
     "output_type": "display_data"
    }
   ],
   "source": [
    "display(df['Exited'].value_counts())"
   ]
  },
  {
   "cell_type": "markdown",
   "metadata": {},
   "source": [
    "Имеется дисбаланс классов, так как количество ушедших и оставшихся в банке клиентов далеко от соотношения 1:1, фактически 1:4."
   ]
  },
  {
   "cell_type": "code",
   "execution_count": 13,
   "metadata": {},
   "outputs": [
    {
     "data": {
      "image/png": "[encoded data removed]",
      "text/plain": [
       "<Figure size 432x288 with 1 Axes>"
      ]
     },
     "metadata": {},
     "output_type": "display_data"
    }
   ],
   "source": [
    "sns.countplot(x='Exited', data=df, palette='hls')\n",
    "plt.show()"
   ]
  },
  {
   "cell_type": "markdown",
   "metadata": {},
   "source": [
    "Разобьем выборку на тренировочную, валидационную и тестовую\n"
   ]
  },
  {
   "cell_type": "code",
   "execution_count": 14,
   "metadata": {},
   "outputs": [],
   "source": [
    "# разобьем выборку на тренировочную, валидационную и тестовую\n",
    "features = df.drop('Exited', axis=1)\n",
    "target = df['Exited']\n",
    "\n",
    "features_train, features_valid, target_train, target_valid = train_test_split(features, target, test_size = 0.4, random_state=12345)\n",
    "# разбиваем оставшиеся 40% данных пополам (по 20%) на валидационную и тестовую\n",
    "features_valid, features_test, target_valid, target_test = train_test_split(features_valid, target_valid, test_size=0.5, random_state=12345)"
   ]
  },
  {
   "cell_type": "code",
   "execution_count": 15,
   "metadata": {},
   "outputs": [],
   "source": [
    "def function_name(model, features_train, target_train, features_valid, target_valid, threshold=0.5):\n",
    "    THRESHOLD = threshold\n",
    "    model.fit(features_train, target_train)\n",
    "    probabilities_valid = model.predict_proba(features_valid)\n",
    "    probabilities_one_valid = probabilities_valid[:,1]  \n",
    "    predicted_valid = probabilities_one_valid > threshold\n",
    "    f1 = f1_score(target_valid, predicted_valid)\n",
    "    display('F1-мера, объединяющая полноту и точность, составила:', f1)\n",
    "    display('Построим матрицу ошибок:')\n",
    "    array_confusion_matrix = confusion_matrix(target_valid, predicted_valid)\n",
    "    array_confusion_matrix_errors = array_confusion_matrix[0][1] + array_confusion_matrix[1][0]\n",
    "    array_confusion_matrix_true = array_confusion_matrix[0][0] +  array_confusion_matrix[1][1]\n",
    "    display(array_confusion_matrix)\n",
    "    display('Ошибочных предсказаний', array_confusion_matrix_errors, \n",
    "            'Верных предсказаний', array_confusion_matrix_true, \n",
    "            'В', array_confusion_matrix_errors * 100 / array_confusion_matrix_true, '% случаев модель ошибается.')\n",
    "    \n",
    "    fp2, tp2, thresholds = roc_curve(target_valid, probabilities_one_valid)\n",
    "    auc = roc_auc_score(target_valid, probabilities_one_valid)\n",
    "    display ('ROC-AUC =', auc)\n",
    "    display('Построим ROC-кривую:')\n",
    "    plt.figure()\n",
    "    plt.plot(fp2, tp2)\n",
    "    plt.xlim([0.0, 1.0])\n",
    "    plt.ylim([0.0, 1.0])\n",
    "    plt.xlabel('False Positive Rate')\n",
    "    plt.ylabel('True Positive Rate')\n",
    "    plt.title('ROC-кривая')\n",
    "    plt.plot([0,1], [0,1], linestyle='--')\n",
    "    plt.show()\n",
    "    return f1, auc"
   ]
  },
  {
   "cell_type": "markdown",
   "metadata": {},
   "source": [
    "### Логистическая регрессия"
   ]
  },
  {
   "cell_type": "markdown",
   "metadata": {},
   "source": [
    "Обучим модель без учёта дисбаланса."
   ]
  },
  {
   "cell_type": "code",
   "execution_count": 16,
   "metadata": {},
   "outputs": [
    {
     "data": {
      "text/plain": [
       "'F1-мера, объединяющая полноту и точность, составила:'"
      ]
     },
     "metadata": {},
     "output_type": "display_data"
    },
    {
     "data": {
      "text/plain": [
       "0.08385744234800838"
      ]
     },
     "metadata": {},
     "output_type": "display_data"
    },
    {
     "data": {
      "text/plain": [
       "'Построим матрицу ошибок:'"
      ]
     },
     "metadata": {},
     "output_type": "display_data"
    },
    {
     "data": {
      "text/plain": [
       "array([[1543,   39],\n",
       "       [ 398,   20]], dtype=int64)"
      ]
     },
     "metadata": {},
     "output_type": "display_data"
    },
    {
     "data": {
      "text/plain": [
       "'Ошибочных предсказаний'"
      ]
     },
     "metadata": {},
     "output_type": "display_data"
    },
    {
     "data": {
      "text/plain": [
       "437"
      ]
     },
     "metadata": {},
     "output_type": "display_data"
    },
    {
     "data": {
      "text/plain": [
       "'Верных предсказаний'"
      ]
     },
     "metadata": {},
     "output_type": "display_data"
    },
    {
     "data": {
      "text/plain": [
       "1563"
      ]
     },
     "metadata": {},
     "output_type": "display_data"
    },
    {
     "data": {
      "text/plain": [
       "'В'"
      ]
     },
     "metadata": {},
     "output_type": "display_data"
    },
    {
     "data": {
      "text/plain": [
       "27.959053103007037"
      ]
     },
     "metadata": {},
     "output_type": "display_data"
    },
    {
     "data": {
      "text/plain": [
       "'% случаев модель ошибается.'"
      ]
     },
     "metadata": {},
     "output_type": "display_data"
    },
    {
     "data": {
      "text/plain": [
       "'ROC-AUC ='"
      ]
     },
     "metadata": {},
     "output_type": "display_data"
    },
    {
     "data": {
      "text/plain": [
       "0.6727947180904797"
      ]
     },
     "metadata": {},
     "output_type": "display_data"
    },
    {
     "data": {
      "text/plain": [
       "'Построим ROC-кривую:'"
      ]
     },
     "metadata": {},
     "output_type": "display_data"
    },
    {
     "data": {
      "image/png": "[encoded data removed]",
      "text/plain": [
       "<Figure size 432x288 with 1 Axes>"
      ]
     },
     "metadata": {},
     "output_type": "display_data"
    }
   ],
   "source": [
    "model = LogisticRegression(random_state=12345, solver='liblinear')\n",
    "f1_LR_unbalanced, auc_LR_unbalanced = function_name(model, features_train, target_train, features_valid, target_valid)"
   ]
  },
  {
   "cell_type": "markdown",
   "metadata": {},
   "source": [
    "### Случайный лес"
   ]
  },
  {
   "cell_type": "code",
   "execution_count": 17,
   "metadata": {},
   "outputs": [
    {
     "data": {
      "text/plain": [
       "'F1-мера, объединяющая полноту и точность, составила:'"
      ]
     },
     "metadata": {},
     "output_type": "display_data"
    },
    {
     "data": {
      "text/plain": [
       "0.575712143928036"
      ]
     },
     "metadata": {},
     "output_type": "display_data"
    },
    {
     "data": {
      "text/plain": [
       "'Построим матрицу ошибок:'"
      ]
     },
     "metadata": {},
     "output_type": "display_data"
    },
    {
     "data": {
      "text/plain": [
       "array([[1525,   57],\n",
       "       [ 226,  192]], dtype=int64)"
      ]
     },
     "metadata": {},
     "output_type": "display_data"
    },
    {
     "data": {
      "text/plain": [
       "'Ошибочных предсказаний'"
      ]
     },
     "metadata": {},
     "output_type": "display_data"
    },
    {
     "data": {
      "text/plain": [
       "283"
      ]
     },
     "metadata": {},
     "output_type": "display_data"
    },
    {
     "data": {
      "text/plain": [
       "'Верных предсказаний'"
      ]
     },
     "metadata": {},
     "output_type": "display_data"
    },
    {
     "data": {
      "text/plain": [
       "1717"
      ]
     },
     "metadata": {},
     "output_type": "display_data"
    },
    {
     "data": {
      "text/plain": [
       "'В'"
      ]
     },
     "metadata": {},
     "output_type": "display_data"
    },
    {
     "data": {
      "text/plain": [
       "16.48223645894001"
      ]
     },
     "metadata": {},
     "output_type": "display_data"
    },
    {
     "data": {
      "text/plain": [
       "'% случаев модель ошибается.'"
      ]
     },
     "metadata": {},
     "output_type": "display_data"
    },
    {
     "data": {
      "text/plain": [
       "'ROC-AUC ='"
      ]
     },
     "metadata": {},
     "output_type": "display_data"
    },
    {
     "data": {
      "text/plain": [
       "0.8433052159763852"
      ]
     },
     "metadata": {},
     "output_type": "display_data"
    },
    {
     "data": {
      "text/plain": [
       "'Построим ROC-кривую:'"
      ]
     },
     "metadata": {},
     "output_type": "display_data"
    },
    {
     "data": {
      "image/png": "[encoded data removed]",
      "text/plain": [
       "<Figure size 432x288 with 1 Axes>"
      ]
     },
     "metadata": {},
     "output_type": "display_data"
    }
   ],
   "source": [
    "model = RandomForestClassifier(random_state=12345)\n",
    "f1_RF_unbalanced, auc_RF_unbalanced = function_name(model, features_train, target_train, features_valid, target_valid)"
   ]
  },
  {
   "cell_type": "markdown",
   "metadata": {},
   "source": [
    "## Борьба с дисбалансом"
   ]
  },
  {
   "cell_type": "markdown",
   "metadata": {},
   "source": [
    "Сбалансируем данные и проверим качество прогноза на той же модели:"
   ]
  },
  {
   "cell_type": "code",
   "execution_count": 18,
   "metadata": {},
   "outputs": [],
   "source": [
    "# увеличим выборку за счет сравнения класса \"1\" с классом \"0\"\n",
    "def upsample(features, taret, repeat):\n",
    "    features_zeroes = features_train[target_train == 0]\n",
    "    features_ones = features_train[target_train == 1]\n",
    "    target_zeroes = target_train[target_train == 0]\n",
    "    target_ones = target_train[target_train == 1]\n",
    "    features_upsampled = pd.concat([features_zeroes] + [features_ones] * repeat)\n",
    "    target_upsampled = pd.concat([target_zeroes] + [target_ones] * repeat)\n",
    "    features_upsampled, target_upsampled = shuffle(features_upsampled, target_upsampled, random_state=12345)\n",
    "    return features_upsampled, target_upsampled"
   ]
  },
  {
   "cell_type": "code",
   "execution_count": 19,
   "metadata": {},
   "outputs": [],
   "source": [
    "features_upsampled, target_upsampled = upsample(features_train, target_train, 4)"
   ]
  },
  {
   "cell_type": "markdown",
   "metadata": {},
   "source": [
    "### Логистическая регрессия"
   ]
  },
  {
   "cell_type": "code",
   "execution_count": 20,
   "metadata": {},
   "outputs": [
    {
     "name": "stdout",
     "output_type": "stream",
     "text": [
      "Порог= 0.20999999999999996 F1= 0.4161290322580646 ROC-AUC= 0.6727947180904797\n"
     ]
    }
   ],
   "source": [
    "# подберем порог классификации на новой тренировочной выборке\n",
    "result_f1_lg = 0\n",
    "threshold_f1_lg = 0\n",
    "best_model_lg = None\n",
    "auc = 0\n",
    "model = LogisticRegression(random_state=12345, solver='liblinear')\n",
    "model.fit(features_train, target_train)\n",
    "\n",
    "probabilities_valid = model.predict_proba(features_valid)\n",
    "probabilities_one_valid = probabilities_valid[:,1]\n",
    "auc_lg = roc_auc_score(target_valid, probabilities_one_valid)\n",
    "    \n",
    "for thershold in np.arange(0.01, 0.99, 0.02):\n",
    "    predicted_valid = probabilities_one_valid > thershold\n",
    "    f1 = f1_score(target_valid, predicted_valid)\n",
    "    if result_f1_lg < f1:\n",
    "        result_f1_lg = f1\n",
    "        threshold_f1_lg = thershold\n",
    "        best_model_lg = model \n",
    "        auc = auc_lg\n",
    "print(\"Порог=\", threshold_f1_lg, \"F1=\", result_f1_lg, \"ROC-AUC=\", auc)    "
   ]
  },
  {
   "cell_type": "code",
   "execution_count": 21,
   "metadata": {},
   "outputs": [
    {
     "name": "stdout",
     "output_type": "stream",
     "text": [
      "Порог= 0.5499999999999999 F1= 0.4655493482309125 ROC-AUC= 0.7203860415318263\n"
     ]
    }
   ],
   "source": [
    "# подберем порог классификации на увеличенной выборке при взвешивании классов\n",
    "result_f1_lg = 0\n",
    "threshold_f1_lg = 0\n",
    "best_model_lg = None\n",
    "auc = 0\n",
    "\n",
    "model = LogisticRegression(random_state=12345, solver='liblinear', class_weight='balanced')\n",
    "model.fit(features_upsampled, target_upsampled)\n",
    "\n",
    "probabilities_valid = model.predict_proba(features_valid)\n",
    "probabilities_one_valid = probabilities_valid[:,1]\n",
    "auc_lg = roc_auc_score(target_valid, probabilities_one_valid)\n",
    "\n",
    "for thershold in np.arange(0.01, 0.99, 0.02):\n",
    "    predicted_valid = probabilities_one_valid > thershold\n",
    "    f1 = f1_score(target_valid, predicted_valid)\n",
    "    \n",
    "    if result_f1_lg < f1:\n",
    "        result_f1_lg = f1\n",
    "        threshold_f1_lg = thershold\n",
    "        best_model_lg = model \n",
    "        auc = auc_lg\n",
    "print(\"Порог=\", threshold_f1_lg, \"F1=\", result_f1_lg, \"ROC-AUC=\", auc)  "
   ]
  },
  {
   "cell_type": "code",
   "execution_count": 22,
   "metadata": {},
   "outputs": [
    {
     "data": {
      "text/plain": [
       "'F1-мера, объединяющая полноту и точность, составила:'"
      ]
     },
     "metadata": {},
     "output_type": "display_data"
    },
    {
     "data": {
      "text/plain": [
       "0.4505183788878417"
      ]
     },
     "metadata": {},
     "output_type": "display_data"
    },
    {
     "data": {
      "text/plain": [
       "'Построим матрицу ошибок:'"
      ]
     },
     "metadata": {},
     "output_type": "display_data"
    },
    {
     "data": {
      "text/plain": [
       "array([[1178,  404],\n",
       "       [ 179,  239]], dtype=int64)"
      ]
     },
     "metadata": {},
     "output_type": "display_data"
    },
    {
     "data": {
      "text/plain": [
       "'Ошибочных предсказаний'"
      ]
     },
     "metadata": {},
     "output_type": "display_data"
    },
    {
     "data": {
      "text/plain": [
       "583"
      ]
     },
     "metadata": {},
     "output_type": "display_data"
    },
    {
     "data": {
      "text/plain": [
       "'Верных предсказаний'"
      ]
     },
     "metadata": {},
     "output_type": "display_data"
    },
    {
     "data": {
      "text/plain": [
       "1417"
      ]
     },
     "metadata": {},
     "output_type": "display_data"
    },
    {
     "data": {
      "text/plain": [
       "'В'"
      ]
     },
     "metadata": {},
     "output_type": "display_data"
    },
    {
     "data": {
      "text/plain": [
       "41.14326040931545"
      ]
     },
     "metadata": {},
     "output_type": "display_data"
    },
    {
     "data": {
      "text/plain": [
       "'% случаев модель ошибается.'"
      ]
     },
     "metadata": {},
     "output_type": "display_data"
    },
    {
     "data": {
      "text/plain": [
       "'ROC-AUC ='"
      ]
     },
     "metadata": {},
     "output_type": "display_data"
    },
    {
     "data": {
      "text/plain": [
       "0.7132694971539871"
      ]
     },
     "metadata": {},
     "output_type": "display_data"
    },
    {
     "data": {
      "text/plain": [
       "'Построим ROC-кривую:'"
      ]
     },
     "metadata": {},
     "output_type": "display_data"
    },
    {
     "data": {
      "image/png": "[encoded data removed]",
      "text/plain": [
       "<Figure size 432x288 with 1 Axes>"
      ]
     },
     "metadata": {},
     "output_type": "display_data"
    }
   ],
   "source": [
    "model = LogisticRegression(random_state=12345, class_weight='balanced')\n",
    "f1_LR_all_param, auc_LR_all_param = function_name(model, features_upsampled, target_upsampled, features_valid, target_valid, 0.5499999999999999)"
   ]
  },
  {
   "cell_type": "markdown",
   "metadata": {},
   "source": [
    "Попробуем каждый параметр использовать по отдельности и сравнить результат:"
   ]
  },
  {
   "cell_type": "markdown",
   "metadata": {},
   "source": [
    "#### Взвешивание классов "
   ]
  },
  {
   "cell_type": "code",
   "execution_count": 23,
   "metadata": {},
   "outputs": [
    {
     "data": {
      "text/plain": [
       "'F1-мера, объединяющая полноту и точность, составила:'"
      ]
     },
     "metadata": {},
     "output_type": "display_data"
    },
    {
     "data": {
      "text/plain": [
       "0.44709626093874305"
      ]
     },
     "metadata": {},
     "output_type": "display_data"
    },
    {
     "data": {
      "text/plain": [
       "'Построим матрицу ошибок:'"
      ]
     },
     "metadata": {},
     "output_type": "display_data"
    },
    {
     "data": {
      "text/plain": [
       "array([[1024,  558],\n",
       "       [ 137,  281]], dtype=int64)"
      ]
     },
     "metadata": {},
     "output_type": "display_data"
    },
    {
     "data": {
      "text/plain": [
       "'Ошибочных предсказаний'"
      ]
     },
     "metadata": {},
     "output_type": "display_data"
    },
    {
     "data": {
      "text/plain": [
       "695"
      ]
     },
     "metadata": {},
     "output_type": "display_data"
    },
    {
     "data": {
      "text/plain": [
       "'Верных предсказаний'"
      ]
     },
     "metadata": {},
     "output_type": "display_data"
    },
    {
     "data": {
      "text/plain": [
       "1305"
      ]
     },
     "metadata": {},
     "output_type": "display_data"
    },
    {
     "data": {
      "text/plain": [
       "'В'"
      ]
     },
     "metadata": {},
     "output_type": "display_data"
    },
    {
     "data": {
      "text/plain": [
       "53.25670498084291"
      ]
     },
     "metadata": {},
     "output_type": "display_data"
    },
    {
     "data": {
      "text/plain": [
       "'% случаев модель ошибается.'"
      ]
     },
     "metadata": {},
     "output_type": "display_data"
    },
    {
     "data": {
      "text/plain": [
       "'ROC-AUC ='"
      ]
     },
     "metadata": {},
     "output_type": "display_data"
    },
    {
     "data": {
      "text/plain": [
       "0.7132694971539871"
      ]
     },
     "metadata": {},
     "output_type": "display_data"
    },
    {
     "data": {
      "text/plain": [
       "'Построим ROC-кривую:'"
      ]
     },
     "metadata": {},
     "output_type": "display_data"
    },
    {
     "data": {
      "image/png": "[encoded data removed]",
      "text/plain": [
       "<Figure size 432x288 with 1 Axes>"
      ]
     },
     "metadata": {},
     "output_type": "display_data"
    }
   ],
   "source": [
    "model = LogisticRegression(random_state=12345, class_weight='balanced')\n",
    "f1_LR_class, auc_LR_class = function_name(model, features_train, target_train, features_valid, target_valid)"
   ]
  },
  {
   "cell_type": "markdown",
   "metadata": {},
   "source": [
    "#### Upsampling"
   ]
  },
  {
   "cell_type": "code",
   "execution_count": 24,
   "metadata": {},
   "outputs": [
    {
     "data": {
      "text/plain": [
       "'F1-мера, объединяющая полноту и точность, составила:'"
      ]
     },
     "metadata": {},
     "output_type": "display_data"
    },
    {
     "data": {
      "text/plain": [
       "0.44728434504792336"
      ]
     },
     "metadata": {},
     "output_type": "display_data"
    },
    {
     "data": {
      "text/plain": [
       "'Построим матрицу ошибок:'"
      ]
     },
     "metadata": {},
     "output_type": "display_data"
    },
    {
     "data": {
      "text/plain": [
       "array([[1028,  554],\n",
       "       [ 138,  280]], dtype=int64)"
      ]
     },
     "metadata": {},
     "output_type": "display_data"
    },
    {
     "data": {
      "text/plain": [
       "'Ошибочных предсказаний'"
      ]
     },
     "metadata": {},
     "output_type": "display_data"
    },
    {
     "data": {
      "text/plain": [
       "692"
      ]
     },
     "metadata": {},
     "output_type": "display_data"
    },
    {
     "data": {
      "text/plain": [
       "'Верных предсказаний'"
      ]
     },
     "metadata": {},
     "output_type": "display_data"
    },
    {
     "data": {
      "text/plain": [
       "1308"
      ]
     },
     "metadata": {},
     "output_type": "display_data"
    },
    {
     "data": {
      "text/plain": [
       "'В'"
      ]
     },
     "metadata": {},
     "output_type": "display_data"
    },
    {
     "data": {
      "text/plain": [
       "52.90519877675841"
      ]
     },
     "metadata": {},
     "output_type": "display_data"
    },
    {
     "data": {
      "text/plain": [
       "'% случаев модель ошибается.'"
      ]
     },
     "metadata": {},
     "output_type": "display_data"
    },
    {
     "data": {
      "text/plain": [
       "'ROC-AUC ='"
      ]
     },
     "metadata": {},
     "output_type": "display_data"
    },
    {
     "data": {
      "text/plain": [
       "0.7131893490766337"
      ]
     },
     "metadata": {},
     "output_type": "display_data"
    },
    {
     "data": {
      "text/plain": [
       "'Построим ROC-кривую:'"
      ]
     },
     "metadata": {},
     "output_type": "display_data"
    },
    {
     "data": {
      "image/png": "[encoded data removed]",
      "text/plain": [
       "<Figure size 432x288 with 1 Axes>"
      ]
     },
     "metadata": {},
     "output_type": "display_data"
    }
   ],
   "source": [
    "model = LogisticRegression(random_state=12345)\n",
    "f1_LR_upsampled, auc_LR_upsampled = function_name(model, features_upsampled, target_upsampled, features_valid, target_valid)"
   ]
  },
  {
   "cell_type": "markdown",
   "metadata": {},
   "source": [
    "#### Порог классификации"
   ]
  },
  {
   "cell_type": "code",
   "execution_count": 25,
   "metadata": {},
   "outputs": [
    {
     "data": {
      "text/plain": [
       "'F1-мера, объединяющая полноту и точность, составила:'"
      ]
     },
     "metadata": {},
     "output_type": "display_data"
    },
    {
     "data": {
      "text/plain": [
       "0.4190938511326861"
      ]
     },
     "metadata": {},
     "output_type": "display_data"
    },
    {
     "data": {
      "text/plain": [
       "'Построим матрицу ошибок:'"
      ]
     },
     "metadata": {},
     "output_type": "display_data"
    },
    {
     "data": {
      "text/plain": [
       "array([[1023,  559],\n",
       "       [ 159,  259]], dtype=int64)"
      ]
     },
     "metadata": {},
     "output_type": "display_data"
    },
    {
     "data": {
      "text/plain": [
       "'Ошибочных предсказаний'"
      ]
     },
     "metadata": {},
     "output_type": "display_data"
    },
    {
     "data": {
      "text/plain": [
       "718"
      ]
     },
     "metadata": {},
     "output_type": "display_data"
    },
    {
     "data": {
      "text/plain": [
       "'Верных предсказаний'"
      ]
     },
     "metadata": {},
     "output_type": "display_data"
    },
    {
     "data": {
      "text/plain": [
       "1282"
      ]
     },
     "metadata": {},
     "output_type": "display_data"
    },
    {
     "data": {
      "text/plain": [
       "'В'"
      ]
     },
     "metadata": {},
     "output_type": "display_data"
    },
    {
     "data": {
      "text/plain": [
       "56.00624024960999"
      ]
     },
     "metadata": {},
     "output_type": "display_data"
    },
    {
     "data": {
      "text/plain": [
       "'% случаев модель ошибается.'"
      ]
     },
     "metadata": {},
     "output_type": "display_data"
    },
    {
     "data": {
      "text/plain": [
       "'ROC-AUC ='"
      ]
     },
     "metadata": {},
     "output_type": "display_data"
    },
    {
     "data": {
      "text/plain": [
       "0.6736612246626219"
      ]
     },
     "metadata": {},
     "output_type": "display_data"
    },
    {
     "data": {
      "text/plain": [
       "'Построим ROC-кривую:'"
      ]
     },
     "metadata": {},
     "output_type": "display_data"
    },
    {
     "data": {
      "image/png": "[encoded data removed]",
      "text/plain": [
       "<Figure size 432x288 with 1 Axes>"
      ]
     },
     "metadata": {},
     "output_type": "display_data"
    }
   ],
   "source": [
    "model = LogisticRegression(random_state=12345)\n",
    "f1_LR_threshold, auc_LR_threshold = function_name(model, features_train, target_train, features_valid, target_valid, 0.20999999999999996)\n"
   ]
  },
  {
   "cell_type": "markdown",
   "metadata": {},
   "source": [
    "Согласно F1-меры, ROC_AUC качество модели после сбалансирования стало выше за исключением использования порога классификации. Параметр, который дал лучший результат - взвешивание классов."
   ]
  },
  {
   "cell_type": "markdown",
   "metadata": {},
   "source": [
    "### Случайный лес"
   ]
  },
  {
   "cell_type": "code",
   "execution_count": 26,
   "metadata": {},
   "outputs": [
    {
     "data": {
      "text/plain": [
       "'Максимальная глубина'"
      ]
     },
     "metadata": {},
     "output_type": "display_data"
    },
    {
     "data": {
      "text/plain": [
       "9"
      ]
     },
     "metadata": {},
     "output_type": "display_data"
    },
    {
     "data": {
      "text/plain": [
       "'Количество деревьев'"
      ]
     },
     "metadata": {},
     "output_type": "display_data"
    },
    {
     "data": {
      "text/plain": [
       "46"
      ]
     },
     "metadata": {},
     "output_type": "display_data"
    },
    {
     "data": {
      "text/plain": [
       "'Mинимальное число объектов в листе'"
      ]
     },
     "metadata": {},
     "output_type": "display_data"
    },
    {
     "data": {
      "text/plain": [
       "4"
      ]
     },
     "metadata": {},
     "output_type": "display_data"
    },
    {
     "data": {
      "text/plain": [
       "'F1-мера ='"
      ]
     },
     "metadata": {},
     "output_type": "display_data"
    },
    {
     "data": {
      "text/plain": [
       "0.6331877729257642"
      ]
     },
     "metadata": {},
     "output_type": "display_data"
    },
    {
     "data": {
      "text/plain": [
       "'ROC-AUC ='"
      ]
     },
     "metadata": {},
     "output_type": "display_data"
    },
    {
     "data": {
      "text/plain": [
       "0.8537312710577731"
      ]
     },
     "metadata": {},
     "output_type": "display_data"
    }
   ],
   "source": [
    "# подберем лучшие параметры на новой тренировочной выборке\n",
    "best_model_rfc = None\n",
    "best_f1_rfc = 0\n",
    "max_depth_rfc = 0\n",
    "n_estimators_rfc = 0\n",
    "min_samples_leaf_rfc = 0\n",
    "auc = 0\n",
    "for est in range(1, 51, 5):\n",
    "    for depth in range(1, 11):\n",
    "        for min_samples in range(1, 5):\n",
    "            model = RandomForestClassifier(random_state=12345, max_depth=depth, n_estimators=est, min_samples_leaf=min_samples, class_weight='balanced')\n",
    "            model.fit(features_train, target_train)\n",
    "            predictions_valid = model.predict(features_valid)\n",
    "            result_f1 = f1_score(target_valid, predictions_valid)\n",
    "            probabilities_valid = model.predict_proba(features_valid)\n",
    "            probabilities_one_valid = probabilities_valid[:,1]\n",
    "            auc_rfc = roc_auc_score(target_valid, probabilities_one_valid)\n",
    "            if result_f1 > best_f1_rfc:\n",
    "                best_model_rfc = model\n",
    "                best_f1_rfc = result_f1\n",
    "                max_depth_rfc = depth\n",
    "                n_estimator_rfc = est\n",
    "                min_samples_leaf_rfc = min_samples\n",
    "                auc = auc_rfc\n",
    "display(\"Максимальная глубина\", max_depth_rfc, \n",
    "        \"Количество деревьев\", n_estimator_rfc, \n",
    "        \"Mинимальное число объектов в листе\", min_samples_leaf_rfc,\n",
    "        \"F1-мера =\",best_f1_rfc,\n",
    "        \"ROC-AUC =\", auc)"
   ]
  },
  {
   "cell_type": "markdown",
   "metadata": {},
   "source": [
    "#### Взвешивание классов "
   ]
  },
  {
   "cell_type": "code",
   "execution_count": 27,
   "metadata": {},
   "outputs": [
    {
     "data": {
      "text/plain": [
       "'F1-мера, объединяющая полноту и точность, составила:'"
      ]
     },
     "metadata": {},
     "output_type": "display_data"
    },
    {
     "data": {
      "text/plain": [
       "0.6331877729257642"
      ]
     },
     "metadata": {},
     "output_type": "display_data"
    },
    {
     "data": {
      "text/plain": [
       "'Построим матрицу ошибок:'"
      ]
     },
     "metadata": {},
     "output_type": "display_data"
    },
    {
     "data": {
      "text/plain": [
       "array([[1374,  208],\n",
       "       [ 128,  290]], dtype=int64)"
      ]
     },
     "metadata": {},
     "output_type": "display_data"
    },
    {
     "data": {
      "text/plain": [
       "'Ошибочных предсказаний'"
      ]
     },
     "metadata": {},
     "output_type": "display_data"
    },
    {
     "data": {
      "text/plain": [
       "336"
      ]
     },
     "metadata": {},
     "output_type": "display_data"
    },
    {
     "data": {
      "text/plain": [
       "'Верных предсказаний'"
      ]
     },
     "metadata": {},
     "output_type": "display_data"
    },
    {
     "data": {
      "text/plain": [
       "1664"
      ]
     },
     "metadata": {},
     "output_type": "display_data"
    },
    {
     "data": {
      "text/plain": [
       "'В'"
      ]
     },
     "metadata": {},
     "output_type": "display_data"
    },
    {
     "data": {
      "text/plain": [
       "20.192307692307693"
      ]
     },
     "metadata": {},
     "output_type": "display_data"
    },
    {
     "data": {
      "text/plain": [
       "'% случаев модель ошибается.'"
      ]
     },
     "metadata": {},
     "output_type": "display_data"
    },
    {
     "data": {
      "text/plain": [
       "'ROC-AUC ='"
      ]
     },
     "metadata": {},
     "output_type": "display_data"
    },
    {
     "data": {
      "text/plain": [
       "0.8537312710577731"
      ]
     },
     "metadata": {},
     "output_type": "display_data"
    },
    {
     "data": {
      "text/plain": [
       "'Построим ROC-кривую:'"
      ]
     },
     "metadata": {},
     "output_type": "display_data"
    },
    {
     "data": {
      "image/png": "[encoded data removed]",
      "text/plain": [
       "<Figure size 432x288 with 1 Axes>"
      ]
     },
     "metadata": {},
     "output_type": "display_data"
    }
   ],
   "source": [
    "model = RandomForestClassifier(random_state=12345, max_depth=9, n_estimators=46, min_samples_leaf=4, class_weight='balanced')\n",
    "f1_RF_class, auc_RF_class = function_name(model, features_train, target_train, features_valid, target_valid)"
   ]
  },
  {
   "cell_type": "markdown",
   "metadata": {},
   "source": [
    "#### Upsampling"
   ]
  },
  {
   "cell_type": "code",
   "execution_count": 28,
   "metadata": {},
   "outputs": [
    {
     "data": {
      "text/plain": [
       "'F1-мера, объединяющая полноту и точность, составила:'"
      ]
     },
     "metadata": {},
     "output_type": "display_data"
    },
    {
     "data": {
      "text/plain": [
       "0.6187961985216472"
      ]
     },
     "metadata": {},
     "output_type": "display_data"
    },
    {
     "data": {
      "text/plain": [
       "'Построим матрицу ошибок:'"
      ]
     },
     "metadata": {},
     "output_type": "display_data"
    },
    {
     "data": {
      "text/plain": [
       "array([[1346,  236],\n",
       "       [ 125,  293]], dtype=int64)"
      ]
     },
     "metadata": {},
     "output_type": "display_data"
    },
    {
     "data": {
      "text/plain": [
       "'Ошибочных предсказаний'"
      ]
     },
     "metadata": {},
     "output_type": "display_data"
    },
    {
     "data": {
      "text/plain": [
       "361"
      ]
     },
     "metadata": {},
     "output_type": "display_data"
    },
    {
     "data": {
      "text/plain": [
       "'Верных предсказаний'"
      ]
     },
     "metadata": {},
     "output_type": "display_data"
    },
    {
     "data": {
      "text/plain": [
       "1639"
      ]
     },
     "metadata": {},
     "output_type": "display_data"
    },
    {
     "data": {
      "text/plain": [
       "'В'"
      ]
     },
     "metadata": {},
     "output_type": "display_data"
    },
    {
     "data": {
      "text/plain": [
       "22.02562538133008"
      ]
     },
     "metadata": {},
     "output_type": "display_data"
    },
    {
     "data": {
      "text/plain": [
       "'% случаев модель ошибается.'"
      ]
     },
     "metadata": {},
     "output_type": "display_data"
    },
    {
     "data": {
      "text/plain": [
       "'ROC-AUC ='"
      ]
     },
     "metadata": {},
     "output_type": "display_data"
    },
    {
     "data": {
      "text/plain": [
       "0.8557742909163496"
      ]
     },
     "metadata": {},
     "output_type": "display_data"
    },
    {
     "data": {
      "text/plain": [
       "'Построим ROC-кривую:'"
      ]
     },
     "metadata": {},
     "output_type": "display_data"
    },
    {
     "data": {
      "image/png": "[encoded data removed]",
      "text/plain": [
       "<Figure size 432x288 with 1 Axes>"
      ]
     },
     "metadata": {},
     "output_type": "display_data"
    }
   ],
   "source": [
    "model = RandomForestClassifier(random_state=12345, max_depth=9, n_estimators=46, min_samples_leaf=4)\n",
    "f1_RF_upsampled, auc_RF_upsampled = function_name(model, features_upsampled, target_upsampled, features_valid, target_valid)\n"
   ]
  },
  {
   "cell_type": "markdown",
   "metadata": {},
   "source": [
    "#### Порог классификации"
   ]
  },
  {
   "cell_type": "code",
   "execution_count": 29,
   "metadata": {},
   "outputs": [
    {
     "name": "stdout",
     "output_type": "stream",
     "text": [
      "Порог= 0.29 F1= 0.6363636363636364 ROC-AUC = 0.8529630592974795\n"
     ]
    }
   ],
   "source": [
    "# рассчитаем F1-меру и ROC-AUC для порога классификации на тренировочной выборке без взвешивания классов\n",
    "f1_RF_threshold = 0\n",
    "threshold_f1_RF = 0\n",
    "best_model_RF = None\n",
    "\n",
    "model = RandomForestClassifier(random_state=12345, max_depth=9, n_estimators=46, min_samples_leaf=4)\n",
    "model.fit(features_train, target_train)\n",
    "probabilities_valid = model.predict_proba(features_valid)\n",
    "probabilities_one_valid = probabilities_valid[:,1]\n",
    "    \n",
    "for thershold in np.arange(0.01, 0.99, 0.02):\n",
    "    predicted_valid = probabilities_one_valid > thershold\n",
    "    f1 = f1_score(target_valid, predicted_valid)\n",
    "    \n",
    "    if f1_RF_threshold < f1:\n",
    "        f1_RF_threshold = f1\n",
    "        threshold_f1_RF = thershold\n",
    "        best_model_RF = model \n",
    "        auc_RF_threshold = roc_auc_score(target_valid, probabilities_one_valid)\n",
    "print(\"Порог=\", threshold_f1_RF, \"F1=\", f1_RF_threshold, 'ROC-AUC =', auc_RF_threshold)"
   ]
  },
  {
   "cell_type": "code",
   "execution_count": 30,
   "metadata": {},
   "outputs": [
    {
     "name": "stdout",
     "output_type": "stream",
     "text": [
      "Порог= 0.57 F1= 0.63689776733255 ROC-AUC = 0.8523899249330082\n"
     ]
    }
   ],
   "source": [
    "# рассчитаем порог для увеличенной выборки и взвешивания классов\n",
    "f1_RF = 0\n",
    "threshold_RF = 0\n",
    "best_model_RF = None\n",
    "\n",
    "model = RandomForestClassifier(random_state=12345, max_depth=9, n_estimators=46, min_samples_leaf=4, class_weight='balanced')\n",
    "model.fit(features_upsampled, target_upsampled)\n",
    "probabilities_valid = model.predict_proba(features_valid)\n",
    "probabilities_one_valid = probabilities_valid[:,1]\n",
    "    \n",
    "for thershold in np.arange(0.01, 0.99, 0.02):\n",
    "    predicted_valid = probabilities_one_valid > thershold\n",
    "    f1 = f1_score(target_valid, predicted_valid)\n",
    "    \n",
    "    if f1_RF < f1:\n",
    "        f1_RF = f1\n",
    "        threshold_RF = thershold\n",
    "        best_model_RF = model \n",
    "        auc_RF = roc_auc_score(target_valid, probabilities_one_valid)\n",
    "print(\"Порог=\", threshold_RF, \"F1=\", f1_RF, 'ROC-AUC =', auc_RF)\n"
   ]
  },
  {
   "cell_type": "markdown",
   "metadata": {},
   "source": [
    "#### Используем все параметры"
   ]
  },
  {
   "cell_type": "code",
   "execution_count": 31,
   "metadata": {},
   "outputs": [
    {
     "data": {
      "text/plain": [
       "'F1-мера, объединяющая полноту и точность, составила:'"
      ]
     },
     "metadata": {},
     "output_type": "display_data"
    },
    {
     "data": {
      "text/plain": [
       "0.63689776733255"
      ]
     },
     "metadata": {},
     "output_type": "display_data"
    },
    {
     "data": {
      "text/plain": [
       "'Построим матрицу ошибок:'"
      ]
     },
     "metadata": {},
     "output_type": "display_data"
    },
    {
     "data": {
      "text/plain": [
       "array([[1420,  162],\n",
       "       [ 147,  271]], dtype=int64)"
      ]
     },
     "metadata": {},
     "output_type": "display_data"
    },
    {
     "data": {
      "text/plain": [
       "'Ошибочных предсказаний'"
      ]
     },
     "metadata": {},
     "output_type": "display_data"
    },
    {
     "data": {
      "text/plain": [
       "309"
      ]
     },
     "metadata": {},
     "output_type": "display_data"
    },
    {
     "data": {
      "text/plain": [
       "'Верных предсказаний'"
      ]
     },
     "metadata": {},
     "output_type": "display_data"
    },
    {
     "data": {
      "text/plain": [
       "1691"
      ]
     },
     "metadata": {},
     "output_type": "display_data"
    },
    {
     "data": {
      "text/plain": [
       "'В'"
      ]
     },
     "metadata": {},
     "output_type": "display_data"
    },
    {
     "data": {
      "text/plain": [
       "18.273211117681846"
      ]
     },
     "metadata": {},
     "output_type": "display_data"
    },
    {
     "data": {
      "text/plain": [
       "'% случаев модель ошибается.'"
      ]
     },
     "metadata": {},
     "output_type": "display_data"
    },
    {
     "data": {
      "text/plain": [
       "'ROC-AUC ='"
      ]
     },
     "metadata": {},
     "output_type": "display_data"
    },
    {
     "data": {
      "text/plain": [
       "0.8523899249330082"
      ]
     },
     "metadata": {},
     "output_type": "display_data"
    },
    {
     "data": {
      "text/plain": [
       "'Построим ROC-кривую:'"
      ]
     },
     "metadata": {},
     "output_type": "display_data"
    },
    {
     "data": {
      "image/png": "[encoded data removed]",
      "text/plain": [
       "<Figure size 432x288 with 1 Axes>"
      ]
     },
     "metadata": {},
     "output_type": "display_data"
    }
   ],
   "source": [
    "model = RandomForestClassifier(random_state=12345, max_depth=9, n_estimators=46, min_samples_leaf=4, class_weight='balanced')\n",
    "f1_RF_all_param, auc_RF_all_param = function_name(model, features_upsampled, target_upsampled, features_valid, target_valid, 0.57)\n"
   ]
  },
  {
   "cell_type": "markdown",
   "metadata": {},
   "source": [
    "Подберем лучшие гиперпараметры с помощью GridSearchCV"
   ]
  },
  {
   "cell_type": "code",
   "execution_count": 34,
   "metadata": {},
   "outputs": [
    {
     "name": "stdout",
     "output_type": "stream",
     "text": [
      "Гиперпараметры лучшей модели: {'max_depth': 9, 'min_samples_leaf': 3, 'min_samples_split': 2, 'n_estimators': 46}\n",
      "Значение f1: 0.6223935844274827\n"
     ]
    }
   ],
   "source": [
    "# подберем гиперпараметры\n",
    "model_rf_GRID = RandomForestClassifier(class_weight='balanced', random_state=12345)\n",
    "parametrs = { 'n_estimators': range (1, 51, 3),\n",
    "              'max_depth': range (1,13, 1),\n",
    "              'min_samples_leaf': range (1,8),\n",
    "              'min_samples_split': range (2,10,2) }\n",
    "gs = GridSearchCV(model_rf_GRID, param_grid=parametrs, scoring='f1', n_jobs=-1, cv=3)\n",
    "gs.fit(features_train, target_train)\n",
    "\n",
    "print('Гиперпараметры лучшей модели:', gs.best_params_) \n",
    "print('Значение f1:', gs.best_score_)"
   ]
  },
  {
   "cell_type": "markdown",
   "metadata": {},
   "source": [
    "Значение F1-меры с подобранными гиперпараметрами с помощью GridSearchCV меньше, \n",
    "чем подобранными вручную, в связи с нахождением меньшего количества гиперпараметров."
   ]
  },
  {
   "cell_type": "markdown",
   "metadata": {},
   "source": [
    "### Анализ моделей в зависимости от гиперпараметров"
   ]
  },
  {
   "cell_type": "code",
   "execution_count": 36,
   "metadata": {},
   "outputs": [
    {
     "name": "stdout",
     "output_type": "stream",
     "text": [
      "                     -     LR_F1  LR_ROC-AUC     RF_F1  RF_ROC-AUC\n",
      "0   Несбалансированные  0.083857    0.672795  0.575712    0.843305\n",
      "1        Все параметры  0.450518    0.713269  0.636898    0.852390\n",
      "2  Взвешивание классов  0.447096    0.713269  0.633188    0.853731\n",
      "3           Upsampling  0.447284    0.713189  0.618796    0.855774\n",
      "4                Порог  0.419094    0.673661  0.636364    0.852963\n"
     ]
    }
   ],
   "source": [
    "# сведем результаты F1-меры и ROC-AUC в одну таблицу для удобства\n",
    "df_f1_auc = pd.DataFrame({\n",
    "    '-': ['Несбалансированные', \"Все параметры\", \"Взвешивание классов\", \"Upsampling\", \"Порог\"], \n",
    "    'LR_F1': [f1_LR_unbalanced, f1_LR_all_param, f1_LR_class, f1_LR_upsampled, f1_LR_threshold],\n",
    "    'LR_ROC-AUC': [auc_LR_unbalanced, auc_LR_all_param, auc_LR_class, auc_LR_upsampled, auc_LR_threshold],\n",
    "    'RF_F1': [f1_RF_unbalanced, f1_RF_all_param, f1_RF_class, f1_RF_upsampled, f1_RF_threshold],\n",
    "    'RF_ROC-AUC': [auc_RF_unbalanced, auc_RF_all_param, auc_RF_class, auc_RF_upsampled, auc_RF_threshold]})\n",
    "\n",
    "print(df_f1_auc)"
   ]
  },
  {
   "cell_type": "markdown",
   "metadata": {},
   "source": [
    "Построим графики зависимости значений F1-меры и ROC-AUC:"
   ]
  },
  {
   "cell_type": "code",
   "execution_count": 37,
   "metadata": {},
   "outputs": [
    {
     "data": {
      "text/plain": [
       "<seaborn.axisgrid.FacetGrid at 0x263488c9af0>"
      ]
     },
     "execution_count": 37,
     "metadata": {},
     "output_type": "execute_result"
    },
    {
     "data": {
      "image/png": "[encoded data removed]",
      "text/plain": [
       "<Figure size 360x360 with 1 Axes>"
      ]
     },
     "metadata": {},
     "output_type": "display_data"
    }
   ],
   "source": [
    "sns.relplot(x='LR_F1', \n",
    "                y='LR_ROC-AUC',\n",
    "                data=df_f1_auc)"
   ]
  },
  {
   "cell_type": "code",
   "execution_count": 40,
   "metadata": {},
   "outputs": [
    {
     "data": {
      "text/plain": [
       "<seaborn.axisgrid.FacetGrid at 0x263487d1f40>"
      ]
     },
     "execution_count": 40,
     "metadata": {},
     "output_type": "execute_result"
    },
    {
     "data": {
      "image/png": "[encoded data removed]",
      "text/plain": [
       "<Figure size 360x360 with 1 Axes>"
      ]
     },
     "metadata": {},
     "output_type": "display_data"
    }
   ],
   "source": [
    "sns.relplot(x='RF_F1', \n",
    "                y='RF_ROC-AUC',\n",
    "                data=df_f1_auc)"
   ]
  },
  {
   "cell_type": "markdown",
   "metadata": {},
   "source": [
    "Из получившихся данных и их визуализации следует, что рост F1-меры влечет за собой рост значения ROC-AUC. Это значит, что чем больше значение F1-меры, тем точнее предсказание модели при заданных параметрах."
   ]
  },
  {
   "cell_type": "markdown",
   "metadata": {},
   "source": [
    "Самые большие значения F1-меры равны 0.636898 (при ROC-AUC=0.852390) и 0.636364 (при ROC-AUC=0.852963) у модели случайного леса при использовании всех параметров и порога классификации."
   ]
  },
  {
   "cell_type": "markdown",
   "metadata": {},
   "source": [
    "В следующем разделе на тестовой выборке попробуем каждый из этих параметров и их совокупность."
   ]
  },
  {
   "cell_type": "markdown",
   "metadata": {},
   "source": [
    "## Тестирование модели"
   ]
  },
  {
   "cell_type": "markdown",
   "metadata": {},
   "source": [
    "### Случайный лес (все параметры)"
   ]
  },
  {
   "cell_type": "code",
   "execution_count": 41,
   "metadata": {},
   "outputs": [
    {
     "data": {
      "text/plain": [
       "'F1-мера, объединяющая полноту и точность, составила:'"
      ]
     },
     "metadata": {},
     "output_type": "display_data"
    },
    {
     "data": {
      "text/plain": [
       "0.60381861575179"
      ]
     },
     "metadata": {},
     "output_type": "display_data"
    },
    {
     "data": {
      "text/plain": [
       "'Построим матрицу ошибок:'"
      ]
     },
     "metadata": {},
     "output_type": "display_data"
    },
    {
     "data": {
      "text/plain": [
       "array([[1415,  162],\n",
       "       [ 170,  253]], dtype=int64)"
      ]
     },
     "metadata": {},
     "output_type": "display_data"
    },
    {
     "data": {
      "text/plain": [
       "'Ошибочных предсказаний'"
      ]
     },
     "metadata": {},
     "output_type": "display_data"
    },
    {
     "data": {
      "text/plain": [
       "332"
      ]
     },
     "metadata": {},
     "output_type": "display_data"
    },
    {
     "data": {
      "text/plain": [
       "'Верных предсказаний'"
      ]
     },
     "metadata": {},
     "output_type": "display_data"
    },
    {
     "data": {
      "text/plain": [
       "1668"
      ]
     },
     "metadata": {},
     "output_type": "display_data"
    },
    {
     "data": {
      "text/plain": [
       "'В'"
      ]
     },
     "metadata": {},
     "output_type": "display_data"
    },
    {
     "data": {
      "text/plain": [
       "19.904076738609113"
      ]
     },
     "metadata": {},
     "output_type": "display_data"
    },
    {
     "data": {
      "text/plain": [
       "'% случаев модель ошибается.'"
      ]
     },
     "metadata": {},
     "output_type": "display_data"
    },
    {
     "data": {
      "text/plain": [
       "'ROC-AUC ='"
      ]
     },
     "metadata": {},
     "output_type": "display_data"
    },
    {
     "data": {
      "text/plain": [
       "0.8552462931232208"
      ]
     },
     "metadata": {},
     "output_type": "display_data"
    },
    {
     "data": {
      "text/plain": [
       "'Построим ROC-кривую:'"
      ]
     },
     "metadata": {},
     "output_type": "display_data"
    },
    {
     "data": {
      "image/png": "[encoded data removed]",
      "text/plain": [
       "<Figure size 432x288 with 1 Axes>"
      ]
     },
     "metadata": {},
     "output_type": "display_data"
    }
   ],
   "source": [
    "model = RandomForestClassifier(random_state=12345, max_depth=9, n_estimators=46, min_samples_leaf=4, class_weight='balanced')\n",
    "F1_RF_class_test, auc_RF_class_test = function_name(model, features_upsampled, target_upsampled, features_test, target_test, 0.57)\n"
   ]
  },
  {
   "cell_type": "markdown",
   "metadata": {},
   "source": [
    "### Случайный лес (порог классификации)"
   ]
  },
  {
   "cell_type": "code",
   "execution_count": 42,
   "metadata": {},
   "outputs": [
    {
     "data": {
      "text/plain": [
       "'F1-мера, объединяющая полноту и точность, составила:'"
      ]
     },
     "metadata": {},
     "output_type": "display_data"
    },
    {
     "data": {
      "text/plain": [
       "0.611353711790393"
      ]
     },
     "metadata": {},
     "output_type": "display_data"
    },
    {
     "data": {
      "text/plain": [
       "'Построим матрицу ошибок:'"
      ]
     },
     "metadata": {},
     "output_type": "display_data"
    },
    {
     "data": {
      "text/plain": [
       "array([[1364,  213],\n",
       "       [ 143,  280]], dtype=int64)"
      ]
     },
     "metadata": {},
     "output_type": "display_data"
    },
    {
     "data": {
      "text/plain": [
       "'Ошибочных предсказаний'"
      ]
     },
     "metadata": {},
     "output_type": "display_data"
    },
    {
     "data": {
      "text/plain": [
       "356"
      ]
     },
     "metadata": {},
     "output_type": "display_data"
    },
    {
     "data": {
      "text/plain": [
       "'Верных предсказаний'"
      ]
     },
     "metadata": {},
     "output_type": "display_data"
    },
    {
     "data": {
      "text/plain": [
       "1644"
      ]
     },
     "metadata": {},
     "output_type": "display_data"
    },
    {
     "data": {
      "text/plain": [
       "'В'"
      ]
     },
     "metadata": {},
     "output_type": "display_data"
    },
    {
     "data": {
      "text/plain": [
       "21.65450121654501"
      ]
     },
     "metadata": {},
     "output_type": "display_data"
    },
    {
     "data": {
      "text/plain": [
       "'% случаев модель ошибается.'"
      ]
     },
     "metadata": {},
     "output_type": "display_data"
    },
    {
     "data": {
      "text/plain": [
       "'ROC-AUC ='"
      ]
     },
     "metadata": {},
     "output_type": "display_data"
    },
    {
     "data": {
      "text/plain": [
       "0.8576838147663443"
      ]
     },
     "metadata": {},
     "output_type": "display_data"
    },
    {
     "data": {
      "text/plain": [
       "'Построим ROC-кривую:'"
      ]
     },
     "metadata": {},
     "output_type": "display_data"
    },
    {
     "data": {
      "image/png": "[encoded data removed]",
      "text/plain": [
       "<Figure size 432x288 with 1 Axes>"
      ]
     },
     "metadata": {},
     "output_type": "display_data"
    }
   ],
   "source": [
    "model = RandomForestClassifier(random_state=12345, max_depth=9, n_estimators=46, min_samples_leaf=4)\n",
    "f1_RF_threshold_test, auc_RF_threshold_test = function_name(model, features_train, target_train, features_test, target_test, 0.26999999999999996)\n"
   ]
  },
  {
   "cell_type": "code",
   "execution_count": 44,
   "metadata": {},
   "outputs": [
    {
     "name": "stdout",
     "output_type": "stream",
     "text": [
      "                     -   F1-мера   ROC-AUC\n",
      "0        Все параметры  0.603819  0.855246\n",
      "1  Порог классификации  0.611354  0.857684\n"
     ]
    }
   ],
   "source": [
    "# сведем результаты F1-меры и ROC-AUC в одну таблицу для удобства\n",
    "df_f1_auc_test = pd.DataFrame({\n",
    "    '-': [\"Все параметры\", \"Порог классификации\"], \n",
    "    'F1-мера': [F1_RF_class_test, f1_RF_threshold_test],\n",
    "    'ROC-AUC': [auc_RF_class_test, auc_RF_threshold_test]})\n",
    "\n",
    "print(df_f1_auc_test)"
   ]
  },
  {
   "cell_type": "markdown",
   "metadata": {},
   "source": [
    "**За счет сбалансирования выборки и подбора лучших параметров все модели (логистическая регрессия, дерево решений, случайный лес) увеличили показатель F1-меры и ROC-AUC. Лучшей моделью на тестовой выборке оказалась модель случайного леса, на увеличение метрик которой влияет взвешивание классов, порог классификации и увеличение выборки. Удалось добиться значения F1-меры = 0.618690 при AUC-ROC = 0.855246. В 19.9% случаев данная модель ошибается на тестовых данных.**"
   ]
  },
  {
   "cell_type": "code",
   "execution_count": null,
   "metadata": {},
   "outputs": [],
   "source": []
  }
 ],
 "metadata": {
  "ExecuteTimeLog": [
   {
    "duration": 542,
    "start_time": "2022-03-04T06:50:45.981Z"
   },
   {
    "duration": 30,
    "start_time": "2022-03-04T06:50:46.525Z"
   },
   {
    "duration": 36,
    "start_time": "2022-03-04T06:51:10.941Z"
   },
   {
    "duration": 9,
    "start_time": "2022-03-04T06:53:22.597Z"
   },
   {
    "duration": 223,
    "start_time": "2022-03-04T07:06:49.459Z"
   },
   {
    "duration": 150,
    "start_time": "2022-03-04T07:06:55.594Z"
   },
   {
    "duration": 6,
    "start_time": "2022-03-04T07:08:06.121Z"
   },
   {
    "duration": 5,
    "start_time": "2022-03-04T07:33:49.159Z"
   },
   {
    "duration": 6,
    "start_time": "2022-03-04T07:34:17.557Z"
   },
   {
    "duration": 186,
    "start_time": "2022-03-04T07:44:09.953Z"
   },
   {
    "duration": 486,
    "start_time": "2022-03-04T07:44:17.897Z"
   },
   {
    "duration": 189,
    "start_time": "2022-03-04T07:44:20.973Z"
   },
   {
    "duration": 9,
    "start_time": "2022-03-04T07:44:28.713Z"
   },
   {
    "duration": 3,
    "start_time": "2022-03-04T07:49:50.087Z"
   },
   {
    "duration": 190,
    "start_time": "2022-03-04T07:49:52.871Z"
   },
   {
    "duration": 173,
    "start_time": "2022-03-04T07:53:09.249Z"
   },
   {
    "duration": 10,
    "start_time": "2022-03-04T07:53:18.647Z"
   },
   {
    "duration": 5,
    "start_time": "2022-03-04T07:53:42.451Z"
   },
   {
    "duration": 15,
    "start_time": "2022-03-04T07:53:59.514Z"
   },
   {
    "duration": 14,
    "start_time": "2022-03-04T07:56:32.593Z"
   },
   {
    "duration": 266,
    "start_time": "2022-03-04T07:56:47.514Z"
   },
   {
    "duration": 3,
    "start_time": "2022-03-04T07:57:08.548Z"
   },
   {
    "duration": 48,
    "start_time": "2022-03-04T07:57:08.552Z"
   },
   {
    "duration": 11,
    "start_time": "2022-03-04T07:57:08.602Z"
   },
   {
    "duration": 20,
    "start_time": "2022-03-04T07:57:08.615Z"
   },
   {
    "duration": 6,
    "start_time": "2022-03-04T07:57:08.636Z"
   },
   {
    "duration": 24,
    "start_time": "2022-03-04T07:57:08.643Z"
   },
   {
    "duration": 196,
    "start_time": "2022-03-04T07:57:08.669Z"
   },
   {
    "duration": 7,
    "start_time": "2022-03-04T07:58:27.738Z"
   },
   {
    "duration": 3,
    "start_time": "2022-03-04T08:01:30.507Z"
   },
   {
    "duration": 174,
    "start_time": "2022-03-04T08:04:01.362Z"
   },
   {
    "duration": 167,
    "start_time": "2022-03-04T08:04:29.175Z"
   },
   {
    "duration": 208,
    "start_time": "2022-03-04T08:05:37.608Z"
   },
   {
    "duration": 19,
    "start_time": "2022-03-04T08:10:26.319Z"
   },
   {
    "duration": 251,
    "start_time": "2022-03-04T08:15:03.938Z"
   },
   {
    "duration": 130,
    "start_time": "2022-03-04T08:15:27.553Z"
   },
   {
    "duration": 189,
    "start_time": "2022-03-04T08:15:31.447Z"
   },
   {
    "duration": 178,
    "start_time": "2022-03-04T08:15:59.068Z"
   },
   {
    "duration": 133,
    "start_time": "2022-03-04T08:16:09.721Z"
   },
   {
    "duration": 203,
    "start_time": "2022-03-04T08:21:51.676Z"
   },
   {
    "duration": 187,
    "start_time": "2022-03-04T08:23:23.252Z"
   },
   {
    "duration": 169,
    "start_time": "2022-03-04T08:24:14.365Z"
   },
   {
    "duration": 34,
    "start_time": "2022-03-04T08:29:08.049Z"
   },
   {
    "duration": 7,
    "start_time": "2022-03-04T08:29:20.985Z"
   },
   {
    "duration": 5,
    "start_time": "2022-03-04T08:29:47.561Z"
   },
   {
    "duration": 39,
    "start_time": "2022-03-04T08:29:47.568Z"
   },
   {
    "duration": 9,
    "start_time": "2022-03-04T08:29:47.609Z"
   },
   {
    "duration": 12,
    "start_time": "2022-03-04T08:29:47.621Z"
   },
   {
    "duration": 13,
    "start_time": "2022-03-04T08:29:47.635Z"
   },
   {
    "duration": 50,
    "start_time": "2022-03-04T08:29:47.664Z"
   },
   {
    "duration": 5,
    "start_time": "2022-03-04T08:29:47.716Z"
   },
   {
    "duration": 160,
    "start_time": "2022-03-04T08:29:47.722Z"
   },
   {
    "duration": 8,
    "start_time": "2022-03-04T08:29:47.883Z"
   },
   {
    "duration": 252,
    "start_time": "2022-03-04T08:29:47.893Z"
   },
   {
    "duration": 215,
    "start_time": "2022-03-04T08:33:46.280Z"
   },
   {
    "duration": 9,
    "start_time": "2022-03-04T09:03:47.063Z"
   },
   {
    "duration": 140,
    "start_time": "2022-03-04T09:03:52.134Z"
   },
   {
    "duration": 5,
    "start_time": "2022-03-04T09:27:31.623Z"
   },
   {
    "duration": 93,
    "start_time": "2022-03-04T09:31:08.374Z"
   },
   {
    "duration": 178,
    "start_time": "2022-03-04T09:36:00.312Z"
   },
   {
    "duration": 254,
    "start_time": "2022-03-04T09:36:16.914Z"
   },
   {
    "duration": 188,
    "start_time": "2022-03-04T09:36:17.505Z"
   },
   {
    "duration": 5,
    "start_time": "2022-03-04T09:36:24.981Z"
   },
   {
    "duration": 39,
    "start_time": "2022-03-04T09:36:24.988Z"
   },
   {
    "duration": 8,
    "start_time": "2022-03-04T09:36:25.029Z"
   },
   {
    "duration": 8,
    "start_time": "2022-03-04T09:36:25.039Z"
   },
   {
    "duration": 19,
    "start_time": "2022-03-04T09:36:25.048Z"
   },
   {
    "duration": 45,
    "start_time": "2022-03-04T09:36:25.069Z"
   },
   {
    "duration": 5,
    "start_time": "2022-03-04T09:36:25.115Z"
   },
   {
    "duration": 152,
    "start_time": "2022-03-04T09:36:25.122Z"
   },
   {
    "duration": 7,
    "start_time": "2022-03-04T09:36:25.276Z"
   },
   {
    "duration": 186,
    "start_time": "2022-03-04T09:36:25.284Z"
   },
   {
    "duration": 344,
    "start_time": "2022-03-04T09:36:25.472Z"
   },
   {
    "duration": -186,
    "start_time": "2022-03-04T09:36:26.004Z"
   },
   {
    "duration": 5,
    "start_time": "2022-03-04T09:37:01.325Z"
   },
   {
    "duration": 43,
    "start_time": "2022-03-04T09:37:01.332Z"
   },
   {
    "duration": 8,
    "start_time": "2022-03-04T09:37:01.377Z"
   },
   {
    "duration": 18,
    "start_time": "2022-03-04T09:37:01.386Z"
   },
   {
    "duration": 15,
    "start_time": "2022-03-04T09:37:01.405Z"
   },
   {
    "duration": 77,
    "start_time": "2022-03-04T09:37:01.421Z"
   },
   {
    "duration": 5,
    "start_time": "2022-03-04T09:37:01.500Z"
   },
   {
    "duration": 157,
    "start_time": "2022-03-04T09:37:01.508Z"
   },
   {
    "duration": 8,
    "start_time": "2022-03-04T09:37:01.667Z"
   },
   {
    "duration": 188,
    "start_time": "2022-03-04T09:37:01.677Z"
   },
   {
    "duration": 98,
    "start_time": "2022-03-04T09:37:01.867Z"
   },
   {
    "duration": 523,
    "start_time": "2022-03-04T09:37:01.967Z"
   },
   {
    "duration": 334,
    "start_time": "2022-03-04T09:37:26.523Z"
   },
   {
    "duration": 5,
    "start_time": "2022-03-04T09:44:46.350Z"
   },
   {
    "duration": 7,
    "start_time": "2022-03-04T11:15:51.288Z"
   },
   {
    "duration": 158,
    "start_time": "2022-03-04T11:36:43.108Z"
   },
   {
    "duration": 92,
    "start_time": "2022-03-04T11:38:13.496Z"
   },
   {
    "duration": 9,
    "start_time": "2022-03-04T11:38:54.057Z"
   },
   {
    "duration": 6,
    "start_time": "2022-03-04T11:39:06.791Z"
   },
   {
    "duration": 37,
    "start_time": "2022-03-04T11:39:06.799Z"
   },
   {
    "duration": 10,
    "start_time": "2022-03-04T11:39:06.839Z"
   },
   {
    "duration": 9,
    "start_time": "2022-03-04T11:39:06.852Z"
   },
   {
    "duration": 17,
    "start_time": "2022-03-04T11:39:06.864Z"
   },
   {
    "duration": 49,
    "start_time": "2022-03-04T11:39:06.883Z"
   },
   {
    "duration": 29,
    "start_time": "2022-03-04T11:39:06.934Z"
   },
   {
    "duration": 153,
    "start_time": "2022-03-04T11:39:06.966Z"
   },
   {
    "duration": 9,
    "start_time": "2022-03-04T11:39:07.121Z"
   },
   {
    "duration": 133,
    "start_time": "2022-03-04T11:39:07.132Z"
   },
   {
    "duration": 101,
    "start_time": "2022-03-04T11:39:07.268Z"
   },
   {
    "duration": 92,
    "start_time": "2022-03-04T11:39:07.371Z"
   },
   {
    "duration": 340,
    "start_time": "2022-03-04T11:39:07.466Z"
   },
   {
    "duration": 156,
    "start_time": "2022-03-04T11:39:07.808Z"
   },
   {
    "duration": 99,
    "start_time": "2022-03-04T11:39:07.966Z"
   },
   {
    "duration": 132,
    "start_time": "2022-03-04T11:43:31.133Z"
   },
   {
    "duration": 7,
    "start_time": "2022-03-04T11:43:33.320Z"
   },
   {
    "duration": 12,
    "start_time": "2022-03-04T12:31:32.810Z"
   },
   {
    "duration": 230,
    "start_time": "2022-03-04T12:31:44.610Z"
   },
   {
    "duration": 6,
    "start_time": "2022-03-04T12:32:34.664Z"
   },
   {
    "duration": 48,
    "start_time": "2022-03-04T12:32:34.672Z"
   },
   {
    "duration": 7,
    "start_time": "2022-03-04T12:32:34.722Z"
   },
   {
    "duration": 12,
    "start_time": "2022-03-04T12:32:34.731Z"
   },
   {
    "duration": 18,
    "start_time": "2022-03-04T12:32:34.745Z"
   },
   {
    "duration": 48,
    "start_time": "2022-03-04T12:32:34.765Z"
   },
   {
    "duration": 5,
    "start_time": "2022-03-04T12:32:34.814Z"
   },
   {
    "duration": 142,
    "start_time": "2022-03-04T12:32:34.821Z"
   },
   {
    "duration": 7,
    "start_time": "2022-03-04T12:32:34.965Z"
   },
   {
    "duration": 101,
    "start_time": "2022-03-04T12:32:34.974Z"
   },
   {
    "duration": 99,
    "start_time": "2022-03-04T12:32:35.165Z"
   },
   {
    "duration": 14,
    "start_time": "2022-03-04T12:32:35.266Z"
   },
   {
    "duration": 406,
    "start_time": "2022-03-04T12:32:35.282Z"
   },
   {
    "duration": 173,
    "start_time": "2022-03-04T12:32:35.690Z"
   },
   {
    "duration": 99,
    "start_time": "2022-03-04T12:32:35.865Z"
   },
   {
    "duration": 10,
    "start_time": "2022-03-04T12:32:35.966Z"
   },
   {
    "duration": 418,
    "start_time": "2022-03-04T12:32:35.978Z"
   },
   {
    "duration": 5,
    "start_time": "2022-03-04T12:56:17.981Z"
   },
   {
    "duration": 59,
    "start_time": "2022-03-04T12:57:00.529Z"
   },
   {
    "duration": 6,
    "start_time": "2022-03-04T12:57:08.753Z"
   },
   {
    "duration": 44,
    "start_time": "2022-03-04T12:57:08.761Z"
   },
   {
    "duration": 9,
    "start_time": "2022-03-04T12:57:08.807Z"
   },
   {
    "duration": 8,
    "start_time": "2022-03-04T12:57:08.818Z"
   },
   {
    "duration": 35,
    "start_time": "2022-03-04T12:57:08.828Z"
   },
   {
    "duration": 49,
    "start_time": "2022-03-04T12:57:08.864Z"
   },
   {
    "duration": 5,
    "start_time": "2022-03-04T12:57:08.914Z"
   },
   {
    "duration": 167,
    "start_time": "2022-03-04T12:57:08.921Z"
   },
   {
    "duration": 8,
    "start_time": "2022-03-04T12:57:09.090Z"
   },
   {
    "duration": 166,
    "start_time": "2022-03-04T12:57:09.099Z"
   },
   {
    "duration": 97,
    "start_time": "2022-03-04T12:57:09.268Z"
   },
   {
    "duration": 13,
    "start_time": "2022-03-04T12:57:09.367Z"
   },
   {
    "duration": 406,
    "start_time": "2022-03-04T12:57:09.382Z"
   },
   {
    "duration": 105,
    "start_time": "2022-03-04T12:57:09.790Z"
   },
   {
    "duration": 74,
    "start_time": "2022-03-04T12:57:09.897Z"
   },
   {
    "duration": 99,
    "start_time": "2022-03-04T12:57:09.972Z"
   },
   {
    "duration": 397,
    "start_time": "2022-03-04T12:57:10.073Z"
   },
   {
    "duration": 37,
    "start_time": "2022-03-04T12:59:30.592Z"
   },
   {
    "duration": 18,
    "start_time": "2022-03-04T12:59:31.592Z"
   },
   {
    "duration": 5,
    "start_time": "2022-03-04T12:59:44.543Z"
   },
   {
    "duration": 37,
    "start_time": "2022-03-04T12:59:44.550Z"
   },
   {
    "duration": 8,
    "start_time": "2022-03-04T12:59:44.589Z"
   },
   {
    "duration": 16,
    "start_time": "2022-03-04T12:59:44.598Z"
   },
   {
    "duration": 21,
    "start_time": "2022-03-04T12:59:44.616Z"
   },
   {
    "duration": 50,
    "start_time": "2022-03-04T12:59:44.638Z"
   },
   {
    "duration": 16,
    "start_time": "2022-03-04T12:59:44.690Z"
   },
   {
    "duration": 5,
    "start_time": "2022-03-04T12:59:44.709Z"
   },
   {
    "duration": 154,
    "start_time": "2022-03-04T12:59:44.716Z"
   },
   {
    "duration": 8,
    "start_time": "2022-03-04T12:59:44.871Z"
   },
   {
    "duration": 90,
    "start_time": "2022-03-04T12:59:44.880Z"
   },
   {
    "duration": 100,
    "start_time": "2022-03-04T12:59:44.972Z"
   },
   {
    "duration": 14,
    "start_time": "2022-03-04T12:59:45.164Z"
   },
   {
    "duration": 331,
    "start_time": "2022-03-04T12:59:45.265Z"
   },
   {
    "duration": 169,
    "start_time": "2022-03-04T12:59:45.597Z"
   },
   {
    "duration": 98,
    "start_time": "2022-03-04T12:59:45.769Z"
   },
   {
    "duration": 11,
    "start_time": "2022-03-04T12:59:45.869Z"
   },
   {
    "duration": 406,
    "start_time": "2022-03-04T12:59:45.882Z"
   },
   {
    "duration": 17,
    "start_time": "2022-03-04T13:00:20.528Z"
   },
   {
    "duration": 5,
    "start_time": "2022-03-04T13:00:23.175Z"
   },
   {
    "duration": 34,
    "start_time": "2022-03-04T13:00:23.182Z"
   },
   {
    "duration": 8,
    "start_time": "2022-03-04T13:00:23.218Z"
   },
   {
    "duration": 7,
    "start_time": "2022-03-04T13:00:23.228Z"
   },
   {
    "duration": 28,
    "start_time": "2022-03-04T13:00:23.236Z"
   },
   {
    "duration": 39,
    "start_time": "2022-03-04T13:00:23.265Z"
   },
   {
    "duration": 113,
    "start_time": "2022-03-04T13:00:23.306Z"
   },
   {
    "duration": 5,
    "start_time": "2022-03-04T13:00:23.421Z"
   },
   {
    "duration": 155,
    "start_time": "2022-03-04T13:00:23.428Z"
   },
   {
    "duration": 7,
    "start_time": "2022-03-04T13:00:23.585Z"
   },
   {
    "duration": 176,
    "start_time": "2022-03-04T13:00:23.594Z"
   },
   {
    "duration": 93,
    "start_time": "2022-03-04T13:00:23.772Z"
   },
   {
    "duration": 16,
    "start_time": "2022-03-04T13:00:23.866Z"
   },
   {
    "duration": 336,
    "start_time": "2022-03-04T13:00:23.965Z"
   },
   {
    "duration": 164,
    "start_time": "2022-03-04T13:00:24.303Z"
   },
   {
    "duration": 97,
    "start_time": "2022-03-04T13:00:24.470Z"
   },
   {
    "duration": 17,
    "start_time": "2022-03-04T13:00:24.569Z"
   },
   {
    "duration": 332,
    "start_time": "2022-03-04T13:00:24.664Z"
   },
   {
    "duration": 10,
    "start_time": "2022-03-04T14:53:12.520Z"
   },
   {
    "duration": 4,
    "start_time": "2022-03-04T14:58:01.371Z"
   },
   {
    "duration": 399,
    "start_time": "2022-03-04T14:58:02.497Z"
   },
   {
    "duration": 6,
    "start_time": "2022-03-04T14:58:11.202Z"
   },
   {
    "duration": 4,
    "start_time": "2022-03-04T14:58:19.934Z"
   },
   {
    "duration": 16,
    "start_time": "2022-03-04T14:58:20.454Z"
   },
   {
    "duration": 7,
    "start_time": "2022-03-04T14:59:27.500Z"
   },
   {
    "duration": 43,
    "start_time": "2022-03-04T14:59:27.509Z"
   },
   {
    "duration": 9,
    "start_time": "2022-03-04T14:59:27.555Z"
   },
   {
    "duration": 9,
    "start_time": "2022-03-04T14:59:27.567Z"
   },
   {
    "duration": 14,
    "start_time": "2022-03-04T14:59:27.578Z"
   },
   {
    "duration": 36,
    "start_time": "2022-03-04T14:59:27.593Z"
   },
   {
    "duration": 47,
    "start_time": "2022-03-04T14:59:27.630Z"
   },
   {
    "duration": 6,
    "start_time": "2022-03-04T14:59:27.680Z"
   },
   {
    "duration": 244,
    "start_time": "2022-03-04T14:59:27.689Z"
   },
   {
    "duration": 11,
    "start_time": "2022-03-04T14:59:27.936Z"
   },
   {
    "duration": 151,
    "start_time": "2022-03-04T14:59:27.950Z"
   },
   {
    "duration": 10,
    "start_time": "2022-03-04T14:59:28.164Z"
   },
   {
    "duration": 16,
    "start_time": "2022-03-04T14:59:28.262Z"
   },
   {
    "duration": 565,
    "start_time": "2022-03-04T14:59:28.281Z"
   },
   {
    "duration": 3,
    "start_time": "2022-03-04T14:59:28.848Z"
   },
   {
    "duration": 21,
    "start_time": "2022-03-04T14:59:28.853Z"
   },
   {
    "duration": 54,
    "start_time": "2022-03-04T14:59:28.875Z"
   },
   {
    "duration": -432,
    "start_time": "2022-03-04T14:59:29.363Z"
   },
   {
    "duration": -433,
    "start_time": "2022-03-04T14:59:29.365Z"
   },
   {
    "duration": -433,
    "start_time": "2022-03-04T14:59:29.367Z"
   },
   {
    "duration": -434,
    "start_time": "2022-03-04T14:59:29.369Z"
   },
   {
    "duration": 131,
    "start_time": "2022-03-04T14:59:43.242Z"
   },
   {
    "duration": 9,
    "start_time": "2022-03-04T14:59:45.920Z"
   },
   {
    "duration": 11,
    "start_time": "2022-03-04T15:10:07.872Z"
   },
   {
    "duration": 232,
    "start_time": "2022-03-04T15:10:08.304Z"
   },
   {
    "duration": 5,
    "start_time": "2022-03-04T15:32:57.347Z"
   },
   {
    "duration": 181,
    "start_time": "2022-03-04T15:34:07.921Z"
   },
   {
    "duration": 4,
    "start_time": "2022-03-04T15:34:12.481Z"
   },
   {
    "duration": 606,
    "start_time": "2022-03-04T15:34:13.257Z"
   },
   {
    "duration": 4,
    "start_time": "2022-03-04T15:34:34.070Z"
   },
   {
    "duration": 365,
    "start_time": "2022-03-04T15:34:34.735Z"
   },
   {
    "duration": 4,
    "start_time": "2022-03-04T15:34:41.232Z"
   },
   {
    "duration": 445,
    "start_time": "2022-03-04T15:34:42.418Z"
   },
   {
    "duration": 4,
    "start_time": "2022-03-04T15:34:57.528Z"
   },
   {
    "duration": 461,
    "start_time": "2022-03-04T15:34:58.146Z"
   },
   {
    "duration": 4,
    "start_time": "2022-03-04T15:35:14.328Z"
   },
   {
    "duration": 489,
    "start_time": "2022-03-04T15:35:14.802Z"
   },
   {
    "duration": 6,
    "start_time": "2022-03-06T12:46:34.976Z"
   },
   {
    "duration": 586,
    "start_time": "2022-03-06T12:46:37.042Z"
   },
   {
    "duration": 552,
    "start_time": "2022-03-06T12:47:13.127Z"
   },
   {
    "duration": 5,
    "start_time": "2022-03-06T12:53:38.746Z"
   },
   {
    "duration": 514,
    "start_time": "2022-03-06T12:53:39.314Z"
   },
   {
    "duration": 6,
    "start_time": "2022-03-06T12:56:17.472Z"
   },
   {
    "duration": 527,
    "start_time": "2022-03-06T12:56:18.260Z"
   },
   {
    "duration": 456,
    "start_time": "2022-03-06T12:58:20.119Z"
   },
   {
    "duration": 530,
    "start_time": "2022-03-06T12:58:20.642Z"
   },
   {
    "duration": 6,
    "start_time": "2022-03-06T12:58:34.462Z"
   },
   {
    "duration": 523,
    "start_time": "2022-03-06T12:58:35.935Z"
   },
   {
    "duration": 310,
    "start_time": "2022-03-06T13:00:26.550Z"
   },
   {
    "duration": 2192,
    "start_time": "2022-03-06T13:00:32.747Z"
   },
   {
    "duration": 94,
    "start_time": "2022-03-06T13:00:34.943Z"
   },
   {
    "duration": 21,
    "start_time": "2022-03-06T13:00:35.040Z"
   },
   {
    "duration": 12,
    "start_time": "2022-03-06T13:00:35.064Z"
   },
   {
    "duration": 72,
    "start_time": "2022-03-06T13:00:35.079Z"
   },
   {
    "duration": 49,
    "start_time": "2022-03-06T13:00:35.153Z"
   },
   {
    "duration": 61,
    "start_time": "2022-03-06T13:00:35.205Z"
   },
   {
    "duration": 8,
    "start_time": "2022-03-06T13:00:35.268Z"
   },
   {
    "duration": 292,
    "start_time": "2022-03-06T13:00:35.280Z"
   },
   {
    "duration": 11,
    "start_time": "2022-03-06T13:00:35.575Z"
   },
   {
    "duration": 263,
    "start_time": "2022-03-06T13:00:35.589Z"
   },
   {
    "duration": 98,
    "start_time": "2022-03-06T13:00:35.856Z"
   },
   {
    "duration": 13,
    "start_time": "2022-03-06T13:00:35.957Z"
   },
   {
    "duration": 579,
    "start_time": "2022-03-06T13:00:35.972Z"
   },
   {
    "duration": 5,
    "start_time": "2022-03-06T13:00:36.554Z"
   },
   {
    "duration": 20,
    "start_time": "2022-03-06T13:00:36.561Z"
   },
   {
    "duration": 376,
    "start_time": "2022-03-06T13:00:36.583Z"
   },
   {
    "duration": 345,
    "start_time": "2022-03-06T13:00:36.616Z"
   },
   {
    "duration": 342,
    "start_time": "2022-03-06T13:00:36.621Z"
   },
   {
    "duration": 341,
    "start_time": "2022-03-06T13:00:36.623Z"
   },
   {
    "duration": 336,
    "start_time": "2022-03-06T13:00:36.630Z"
   },
   {
    "duration": 333,
    "start_time": "2022-03-06T13:00:36.635Z"
   },
   {
    "duration": 13764,
    "start_time": "2022-03-06T13:00:48.475Z"
   },
   {
    "duration": 13417,
    "start_time": "2022-03-06T13:01:44.145Z"
   },
   {
    "duration": 2595,
    "start_time": "2022-03-06T13:02:24.669Z"
   },
   {
    "duration": 3198,
    "start_time": "2022-03-06T13:04:17.857Z"
   },
   {
    "duration": 112,
    "start_time": "2022-03-06T13:04:51.533Z"
   },
   {
    "duration": 110,
    "start_time": "2022-03-06T13:04:54.025Z"
   },
   {
    "duration": 112,
    "start_time": "2022-03-06T13:05:06.237Z"
   },
   {
    "duration": 108,
    "start_time": "2022-03-06T13:05:09.565Z"
   },
   {
    "duration": 113,
    "start_time": "2022-03-06T13:07:25.938Z"
   },
   {
    "duration": 115,
    "start_time": "2022-03-06T13:32:32.312Z"
   },
   {
    "duration": 414,
    "start_time": "2022-03-06T13:35:12.467Z"
   },
   {
    "duration": 460,
    "start_time": "2022-03-06T13:35:23.107Z"
   },
   {
    "duration": 5,
    "start_time": "2022-03-06T13:35:57.583Z"
   },
   {
    "duration": 17,
    "start_time": "2022-03-06T13:35:58.008Z"
   },
   {
    "duration": 576,
    "start_time": "2022-03-06T13:35:58.652Z"
   },
   {
    "duration": 588,
    "start_time": "2022-03-06T16:09:05.612Z"
   },
   {
    "duration": 614,
    "start_time": "2022-03-06T16:09:18.337Z"
   },
   {
    "duration": 556,
    "start_time": "2022-03-06T16:09:32.199Z"
   },
   {
    "duration": 571,
    "start_time": "2022-03-06T16:09:35.509Z"
   },
   {
    "duration": 581,
    "start_time": "2022-03-06T16:10:09.876Z"
   },
   {
    "duration": 623,
    "start_time": "2022-03-06T16:10:49.330Z"
   },
   {
    "duration": 588,
    "start_time": "2022-03-06T16:11:12.309Z"
   },
   {
    "duration": 624,
    "start_time": "2022-03-06T16:12:47.931Z"
   },
   {
    "duration": 25207,
    "start_time": "2022-03-06T16:14:23.546Z"
   },
   {
    "duration": 25470,
    "start_time": "2022-03-06T16:17:48.583Z"
   },
   {
    "duration": 17410,
    "start_time": "2022-03-06T16:18:37.844Z"
   },
   {
    "duration": 10,
    "start_time": "2022-03-06T16:19:41.652Z"
   },
   {
    "duration": 70,
    "start_time": "2022-03-06T16:19:41.666Z"
   },
   {
    "duration": 16,
    "start_time": "2022-03-06T16:19:41.752Z"
   },
   {
    "duration": 15,
    "start_time": "2022-03-06T16:19:41.771Z"
   },
   {
    "duration": 71,
    "start_time": "2022-03-06T16:19:41.789Z"
   },
   {
    "duration": 49,
    "start_time": "2022-03-06T16:19:41.863Z"
   },
   {
    "duration": 55,
    "start_time": "2022-03-06T16:19:41.916Z"
   },
   {
    "duration": 8,
    "start_time": "2022-03-06T16:19:41.974Z"
   },
   {
    "duration": 295,
    "start_time": "2022-03-06T16:19:41.984Z"
   },
   {
    "duration": 11,
    "start_time": "2022-03-06T16:19:42.281Z"
   },
   {
    "duration": 268,
    "start_time": "2022-03-06T16:19:42.294Z"
   },
   {
    "duration": 10,
    "start_time": "2022-03-06T16:19:42.652Z"
   },
   {
    "duration": 188,
    "start_time": "2022-03-06T16:19:42.665Z"
   },
   {
    "duration": 541,
    "start_time": "2022-03-06T16:19:42.855Z"
   },
   {
    "duration": 6,
    "start_time": "2022-03-06T16:19:43.398Z"
   },
   {
    "duration": 21,
    "start_time": "2022-03-06T16:19:43.406Z"
   },
   {
    "duration": 24701,
    "start_time": "2022-03-06T16:19:43.452Z"
   },
   {
    "duration": 398,
    "start_time": "2022-03-06T16:20:08.157Z"
   },
   {
    "duration": 100,
    "start_time": "2022-03-06T16:20:08.559Z"
   },
   {
    "duration": 192,
    "start_time": "2022-03-06T16:20:08.662Z"
   },
   {
    "duration": 680,
    "start_time": "2022-03-06T16:20:08.857Z"
   },
   {
    "duration": 15,
    "start_time": "2022-03-06T16:20:09.542Z"
   },
   {
    "duration": 24,
    "start_time": "2022-03-06T16:20:09.560Z"
   },
   {
    "duration": 25018,
    "start_time": "2022-03-06T16:20:11.633Z"
   },
   {
    "duration": 113,
    "start_time": "2022-03-06T16:20:36.654Z"
   },
   {
    "duration": 23986,
    "start_time": "2022-03-06T16:20:37.068Z"
   },
   {
    "duration": 394,
    "start_time": "2022-03-06T16:21:01.458Z"
   },
   {
    "duration": 98,
    "start_time": "2022-03-06T16:21:01.856Z"
   },
   {
    "duration": 99,
    "start_time": "2022-03-06T16:21:01.957Z"
   },
   {
    "duration": 24932,
    "start_time": "2022-03-06T16:21:38.845Z"
   },
   {
    "duration": 10,
    "start_time": "2022-03-06T16:23:36.905Z"
   },
   {
    "duration": 12,
    "start_time": "2022-03-06T16:23:44.583Z"
   },
   {
    "duration": 6,
    "start_time": "2022-03-06T16:24:07.141Z"
   },
   {
    "duration": 16,
    "start_time": "2022-03-06T16:24:08.065Z"
   },
   {
    "duration": 25269,
    "start_time": "2022-03-06T16:24:09.289Z"
   },
   {
    "duration": 635,
    "start_time": "2022-03-06T16:25:18.107Z"
   },
   {
    "duration": 10,
    "start_time": "2022-03-06T16:26:29.418Z"
   },
   {
    "duration": 675,
    "start_time": "2022-03-06T16:26:32.689Z"
   },
   {
    "duration": 9,
    "start_time": "2022-03-06T16:26:33.709Z"
   },
   {
    "duration": 605,
    "start_time": "2022-03-06T16:27:06.476Z"
   },
   {
    "duration": 237,
    "start_time": "2022-03-06T16:27:11.820Z"
   },
   {
    "duration": 8,
    "start_time": "2022-03-06T16:27:20.490Z"
   },
   {
    "duration": 11,
    "start_time": "2022-03-06T16:27:31.585Z"
   },
   {
    "duration": 622,
    "start_time": "2022-03-06T16:27:35.606Z"
   },
   {
    "duration": 777,
    "start_time": "2022-03-06T16:36:26.544Z"
   },
   {
    "duration": 756,
    "start_time": "2022-03-06T16:37:35.819Z"
   },
   {
    "duration": 742,
    "start_time": "2022-03-06T16:39:50.359Z"
   },
   {
    "duration": 19,
    "start_time": "2022-03-06T16:40:21.640Z"
   },
   {
    "duration": 65,
    "start_time": "2022-03-06T16:40:21.663Z"
   },
   {
    "duration": 30,
    "start_time": "2022-03-06T16:40:21.731Z"
   },
   {
    "duration": 32,
    "start_time": "2022-03-06T16:40:21.765Z"
   },
   {
    "duration": 63,
    "start_time": "2022-03-06T16:40:21.801Z"
   },
   {
    "duration": 61,
    "start_time": "2022-03-06T16:40:21.868Z"
   },
   {
    "duration": 35,
    "start_time": "2022-03-06T16:40:21.952Z"
   },
   {
    "duration": 10,
    "start_time": "2022-03-06T16:40:21.992Z"
   },
   {
    "duration": 299,
    "start_time": "2022-03-06T16:40:22.005Z"
   },
   {
    "duration": 15,
    "start_time": "2022-03-06T16:40:22.308Z"
   },
   {
    "duration": 233,
    "start_time": "2022-03-06T16:40:22.326Z"
   },
   {
    "duration": 92,
    "start_time": "2022-03-06T16:40:22.562Z"
   },
   {
    "duration": 103,
    "start_time": "2022-03-06T16:40:22.658Z"
   },
   {
    "duration": 592,
    "start_time": "2022-03-06T16:40:22.765Z"
   },
   {
    "duration": 7,
    "start_time": "2022-03-06T16:40:23.360Z"
   },
   {
    "duration": 24,
    "start_time": "2022-03-06T16:40:23.371Z"
   },
   {
    "duration": 654,
    "start_time": "2022-03-06T16:40:23.398Z"
   },
   {
    "duration": 12,
    "start_time": "2022-03-06T16:40:24.056Z"
   },
   {
    "duration": 19,
    "start_time": "2022-03-06T16:40:24.071Z"
   },
   {
    "duration": 62,
    "start_time": "2022-03-06T16:40:24.093Z"
   },
   {
    "duration": 462,
    "start_time": "2022-03-06T16:40:24.159Z"
   },
   {
    "duration": 9,
    "start_time": "2022-03-06T16:41:30.161Z"
   },
   {
    "duration": 63,
    "start_time": "2022-03-06T16:41:30.174Z"
   },
   {
    "duration": 12,
    "start_time": "2022-03-06T16:41:30.252Z"
   },
   {
    "duration": 11,
    "start_time": "2022-03-06T16:41:30.267Z"
   },
   {
    "duration": 72,
    "start_time": "2022-03-06T16:41:30.281Z"
   },
   {
    "duration": 52,
    "start_time": "2022-03-06T16:41:30.355Z"
   },
   {
    "duration": 67,
    "start_time": "2022-03-06T16:41:30.410Z"
   },
   {
    "duration": 10,
    "start_time": "2022-03-06T16:41:30.482Z"
   },
   {
    "duration": 379,
    "start_time": "2022-03-06T16:41:30.495Z"
   },
   {
    "duration": 15,
    "start_time": "2022-03-06T16:41:30.878Z"
   },
   {
    "duration": 265,
    "start_time": "2022-03-06T16:41:30.899Z"
   },
   {
    "duration": 13,
    "start_time": "2022-03-06T16:41:31.253Z"
   },
   {
    "duration": 91,
    "start_time": "2022-03-06T16:41:31.269Z"
   },
   {
    "duration": 627,
    "start_time": "2022-03-06T16:41:31.363Z"
   },
   {
    "duration": 6,
    "start_time": "2022-03-06T16:41:31.992Z"
   },
   {
    "duration": 50,
    "start_time": "2022-03-06T16:41:32.001Z"
   },
   {
    "duration": 26408,
    "start_time": "2022-03-06T16:41:32.055Z"
   },
   {
    "duration": 180,
    "start_time": "2022-03-06T16:41:58.473Z"
   },
   {
    "duration": 16,
    "start_time": "2022-03-06T16:41:58.656Z"
   },
   {
    "duration": 13,
    "start_time": "2022-03-06T16:41:58.675Z"
   },
   {
    "duration": 670,
    "start_time": "2022-03-06T16:41:58.691Z"
   },
   {
    "duration": 9,
    "start_time": "2022-03-06T16:43:07.387Z"
   },
   {
    "duration": 53,
    "start_time": "2022-03-06T16:43:07.399Z"
   },
   {
    "duration": 16,
    "start_time": "2022-03-06T16:43:07.456Z"
   },
   {
    "duration": 13,
    "start_time": "2022-03-06T16:43:07.477Z"
   },
   {
    "duration": 83,
    "start_time": "2022-03-06T16:43:07.493Z"
   },
   {
    "duration": 105,
    "start_time": "2022-03-06T16:43:07.579Z"
   },
   {
    "duration": 42,
    "start_time": "2022-03-06T16:43:07.687Z"
   },
   {
    "duration": 12,
    "start_time": "2022-03-06T16:43:07.753Z"
   },
   {
    "duration": 391,
    "start_time": "2022-03-06T16:43:07.770Z"
   },
   {
    "duration": 21,
    "start_time": "2022-03-06T16:43:08.165Z"
   },
   {
    "duration": 204,
    "start_time": "2022-03-06T16:43:08.189Z"
   },
   {
    "duration": 99,
    "start_time": "2022-03-06T16:43:08.454Z"
   },
   {
    "duration": 18,
    "start_time": "2022-03-06T16:43:08.556Z"
   },
   {
    "duration": 586,
    "start_time": "2022-03-06T16:43:08.577Z"
   },
   {
    "duration": 10,
    "start_time": "2022-03-06T16:43:09.167Z"
   },
   {
    "duration": 30,
    "start_time": "2022-03-06T16:43:09.181Z"
   },
   {
    "duration": 27639,
    "start_time": "2022-03-06T16:43:09.214Z"
   },
   {
    "duration": 13,
    "start_time": "2022-03-06T16:43:36.857Z"
   },
   {
    "duration": 106,
    "start_time": "2022-03-06T16:43:36.873Z"
   },
   {
    "duration": 15,
    "start_time": "2022-03-06T16:43:36.982Z"
   },
   {
    "duration": 711,
    "start_time": "2022-03-06T16:43:37.001Z"
   },
   {
    "duration": 607,
    "start_time": "2022-03-06T16:45:57.545Z"
   },
   {
    "duration": 631,
    "start_time": "2022-03-06T16:46:13.239Z"
   },
   {
    "duration": 628,
    "start_time": "2022-03-06T16:46:21.736Z"
   },
   {
    "duration": 644,
    "start_time": "2022-03-06T16:47:07.698Z"
   },
   {
    "duration": 602,
    "start_time": "2022-03-06T16:48:13.569Z"
   },
   {
    "duration": 8,
    "start_time": "2022-03-06T16:49:06.014Z"
   },
   {
    "duration": 50,
    "start_time": "2022-03-06T16:49:06.025Z"
   },
   {
    "duration": 15,
    "start_time": "2022-03-06T16:49:06.078Z"
   },
   {
    "duration": 16,
    "start_time": "2022-03-06T16:49:06.097Z"
   },
   {
    "duration": 69,
    "start_time": "2022-03-06T16:49:06.116Z"
   },
   {
    "duration": 77,
    "start_time": "2022-03-06T16:49:06.188Z"
   },
   {
    "duration": 32,
    "start_time": "2022-03-06T16:49:06.268Z"
   },
   {
    "duration": 9,
    "start_time": "2022-03-06T16:49:06.303Z"
   },
   {
    "duration": 409,
    "start_time": "2022-03-06T16:49:06.317Z"
   },
   {
    "duration": 29,
    "start_time": "2022-03-06T16:49:06.729Z"
   },
   {
    "duration": 215,
    "start_time": "2022-03-06T16:49:06.761Z"
   },
   {
    "duration": 100,
    "start_time": "2022-03-06T16:49:07.053Z"
   },
   {
    "duration": 96,
    "start_time": "2022-03-06T16:49:07.157Z"
   },
   {
    "duration": 503,
    "start_time": "2022-03-06T16:49:07.257Z"
   },
   {
    "duration": 5,
    "start_time": "2022-03-06T16:49:07.763Z"
   },
   {
    "duration": 22,
    "start_time": "2022-03-06T16:49:07.771Z"
   },
   {
    "duration": 667,
    "start_time": "2022-03-06T16:49:07.795Z"
   },
   {
    "duration": 9,
    "start_time": "2022-03-06T16:49:08.465Z"
   },
   {
    "duration": 16,
    "start_time": "2022-03-06T16:49:08.476Z"
   },
   {
    "duration": 10,
    "start_time": "2022-03-06T16:49:08.494Z"
   },
   {
    "duration": 465,
    "start_time": "2022-03-06T16:49:08.506Z"
   },
   {
    "duration": 773,
    "start_time": "2022-03-06T16:50:13.233Z"
   },
   {
    "duration": 746,
    "start_time": "2022-03-06T16:51:41.500Z"
   },
   {
    "duration": 585,
    "start_time": "2022-03-06T16:52:06.968Z"
   },
   {
    "duration": 9,
    "start_time": "2022-03-06T16:52:37.510Z"
   },
   {
    "duration": 11,
    "start_time": "2022-03-06T16:53:09.007Z"
   },
   {
    "duration": 53,
    "start_time": "2022-03-06T16:53:09.021Z"
   },
   {
    "duration": 12,
    "start_time": "2022-03-06T16:53:09.077Z"
   },
   {
    "duration": 14,
    "start_time": "2022-03-06T16:53:09.092Z"
   },
   {
    "duration": 61,
    "start_time": "2022-03-06T16:53:09.109Z"
   },
   {
    "duration": 52,
    "start_time": "2022-03-06T16:53:09.173Z"
   },
   {
    "duration": 153,
    "start_time": "2022-03-06T16:53:09.228Z"
   },
   {
    "duration": 9,
    "start_time": "2022-03-06T16:53:09.387Z"
   },
   {
    "duration": 264,
    "start_time": "2022-03-06T16:53:09.400Z"
   },
   {
    "duration": 10,
    "start_time": "2022-03-06T16:53:09.667Z"
   },
   {
    "duration": 280,
    "start_time": "2022-03-06T16:53:09.679Z"
   },
   {
    "duration": 95,
    "start_time": "2022-03-06T16:53:09.962Z"
   },
   {
    "duration": 193,
    "start_time": "2022-03-06T16:53:10.060Z"
   },
   {
    "duration": 429,
    "start_time": "2022-03-06T16:53:10.256Z"
   },
   {
    "duration": 5,
    "start_time": "2022-03-06T16:53:10.687Z"
   },
   {
    "duration": 18,
    "start_time": "2022-03-06T16:53:10.695Z"
   },
   {
    "duration": 646,
    "start_time": "2022-03-06T16:53:10.715Z"
   },
   {
    "duration": 16,
    "start_time": "2022-03-06T16:53:11.363Z"
   },
   {
    "duration": 10,
    "start_time": "2022-03-06T16:53:11.381Z"
   },
   {
    "duration": 477,
    "start_time": "2022-03-06T16:53:11.393Z"
   },
   {
    "duration": 9,
    "start_time": "2022-03-06T17:03:01.551Z"
   },
   {
    "duration": 54,
    "start_time": "2022-03-06T17:03:01.563Z"
   },
   {
    "duration": 37,
    "start_time": "2022-03-06T17:03:01.620Z"
   },
   {
    "duration": 18,
    "start_time": "2022-03-06T17:03:01.661Z"
   },
   {
    "duration": 69,
    "start_time": "2022-03-06T17:03:01.683Z"
   },
   {
    "duration": 78,
    "start_time": "2022-03-06T17:03:01.755Z"
   },
   {
    "duration": 46,
    "start_time": "2022-03-06T17:03:01.851Z"
   },
   {
    "duration": 12,
    "start_time": "2022-03-06T17:03:01.900Z"
   },
   {
    "duration": 439,
    "start_time": "2022-03-06T17:03:01.918Z"
   },
   {
    "duration": 17,
    "start_time": "2022-03-06T17:03:02.362Z"
   },
   {
    "duration": 273,
    "start_time": "2022-03-06T17:03:02.382Z"
   },
   {
    "duration": 97,
    "start_time": "2022-03-06T17:03:02.659Z"
   },
   {
    "duration": 107,
    "start_time": "2022-03-06T17:03:02.758Z"
   },
   {
    "duration": 448,
    "start_time": "2022-03-06T17:03:02.952Z"
   },
   {
    "duration": 6,
    "start_time": "2022-03-06T17:03:03.402Z"
   },
   {
    "duration": 26,
    "start_time": "2022-03-06T17:03:03.411Z"
   },
   {
    "duration": 617,
    "start_time": "2022-03-06T17:03:03.440Z"
   },
   {
    "duration": 16,
    "start_time": "2022-03-06T17:03:04.060Z"
   },
   {
    "duration": 9,
    "start_time": "2022-03-06T17:03:04.079Z"
   },
   {
    "duration": 460,
    "start_time": "2022-03-06T17:03:04.091Z"
   },
   {
    "duration": 1211,
    "start_time": "2022-03-07T12:46:56.967Z"
   },
   {
    "duration": 43,
    "start_time": "2022-03-07T12:46:58.181Z"
   },
   {
    "duration": 9,
    "start_time": "2022-03-07T12:46:58.227Z"
   },
   {
    "duration": 13,
    "start_time": "2022-03-07T12:46:58.238Z"
   },
   {
    "duration": 17,
    "start_time": "2022-03-07T12:46:58.253Z"
   },
   {
    "duration": 63,
    "start_time": "2022-03-07T12:46:58.272Z"
   },
   {
    "duration": 21,
    "start_time": "2022-03-07T12:46:58.337Z"
   },
   {
    "duration": 6,
    "start_time": "2022-03-07T12:46:58.361Z"
   },
   {
    "duration": 193,
    "start_time": "2022-03-07T12:46:58.369Z"
   },
   {
    "duration": 9,
    "start_time": "2022-03-07T12:46:58.564Z"
   },
   {
    "duration": 227,
    "start_time": "2022-03-07T12:46:58.574Z"
   },
   {
    "duration": 7,
    "start_time": "2022-03-07T12:46:58.804Z"
   },
   {
    "duration": 90,
    "start_time": "2022-03-07T12:46:58.813Z"
   },
   {
    "duration": 361,
    "start_time": "2022-03-07T12:46:58.906Z"
   },
   {
    "duration": 6,
    "start_time": "2022-03-07T12:46:59.269Z"
   },
   {
    "duration": 29,
    "start_time": "2022-03-07T12:46:59.276Z"
   },
   {
    "duration": 457,
    "start_time": "2022-03-07T12:46:59.307Z"
   },
   {
    "duration": 11,
    "start_time": "2022-03-07T12:46:59.766Z"
   },
   {
    "duration": 24,
    "start_time": "2022-03-07T12:46:59.779Z"
   },
   {
    "duration": 274,
    "start_time": "2022-03-07T12:46:59.805Z"
   },
   {
    "duration": 460,
    "start_time": "2022-03-07T12:48:07.001Z"
   },
   {
    "duration": 13,
    "start_time": "2022-03-07T12:48:10.600Z"
   },
   {
    "duration": 371,
    "start_time": "2022-03-07T12:49:52.390Z"
   },
   {
    "duration": 13,
    "start_time": "2022-03-07T12:49:55.735Z"
   },
   {
    "duration": 571,
    "start_time": "2022-03-07T12:59:42.248Z"
   },
   {
    "duration": 465,
    "start_time": "2022-03-07T12:59:54.111Z"
   },
   {
    "duration": 459,
    "start_time": "2022-03-07T13:00:11.116Z"
   },
   {
    "duration": 6,
    "start_time": "2022-03-07T13:06:32.533Z"
   },
   {
    "duration": 55,
    "start_time": "2022-03-07T13:06:32.542Z"
   },
   {
    "duration": 8,
    "start_time": "2022-03-07T13:06:32.599Z"
   },
   {
    "duration": 15,
    "start_time": "2022-03-07T13:06:32.610Z"
   },
   {
    "duration": 17,
    "start_time": "2022-03-07T13:06:32.627Z"
   },
   {
    "duration": 56,
    "start_time": "2022-03-07T13:06:32.646Z"
   },
   {
    "duration": 22,
    "start_time": "2022-03-07T13:06:32.704Z"
   },
   {
    "duration": 5,
    "start_time": "2022-03-07T13:06:32.731Z"
   },
   {
    "duration": 181,
    "start_time": "2022-03-07T13:06:32.738Z"
   },
   {
    "duration": 11,
    "start_time": "2022-03-07T13:06:32.921Z"
   },
   {
    "duration": 172,
    "start_time": "2022-03-07T13:06:32.933Z"
   },
   {
    "duration": 95,
    "start_time": "2022-03-07T13:06:33.107Z"
   },
   {
    "duration": 100,
    "start_time": "2022-03-07T13:06:33.204Z"
   },
   {
    "duration": 354,
    "start_time": "2022-03-07T13:06:33.306Z"
   },
   {
    "duration": 4,
    "start_time": "2022-03-07T13:06:33.662Z"
   },
   {
    "duration": 17,
    "start_time": "2022-03-07T13:06:33.667Z"
   },
   {
    "duration": 446,
    "start_time": "2022-03-07T13:06:33.686Z"
   },
   {
    "duration": 12,
    "start_time": "2022-03-07T13:06:34.134Z"
   },
   {
    "duration": 12,
    "start_time": "2022-03-07T13:06:34.148Z"
   },
   {
    "duration": 324,
    "start_time": "2022-03-07T13:06:34.161Z"
   },
   {
    "duration": 434,
    "start_time": "2022-03-07T13:10:43.227Z"
   },
   {
    "duration": 6,
    "start_time": "2022-03-07T13:15:33.592Z"
   },
   {
    "duration": 58,
    "start_time": "2022-03-07T13:15:33.600Z"
   },
   {
    "duration": 9,
    "start_time": "2022-03-07T13:15:33.661Z"
   },
   {
    "duration": 17,
    "start_time": "2022-03-07T13:15:33.672Z"
   },
   {
    "duration": 22,
    "start_time": "2022-03-07T13:15:33.691Z"
   },
   {
    "duration": 43,
    "start_time": "2022-03-07T13:15:33.715Z"
   },
   {
    "duration": 20,
    "start_time": "2022-03-07T13:15:33.760Z"
   },
   {
    "duration": 23,
    "start_time": "2022-03-07T13:15:33.782Z"
   },
   {
    "duration": 157,
    "start_time": "2022-03-07T13:15:33.808Z"
   },
   {
    "duration": 11,
    "start_time": "2022-03-07T13:15:33.967Z"
   },
   {
    "duration": 126,
    "start_time": "2022-03-07T13:15:33.979Z"
   },
   {
    "duration": 101,
    "start_time": "2022-03-07T13:15:34.108Z"
   },
   {
    "duration": 14,
    "start_time": "2022-03-07T13:15:34.300Z"
   },
   {
    "duration": 355,
    "start_time": "2022-03-07T13:15:34.401Z"
   },
   {
    "duration": 5,
    "start_time": "2022-03-07T13:15:34.758Z"
   },
   {
    "duration": 15,
    "start_time": "2022-03-07T13:15:34.764Z"
   },
   {
    "duration": 404,
    "start_time": "2022-03-07T13:15:34.782Z"
   },
   {
    "duration": 25,
    "start_time": "2022-03-07T13:15:35.187Z"
   },
   {
    "duration": 11,
    "start_time": "2022-03-07T13:15:35.214Z"
   },
   {
    "duration": 276,
    "start_time": "2022-03-07T13:15:35.227Z"
   },
   {
    "duration": 227,
    "start_time": "2022-03-07T13:15:35.505Z"
   },
   {
    "duration": 1264,
    "start_time": "2022-03-07T13:15:34.470Z"
   },
   {
    "duration": 128,
    "start_time": "2022-03-07T13:20:11.678Z"
   },
   {
    "duration": 6,
    "start_time": "2022-03-07T13:20:53.628Z"
   },
   {
    "duration": 8,
    "start_time": "2022-03-07T13:25:39.804Z"
   },
   {
    "duration": 248,
    "start_time": "2022-03-07T13:25:50.407Z"
   },
   {
    "duration": 128,
    "start_time": "2022-03-07T13:25:59.776Z"
   },
   {
    "duration": 6,
    "start_time": "2022-03-07T13:28:30.712Z"
   },
   {
    "duration": 48,
    "start_time": "2022-03-07T13:28:30.719Z"
   },
   {
    "duration": 8,
    "start_time": "2022-03-07T13:28:30.769Z"
   },
   {
    "duration": 23,
    "start_time": "2022-03-07T13:28:30.779Z"
   },
   {
    "duration": 25,
    "start_time": "2022-03-07T13:28:30.804Z"
   },
   {
    "duration": 43,
    "start_time": "2022-03-07T13:28:30.831Z"
   },
   {
    "duration": 34,
    "start_time": "2022-03-07T13:28:30.876Z"
   },
   {
    "duration": 6,
    "start_time": "2022-03-07T13:28:30.913Z"
   },
   {
    "duration": 180,
    "start_time": "2022-03-07T13:28:30.922Z"
   },
   {
    "duration": 11,
    "start_time": "2022-03-07T13:28:31.105Z"
   },
   {
    "duration": 185,
    "start_time": "2022-03-07T13:28:31.118Z"
   },
   {
    "duration": 99,
    "start_time": "2022-03-07T13:28:31.306Z"
   },
   {
    "duration": 94,
    "start_time": "2022-03-07T13:28:31.407Z"
   },
   {
    "duration": 352,
    "start_time": "2022-03-07T13:28:31.504Z"
   },
   {
    "duration": 4,
    "start_time": "2022-03-07T13:28:31.858Z"
   },
   {
    "duration": 28,
    "start_time": "2022-03-07T13:28:31.864Z"
   },
   {
    "duration": 379,
    "start_time": "2022-03-07T13:28:31.894Z"
   },
   {
    "duration": 27,
    "start_time": "2022-03-07T13:28:32.275Z"
   },
   {
    "duration": 7,
    "start_time": "2022-03-07T13:28:32.304Z"
   },
   {
    "duration": 260,
    "start_time": "2022-03-07T13:28:32.313Z"
   },
   {
    "duration": 179,
    "start_time": "2022-03-07T13:28:32.575Z"
   },
   {
    "duration": 1266,
    "start_time": "2022-03-07T13:28:31.490Z"
   },
   {
    "duration": 1265,
    "start_time": "2022-03-07T13:28:31.492Z"
   },
   {
    "duration": 1262,
    "start_time": "2022-03-07T13:28:31.496Z"
   },
   {
    "duration": 1261,
    "start_time": "2022-03-07T13:28:31.498Z"
   },
   {
    "duration": 115,
    "start_time": "2022-03-07T13:28:39.990Z"
   },
   {
    "duration": 6,
    "start_time": "2022-03-07T13:28:40.708Z"
   },
   {
    "duration": 9,
    "start_time": "2022-03-07T13:28:46.339Z"
   },
   {
    "duration": 254,
    "start_time": "2022-03-07T13:28:47.149Z"
   },
   {
    "duration": 27,
    "start_time": "2022-03-07T13:30:41.938Z"
   },
   {
    "duration": 35,
    "start_time": "2022-03-07T13:30:41.967Z"
   },
   {
    "duration": 9,
    "start_time": "2022-03-07T13:30:42.005Z"
   },
   {
    "duration": 16,
    "start_time": "2022-03-07T13:30:42.016Z"
   },
   {
    "duration": 15,
    "start_time": "2022-03-07T13:30:42.034Z"
   },
   {
    "duration": 74,
    "start_time": "2022-03-07T13:30:42.051Z"
   },
   {
    "duration": 23,
    "start_time": "2022-03-07T13:30:42.128Z"
   },
   {
    "duration": 6,
    "start_time": "2022-03-07T13:30:42.153Z"
   },
   {
    "duration": 183,
    "start_time": "2022-03-07T13:30:42.162Z"
   },
   {
    "duration": 12,
    "start_time": "2022-03-07T13:30:42.347Z"
   },
   {
    "duration": 147,
    "start_time": "2022-03-07T13:30:42.361Z"
   },
   {
    "duration": 97,
    "start_time": "2022-03-07T13:30:42.511Z"
   },
   {
    "duration": 103,
    "start_time": "2022-03-07T13:30:42.610Z"
   },
   {
    "duration": 394,
    "start_time": "2022-03-07T13:30:42.715Z"
   },
   {
    "duration": 5,
    "start_time": "2022-03-07T13:30:43.111Z"
   },
   {
    "duration": 19,
    "start_time": "2022-03-07T13:30:43.118Z"
   },
   {
    "duration": 437,
    "start_time": "2022-03-07T13:30:43.139Z"
   },
   {
    "duration": 30,
    "start_time": "2022-03-07T13:30:43.577Z"
   },
   {
    "duration": 10,
    "start_time": "2022-03-07T13:30:43.609Z"
   },
   {
    "duration": 361,
    "start_time": "2022-03-07T13:30:43.622Z"
   },
   {
    "duration": 213,
    "start_time": "2022-03-07T13:30:43.985Z"
   },
   {
    "duration": 1270,
    "start_time": "2022-03-07T13:30:42.931Z"
   },
   {
    "duration": 1258,
    "start_time": "2022-03-07T13:30:42.945Z"
   },
   {
    "duration": 1257,
    "start_time": "2022-03-07T13:30:42.948Z"
   },
   {
    "duration": 1250,
    "start_time": "2022-03-07T13:30:42.956Z"
   },
   {
    "duration": 178,
    "start_time": "2022-03-07T14:07:57.544Z"
   },
   {
    "duration": 6,
    "start_time": "2022-03-07T14:08:17.624Z"
   },
   {
    "duration": 49,
    "start_time": "2022-03-07T14:08:17.633Z"
   },
   {
    "duration": 21,
    "start_time": "2022-03-07T14:08:17.685Z"
   },
   {
    "duration": 12,
    "start_time": "2022-03-07T14:08:17.709Z"
   },
   {
    "duration": 21,
    "start_time": "2022-03-07T14:08:17.723Z"
   },
   {
    "duration": 78,
    "start_time": "2022-03-07T14:08:17.746Z"
   },
   {
    "duration": 22,
    "start_time": "2022-03-07T14:08:17.826Z"
   },
   {
    "duration": 8,
    "start_time": "2022-03-07T14:08:17.850Z"
   },
   {
    "duration": 183,
    "start_time": "2022-03-07T14:08:17.862Z"
   },
   {
    "duration": 11,
    "start_time": "2022-03-07T14:08:18.048Z"
   },
   {
    "duration": 142,
    "start_time": "2022-03-07T14:08:18.061Z"
   },
   {
    "duration": 99,
    "start_time": "2022-03-07T14:08:18.206Z"
   },
   {
    "duration": 104,
    "start_time": "2022-03-07T14:08:18.308Z"
   },
   {
    "duration": 373,
    "start_time": "2022-03-07T14:08:18.415Z"
   },
   {
    "duration": 4,
    "start_time": "2022-03-07T14:08:18.790Z"
   },
   {
    "duration": 23,
    "start_time": "2022-03-07T14:08:18.796Z"
   },
   {
    "duration": 450,
    "start_time": "2022-03-07T14:08:18.821Z"
   },
   {
    "duration": 36,
    "start_time": "2022-03-07T14:08:19.273Z"
   },
   {
    "duration": 7,
    "start_time": "2022-03-07T14:08:19.311Z"
   },
   {
    "duration": 281,
    "start_time": "2022-03-07T14:08:19.320Z"
   },
   {
    "duration": 12131,
    "start_time": "2022-03-07T14:08:19.603Z"
   },
   {
    "duration": 169,
    "start_time": "2022-03-07T14:08:31.736Z"
   },
   {
    "duration": 96,
    "start_time": "2022-03-07T14:08:31.907Z"
   },
   {
    "duration": 34,
    "start_time": "2022-03-07T14:08:32.004Z"
   },
   {
    "duration": 286,
    "start_time": "2022-03-07T14:08:32.040Z"
   },
   {
    "duration": 13,
    "start_time": "2022-03-07T14:15:56.080Z"
   },
   {
    "duration": 12491,
    "start_time": "2022-03-07T14:18:41.184Z"
   },
   {
    "duration": 365,
    "start_time": "2022-03-07T14:20:42.020Z"
   },
   {
    "duration": 6,
    "start_time": "2022-03-07T14:20:54.185Z"
   },
   {
    "duration": 43,
    "start_time": "2022-03-07T14:20:54.193Z"
   },
   {
    "duration": 8,
    "start_time": "2022-03-07T14:20:54.238Z"
   },
   {
    "duration": 9,
    "start_time": "2022-03-07T14:20:54.248Z"
   },
   {
    "duration": 47,
    "start_time": "2022-03-07T14:20:54.259Z"
   },
   {
    "duration": 40,
    "start_time": "2022-03-07T14:20:54.308Z"
   },
   {
    "duration": 19,
    "start_time": "2022-03-07T14:20:54.351Z"
   },
   {
    "duration": 7,
    "start_time": "2022-03-07T14:20:54.401Z"
   },
   {
    "duration": 160,
    "start_time": "2022-03-07T14:20:54.410Z"
   },
   {
    "duration": 11,
    "start_time": "2022-03-07T14:20:54.573Z"
   },
   {
    "duration": 101,
    "start_time": "2022-03-07T14:20:54.602Z"
   },
   {
    "duration": 100,
    "start_time": "2022-03-07T14:20:54.706Z"
   },
   {
    "duration": 104,
    "start_time": "2022-03-07T14:20:54.809Z"
   },
   {
    "duration": 367,
    "start_time": "2022-03-07T14:20:55.003Z"
   },
   {
    "duration": 6,
    "start_time": "2022-03-07T14:20:55.372Z"
   },
   {
    "duration": 30,
    "start_time": "2022-03-07T14:20:55.380Z"
   },
   {
    "duration": 425,
    "start_time": "2022-03-07T14:20:55.413Z"
   },
   {
    "duration": 16,
    "start_time": "2022-03-07T14:20:55.840Z"
   },
   {
    "duration": 7,
    "start_time": "2022-03-07T14:20:55.858Z"
   },
   {
    "duration": 299,
    "start_time": "2022-03-07T14:20:55.867Z"
   },
   {
    "duration": 12508,
    "start_time": "2022-03-07T14:20:56.167Z"
   },
   {
    "duration": 131,
    "start_time": "2022-03-07T14:21:08.677Z"
   },
   {
    "duration": 98,
    "start_time": "2022-03-07T14:21:08.811Z"
   },
   {
    "duration": 13,
    "start_time": "2022-03-07T14:21:09.002Z"
   },
   {
    "duration": 276,
    "start_time": "2022-03-07T14:21:09.018Z"
   },
   {
    "duration": 212,
    "start_time": "2022-03-07T14:27:48.756Z"
   },
   {
    "duration": 60,
    "start_time": "2022-03-07T14:27:56.827Z"
   },
   {
    "duration": 57,
    "start_time": "2022-03-07T14:28:20.602Z"
   },
   {
    "duration": 7,
    "start_time": "2022-03-07T14:29:38.527Z"
   },
   {
    "duration": 12,
    "start_time": "2022-03-07T14:31:55.656Z"
   },
   {
    "duration": 271,
    "start_time": "2022-03-07T14:31:56.604Z"
   },
   {
    "duration": 13398,
    "start_time": "2022-03-07T14:35:00.564Z"
   },
   {
    "duration": 13357,
    "start_time": "2022-03-07T14:35:27.617Z"
   },
   {
    "duration": 13229,
    "start_time": "2022-03-07T14:36:08.298Z"
   },
   {
    "duration": 13273,
    "start_time": "2022-03-07T14:37:00.769Z"
   },
   {
    "duration": 32,
    "start_time": "2022-03-07T14:38:56.264Z"
   },
   {
    "duration": 33,
    "start_time": "2022-03-07T14:39:50.931Z"
   },
   {
    "duration": 6,
    "start_time": "2022-03-07T14:40:18.512Z"
   },
   {
    "duration": 8,
    "start_time": "2022-03-07T14:42:01.367Z"
   },
   {
    "duration": 248,
    "start_time": "2022-03-07T14:42:24.731Z"
   },
   {
    "duration": 7,
    "start_time": "2022-03-07T14:53:24.372Z"
   },
   {
    "duration": 75,
    "start_time": "2022-03-07T14:54:46.841Z"
   },
   {
    "duration": 7,
    "start_time": "2022-03-07T14:55:19.646Z"
   },
   {
    "duration": 263,
    "start_time": "2022-03-07T14:55:31.566Z"
   },
   {
    "duration": 18072,
    "start_time": "2022-03-07T14:56:32.233Z"
   },
   {
    "duration": 8,
    "start_time": "2022-03-07T14:56:50.307Z"
   },
   {
    "duration": 32,
    "start_time": "2022-03-07T14:57:15.372Z"
   },
   {
    "duration": 6,
    "start_time": "2022-03-07T14:57:17.381Z"
   },
   {
    "duration": 8,
    "start_time": "2022-03-07T14:57:20.587Z"
   },
   {
    "duration": 251,
    "start_time": "2022-03-07T14:57:21.044Z"
   },
   {
    "duration": 107,
    "start_time": "2022-03-07T14:58:54.287Z"
   },
   {
    "duration": 173,
    "start_time": "2022-03-07T14:59:11.272Z"
   },
   {
    "duration": 107,
    "start_time": "2022-03-07T14:59:19.356Z"
   },
   {
    "duration": 8,
    "start_time": "2022-03-07T15:00:28.700Z"
   },
   {
    "duration": 16,
    "start_time": "2022-03-07T15:02:40.444Z"
   },
   {
    "duration": 278,
    "start_time": "2022-03-07T15:02:41.159Z"
   },
   {
    "duration": 1318,
    "start_time": "2022-03-07T15:07:11.379Z"
   },
   {
    "duration": 186,
    "start_time": "2022-03-07T15:07:56.464Z"
   },
   {
    "duration": 74310,
    "start_time": "2022-03-07T15:08:14.046Z"
   },
   {
    "duration": 1319,
    "start_time": "2022-03-07T15:09:27.039Z"
   },
   {
    "duration": 73678,
    "start_time": "2022-03-07T15:10:05.727Z"
   },
   {
    "duration": 1305,
    "start_time": "2022-03-07T15:12:52.515Z"
   },
   {
    "duration": 1288,
    "start_time": "2022-03-07T15:12:52.533Z"
   },
   {
    "duration": 1283,
    "start_time": "2022-03-07T15:12:52.539Z"
   },
   {
    "duration": 1280,
    "start_time": "2022-03-07T15:12:52.543Z"
   },
   {
    "duration": 1277,
    "start_time": "2022-03-07T15:12:52.547Z"
   },
   {
    "duration": 1274,
    "start_time": "2022-03-07T15:12:52.551Z"
   },
   {
    "duration": 1271,
    "start_time": "2022-03-07T15:12:52.555Z"
   },
   {
    "duration": 1267,
    "start_time": "2022-03-07T15:12:52.560Z"
   },
   {
    "duration": 1263,
    "start_time": "2022-03-07T15:12:52.565Z"
   },
   {
    "duration": 1257,
    "start_time": "2022-03-07T15:12:52.572Z"
   },
   {
    "duration": 1253,
    "start_time": "2022-03-07T15:12:52.577Z"
   },
   {
    "duration": 1248,
    "start_time": "2022-03-07T15:12:52.582Z"
   },
   {
    "duration": 1244,
    "start_time": "2022-03-07T15:12:52.587Z"
   },
   {
    "duration": 1240,
    "start_time": "2022-03-07T15:12:52.592Z"
   },
   {
    "duration": 1237,
    "start_time": "2022-03-07T15:12:52.596Z"
   },
   {
    "duration": 1222,
    "start_time": "2022-03-07T15:12:52.612Z"
   },
   {
    "duration": 1218,
    "start_time": "2022-03-07T15:12:52.617Z"
   },
   {
    "duration": 1213,
    "start_time": "2022-03-07T15:12:52.623Z"
   },
   {
    "duration": 1194,
    "start_time": "2022-03-07T15:12:52.644Z"
   },
   {
    "duration": 1191,
    "start_time": "2022-03-07T15:12:52.648Z"
   },
   {
    "duration": 1188,
    "start_time": "2022-03-07T15:12:52.652Z"
   },
   {
    "duration": 1186,
    "start_time": "2022-03-07T15:12:52.655Z"
   },
   {
    "duration": 1175,
    "start_time": "2022-03-07T15:12:52.667Z"
   },
   {
    "duration": 1172,
    "start_time": "2022-03-07T15:12:52.672Z"
   },
   {
    "duration": 1158,
    "start_time": "2022-03-07T15:12:52.687Z"
   },
   {
    "duration": 1153,
    "start_time": "2022-03-07T15:12:52.693Z"
   },
   {
    "duration": 1142,
    "start_time": "2022-03-07T15:12:52.705Z"
   },
   {
    "duration": 1129,
    "start_time": "2022-03-07T15:12:52.720Z"
   },
   {
    "duration": 1125,
    "start_time": "2022-03-07T15:12:52.725Z"
   },
   {
    "duration": 1115,
    "start_time": "2022-03-07T15:12:52.736Z"
   },
   {
    "duration": 1110,
    "start_time": "2022-03-07T15:12:52.741Z"
   },
   {
    "duration": 1095,
    "start_time": "2022-03-07T15:12:52.757Z"
   },
   {
    "duration": 1130,
    "start_time": "2022-03-07T15:12:52.771Z"
   },
   {
    "duration": 1128,
    "start_time": "2022-03-07T15:12:52.775Z"
   },
   {
    "duration": 1120,
    "start_time": "2022-03-07T15:12:52.787Z"
   },
   {
    "duration": 1109,
    "start_time": "2022-03-07T15:12:52.799Z"
   },
   {
    "duration": 1105,
    "start_time": "2022-03-07T15:12:52.804Z"
   },
   {
    "duration": 1101,
    "start_time": "2022-03-07T15:12:52.809Z"
   },
   {
    "duration": 1088,
    "start_time": "2022-03-07T15:12:52.823Z"
   },
   {
    "duration": 1075,
    "start_time": "2022-03-07T15:12:52.837Z"
   },
   {
    "duration": 1059,
    "start_time": "2022-03-07T15:12:52.854Z"
   },
   {
    "duration": 1056,
    "start_time": "2022-03-07T15:12:52.859Z"
   },
   {
    "duration": 7,
    "start_time": "2022-03-07T15:13:08.001Z"
   },
   {
    "duration": 59,
    "start_time": "2022-03-07T15:13:08.011Z"
   },
   {
    "duration": 35,
    "start_time": "2022-03-07T15:13:08.073Z"
   },
   {
    "duration": 10,
    "start_time": "2022-03-07T15:13:08.110Z"
   },
   {
    "duration": 26,
    "start_time": "2022-03-07T15:13:08.122Z"
   },
   {
    "duration": 82,
    "start_time": "2022-03-07T15:13:08.151Z"
   },
   {
    "duration": 21,
    "start_time": "2022-03-07T15:13:08.236Z"
   },
   {
    "duration": 7,
    "start_time": "2022-03-07T15:13:08.260Z"
   },
   {
    "duration": 219,
    "start_time": "2022-03-07T15:13:08.269Z"
   },
   {
    "duration": 20,
    "start_time": "2022-03-07T15:13:08.490Z"
   },
   {
    "duration": 189,
    "start_time": "2022-03-07T15:13:08.512Z"
   },
   {
    "duration": 99,
    "start_time": "2022-03-07T15:13:08.704Z"
   },
   {
    "duration": 96,
    "start_time": "2022-03-07T15:13:08.805Z"
   },
   {
    "duration": 400,
    "start_time": "2022-03-07T15:13:08.904Z"
   },
   {
    "duration": 63,
    "start_time": "2022-03-07T15:13:09.306Z"
   },
   {
    "duration": 8,
    "start_time": "2022-03-07T15:13:09.371Z"
   },
   {
    "duration": 10,
    "start_time": "2022-03-07T15:13:09.401Z"
   },
   {
    "duration": 291,
    "start_time": "2022-03-07T15:13:09.413Z"
   },
   {
    "duration": 125,
    "start_time": "2022-03-07T15:13:09.706Z"
   },
   {
    "duration": 9,
    "start_time": "2022-03-07T15:13:09.833Z"
   },
   {
    "duration": 17,
    "start_time": "2022-03-07T15:13:09.844Z"
   },
   {
    "duration": 301,
    "start_time": "2022-03-07T15:13:09.863Z"
   },
   {
    "duration": 5,
    "start_time": "2022-03-07T15:13:10.167Z"
   },
   {
    "duration": 30,
    "start_time": "2022-03-07T15:13:10.174Z"
   },
   {
    "duration": 436,
    "start_time": "2022-03-07T15:13:10.206Z"
   },
   {
    "duration": 14,
    "start_time": "2022-03-07T15:13:10.644Z"
   },
   {
    "duration": 16,
    "start_time": "2022-03-07T15:13:10.660Z"
   },
   {
    "duration": 305,
    "start_time": "2022-03-07T15:13:10.678Z"
   },
   {
    "duration": 19491,
    "start_time": "2022-03-07T15:13:10.985Z"
   },
   {
    "duration": 30,
    "start_time": "2022-03-07T15:13:30.478Z"
   },
   {
    "duration": 10,
    "start_time": "2022-03-07T15:13:30.510Z"
   },
   {
    "duration": 299,
    "start_time": "2022-03-07T15:13:30.522Z"
   },
   {
    "duration": 74575,
    "start_time": "2022-03-07T15:13:30.823Z"
   },
   {
    "duration": 1303,
    "start_time": "2022-03-07T15:14:44.098Z"
   },
   {
    "duration": 1294,
    "start_time": "2022-03-07T15:14:44.108Z"
   },
   {
    "duration": 1284,
    "start_time": "2022-03-07T15:14:44.119Z"
   },
   {
    "duration": 1283,
    "start_time": "2022-03-07T15:14:44.121Z"
   },
   {
    "duration": 1280,
    "start_time": "2022-03-07T15:14:44.125Z"
   },
   {
    "duration": 1278,
    "start_time": "2022-03-07T15:14:44.128Z"
   },
   {
    "duration": 1275,
    "start_time": "2022-03-07T15:14:44.132Z"
   },
   {
    "duration": 1272,
    "start_time": "2022-03-07T15:14:44.137Z"
   },
   {
    "duration": 1268,
    "start_time": "2022-03-07T15:14:44.141Z"
   },
   {
    "duration": 72961,
    "start_time": "2022-03-07T15:15:42.048Z"
   },
   {
    "duration": 184,
    "start_time": "2022-03-07T15:16:55.011Z"
   },
   {
    "duration": 1260,
    "start_time": "2022-03-07T15:59:18.741Z"
   },
   {
    "duration": 54,
    "start_time": "2022-03-07T15:59:20.004Z"
   },
   {
    "duration": 10,
    "start_time": "2022-03-07T15:59:20.060Z"
   },
   {
    "duration": 30,
    "start_time": "2022-03-07T15:59:20.072Z"
   },
   {
    "duration": 18,
    "start_time": "2022-03-07T15:59:20.113Z"
   },
   {
    "duration": 40,
    "start_time": "2022-03-07T15:59:20.133Z"
   },
   {
    "duration": 49,
    "start_time": "2022-03-07T15:59:20.176Z"
   },
   {
    "duration": 7,
    "start_time": "2022-03-07T15:59:20.227Z"
   },
   {
    "duration": 194,
    "start_time": "2022-03-07T15:59:20.237Z"
   },
   {
    "duration": 11,
    "start_time": "2022-03-07T15:59:20.434Z"
   },
   {
    "duration": 260,
    "start_time": "2022-03-07T15:59:20.447Z"
   },
   {
    "duration": 11,
    "start_time": "2022-03-07T15:59:20.708Z"
   },
   {
    "duration": 80,
    "start_time": "2022-03-07T15:59:20.721Z"
   },
   {
    "duration": 380,
    "start_time": "2022-03-07T15:59:20.804Z"
   },
   {
    "duration": 69,
    "start_time": "2022-03-07T15:59:21.186Z"
   },
   {
    "duration": 8,
    "start_time": "2022-03-07T15:59:21.257Z"
   },
   {
    "duration": 38,
    "start_time": "2022-03-07T15:59:21.267Z"
   },
   {
    "duration": 381,
    "start_time": "2022-03-07T15:59:21.307Z"
   },
   {
    "duration": 175,
    "start_time": "2022-03-07T15:59:21.691Z"
   },
   {
    "duration": 11,
    "start_time": "2022-03-07T15:59:21.869Z"
   },
   {
    "duration": 22,
    "start_time": "2022-03-07T15:59:21.902Z"
   },
   {
    "duration": 301,
    "start_time": "2022-03-07T15:59:21.926Z"
   },
   {
    "duration": 4,
    "start_time": "2022-03-07T15:59:22.229Z"
   },
   {
    "duration": 18,
    "start_time": "2022-03-07T15:59:22.235Z"
   },
   {
    "duration": 426,
    "start_time": "2022-03-07T15:59:22.255Z"
   },
   {
    "duration": 30,
    "start_time": "2022-03-07T15:59:22.683Z"
   },
   {
    "duration": 9,
    "start_time": "2022-03-07T15:59:22.718Z"
   },
   {
    "duration": 358,
    "start_time": "2022-03-07T15:59:22.729Z"
   },
   {
    "duration": 19653,
    "start_time": "2022-03-07T15:59:23.089Z"
   },
   {
    "duration": 18,
    "start_time": "2022-03-07T15:59:42.744Z"
   },
   {
    "duration": 42,
    "start_time": "2022-03-07T15:59:42.764Z"
   },
   {
    "duration": 289,
    "start_time": "2022-03-07T15:59:42.807Z"
   },
   {
    "duration": 85474,
    "start_time": "2022-03-07T15:59:43.101Z"
   },
   {
    "duration": 47,
    "start_time": "2022-03-07T16:01:08.577Z"
   },
   {
    "duration": 60,
    "start_time": "2022-03-07T16:01:08.627Z"
   },
   {
    "duration": 1204,
    "start_time": "2022-03-07T16:01:07.486Z"
   },
   {
    "duration": 1188,
    "start_time": "2022-03-07T16:01:07.503Z"
   },
   {
    "duration": 1183,
    "start_time": "2022-03-07T16:01:07.509Z"
   },
   {
    "duration": 1181,
    "start_time": "2022-03-07T16:01:07.513Z"
   },
   {
    "duration": 1178,
    "start_time": "2022-03-07T16:01:07.517Z"
   },
   {
    "duration": 1173,
    "start_time": "2022-03-07T16:01:07.523Z"
   },
   {
    "duration": 1162,
    "start_time": "2022-03-07T16:01:07.536Z"
   },
   {
    "duration": 1158,
    "start_time": "2022-03-07T16:01:07.541Z"
   },
   {
    "duration": 1153,
    "start_time": "2022-03-07T16:01:07.547Z"
   },
   {
    "duration": 1152,
    "start_time": "2022-03-07T16:01:07.550Z"
   },
   {
    "duration": 1147,
    "start_time": "2022-03-07T16:01:07.556Z"
   },
   {
    "duration": 1142,
    "start_time": "2022-03-07T16:01:07.562Z"
   },
   {
    "duration": 1140,
    "start_time": "2022-03-07T16:01:07.565Z"
   },
   {
    "duration": 1135,
    "start_time": "2022-03-07T16:01:07.571Z"
   },
   {
    "duration": 68,
    "start_time": "2022-03-07T16:02:59.270Z"
   },
   {
    "duration": 12,
    "start_time": "2022-03-07T16:03:08.813Z"
   },
   {
    "duration": 296,
    "start_time": "2022-03-07T16:03:09.894Z"
   },
   {
    "duration": 213,
    "start_time": "2022-03-07T16:03:15.211Z"
   },
   {
    "duration": 7,
    "start_time": "2022-03-07T16:03:17.690Z"
   },
   {
    "duration": 325,
    "start_time": "2022-03-07T16:04:20.680Z"
   },
   {
    "duration": 13,
    "start_time": "2022-03-07T16:05:16.327Z"
   },
   {
    "duration": 184,
    "start_time": "2022-03-07T16:05:17.636Z"
   },
   {
    "duration": 6,
    "start_time": "2022-03-07T16:05:19.454Z"
   },
   {
    "duration": 10,
    "start_time": "2022-03-07T16:05:27.551Z"
   },
   {
    "duration": 430,
    "start_time": "2022-03-07T16:05:30.936Z"
   },
   {
    "duration": 46,
    "start_time": "2022-03-07T16:05:35.056Z"
   },
   {
    "duration": 14,
    "start_time": "2022-03-07T16:05:36.406Z"
   },
   {
    "duration": 10,
    "start_time": "2022-03-07T16:05:50.447Z"
   },
   {
    "duration": 424,
    "start_time": "2022-03-07T16:05:51.560Z"
   },
   {
    "duration": 505,
    "start_time": "2022-03-07T16:06:23.579Z"
   },
   {
    "duration": 6,
    "start_time": "2022-03-07T16:06:26.581Z"
   },
   {
    "duration": 8,
    "start_time": "2022-03-07T16:07:22.158Z"
   },
   {
    "duration": 270,
    "start_time": "2022-03-07T16:07:24.999Z"
   },
   {
    "duration": 3,
    "start_time": "2022-03-07T16:09:45.978Z"
   },
   {
    "duration": 99,
    "start_time": "2022-03-07T16:10:23.636Z"
   },
   {
    "duration": 7,
    "start_time": "2022-03-07T16:10:45.735Z"
   },
   {
    "duration": 57,
    "start_time": "2022-03-07T16:11:03.256Z"
   },
   {
    "duration": 11,
    "start_time": "2022-03-07T16:11:06.402Z"
   },
   {
    "duration": 7,
    "start_time": "2022-03-07T16:11:50.830Z"
   },
   {
    "duration": 284,
    "start_time": "2022-03-07T16:11:51.841Z"
   },
   {
    "duration": 14,
    "start_time": "2022-03-07T16:12:02.831Z"
   },
   {
    "duration": 8,
    "start_time": "2022-03-07T16:12:04.288Z"
   },
   {
    "duration": 7,
    "start_time": "2022-03-07T16:12:59.852Z"
   },
   {
    "duration": 298,
    "start_time": "2022-03-07T16:13:01.098Z"
   },
   {
    "duration": 95,
    "start_time": "2022-03-07T16:13:28.830Z"
   },
   {
    "duration": 8,
    "start_time": "2022-03-07T16:13:30.693Z"
   },
   {
    "duration": 6,
    "start_time": "2022-03-07T16:13:51.581Z"
   },
   {
    "duration": 8,
    "start_time": "2022-03-07T16:14:31.982Z"
   },
   {
    "duration": 349,
    "start_time": "2022-03-07T16:14:33.555Z"
   },
   {
    "duration": 7,
    "start_time": "2022-03-07T16:14:42.822Z"
   },
   {
    "duration": 288,
    "start_time": "2022-03-07T16:14:43.502Z"
   },
   {
    "duration": 94,
    "start_time": "2022-03-07T16:14:48.185Z"
   },
   {
    "duration": 92,
    "start_time": "2022-03-07T16:14:51.160Z"
   },
   {
    "duration": 94,
    "start_time": "2022-03-07T16:14:53.789Z"
   },
   {
    "duration": 7,
    "start_time": "2022-03-07T16:14:55.330Z"
   },
   {
    "duration": 94,
    "start_time": "2022-03-07T16:15:06.116Z"
   },
   {
    "duration": 7,
    "start_time": "2022-03-07T16:15:07.201Z"
   },
   {
    "duration": 100,
    "start_time": "2022-03-07T16:15:10.720Z"
   },
   {
    "duration": 6,
    "start_time": "2022-03-07T16:15:13.287Z"
   },
   {
    "duration": 109,
    "start_time": "2022-03-07T16:15:16.879Z"
   },
   {
    "duration": 8,
    "start_time": "2022-03-07T16:15:18.057Z"
   },
   {
    "duration": 119,
    "start_time": "2022-03-07T16:15:21.745Z"
   },
   {
    "duration": 7,
    "start_time": "2022-03-07T16:15:23.264Z"
   },
   {
    "duration": 117,
    "start_time": "2022-03-07T16:15:25.725Z"
   },
   {
    "duration": 7,
    "start_time": "2022-03-07T16:15:26.938Z"
   },
   {
    "duration": 99,
    "start_time": "2022-03-07T16:15:28.957Z"
   },
   {
    "duration": 6,
    "start_time": "2022-03-07T16:15:30.094Z"
   },
   {
    "duration": 100,
    "start_time": "2022-03-07T16:15:33.718Z"
   },
   {
    "duration": 8,
    "start_time": "2022-03-07T16:15:34.914Z"
   },
   {
    "duration": 102,
    "start_time": "2022-03-07T16:15:36.923Z"
   },
   {
    "duration": 6,
    "start_time": "2022-03-07T16:15:38.136Z"
   },
   {
    "duration": 98,
    "start_time": "2022-03-07T16:15:40.773Z"
   },
   {
    "duration": 7,
    "start_time": "2022-03-07T16:15:41.666Z"
   },
   {
    "duration": 105,
    "start_time": "2022-03-07T16:15:44.753Z"
   },
   {
    "duration": 8,
    "start_time": "2022-03-07T16:15:45.912Z"
   },
   {
    "duration": 95,
    "start_time": "2022-03-07T16:15:47.974Z"
   },
   {
    "duration": 7,
    "start_time": "2022-03-07T16:15:49.138Z"
   },
   {
    "duration": 96,
    "start_time": "2022-03-07T16:15:51.637Z"
   },
   {
    "duration": 8,
    "start_time": "2022-03-07T16:15:52.665Z"
   },
   {
    "duration": 156,
    "start_time": "2022-03-07T16:19:09.518Z"
   },
   {
    "duration": 1533,
    "start_time": "2022-03-08T11:26:10.176Z"
   },
   {
    "duration": 57,
    "start_time": "2022-03-08T11:26:11.711Z"
   },
   {
    "duration": 21,
    "start_time": "2022-03-08T11:26:11.771Z"
   },
   {
    "duration": 11,
    "start_time": "2022-03-08T11:26:11.794Z"
   },
   {
    "duration": 14,
    "start_time": "2022-03-08T11:26:21.193Z"
   },
   {
    "duration": 364,
    "start_time": "2022-03-08T11:32:24.430Z"
   },
   {
    "duration": 43,
    "start_time": "2022-03-08T11:32:32.333Z"
   },
   {
    "duration": 6,
    "start_time": "2022-03-09T15:42:34.026Z"
   },
   {
    "duration": 264,
    "start_time": "2022-03-09T15:43:24.102Z"
   },
   {
    "duration": 1269,
    "start_time": "2022-03-09T15:43:29.787Z"
   },
   {
    "duration": 41,
    "start_time": "2022-03-09T15:43:31.058Z"
   },
   {
    "duration": 9,
    "start_time": "2022-03-09T15:43:31.101Z"
   },
   {
    "duration": 12,
    "start_time": "2022-03-09T15:43:31.112Z"
   },
   {
    "duration": 43,
    "start_time": "2022-03-09T15:43:31.125Z"
   },
   {
    "duration": 3,
    "start_time": "2022-03-09T15:43:31.170Z"
   },
   {
    "duration": 1000,
    "start_time": "2022-03-09T15:43:31.175Z"
   },
   {
    "duration": -56,
    "start_time": "2022-03-09T15:43:32.236Z"
   },
   {
    "duration": -63,
    "start_time": "2022-03-09T15:43:32.245Z"
   },
   {
    "duration": -71,
    "start_time": "2022-03-09T15:43:32.254Z"
   },
   {
    "duration": -82,
    "start_time": "2022-03-09T15:43:32.267Z"
   },
   {
    "duration": -88,
    "start_time": "2022-03-09T15:43:32.274Z"
   },
   {
    "duration": -94,
    "start_time": "2022-03-09T15:43:32.282Z"
   },
   {
    "duration": -100,
    "start_time": "2022-03-09T15:43:32.291Z"
   },
   {
    "duration": -123,
    "start_time": "2022-03-09T15:43:32.316Z"
   },
   {
    "duration": -130,
    "start_time": "2022-03-09T15:43:32.324Z"
   },
   {
    "duration": -139,
    "start_time": "2022-03-09T15:43:32.335Z"
   },
   {
    "duration": -148,
    "start_time": "2022-03-09T15:43:32.345Z"
   },
   {
    "duration": -207,
    "start_time": "2022-03-09T15:43:32.406Z"
   },
   {
    "duration": -213,
    "start_time": "2022-03-09T15:43:32.413Z"
   },
   {
    "duration": -222,
    "start_time": "2022-03-09T15:43:32.424Z"
   },
   {
    "duration": -229,
    "start_time": "2022-03-09T15:43:32.432Z"
   },
   {
    "duration": -235,
    "start_time": "2022-03-09T15:43:32.440Z"
   },
   {
    "duration": -242,
    "start_time": "2022-03-09T15:43:32.448Z"
   },
   {
    "duration": -248,
    "start_time": "2022-03-09T15:43:32.456Z"
   },
   {
    "duration": -255,
    "start_time": "2022-03-09T15:43:32.464Z"
   },
   {
    "duration": -280,
    "start_time": "2022-03-09T15:43:32.491Z"
   },
   {
    "duration": -286,
    "start_time": "2022-03-09T15:43:32.498Z"
   },
   {
    "duration": -293,
    "start_time": "2022-03-09T15:43:32.507Z"
   },
   {
    "duration": -299,
    "start_time": "2022-03-09T15:43:32.514Z"
   },
   {
    "duration": -306,
    "start_time": "2022-03-09T15:43:32.523Z"
   },
   {
    "duration": -273,
    "start_time": "2022-03-09T15:43:32.531Z"
   },
   {
    "duration": -279,
    "start_time": "2022-03-09T15:43:32.539Z"
   },
   {
    "duration": -286,
    "start_time": "2022-03-09T15:43:32.547Z"
   },
   {
    "duration": -293,
    "start_time": "2022-03-09T15:43:32.556Z"
   },
   {
    "duration": -299,
    "start_time": "2022-03-09T15:43:32.563Z"
   },
   {
    "duration": -305,
    "start_time": "2022-03-09T15:43:32.571Z"
   },
   {
    "duration": -310,
    "start_time": "2022-03-09T15:43:32.578Z"
   },
   {
    "duration": -318,
    "start_time": "2022-03-09T15:43:32.587Z"
   },
   {
    "duration": -370,
    "start_time": "2022-03-09T15:43:32.641Z"
   },
   {
    "duration": -475,
    "start_time": "2022-03-09T15:43:32.747Z"
   },
   {
    "duration": -480,
    "start_time": "2022-03-09T15:43:32.754Z"
   },
   {
    "duration": -487,
    "start_time": "2022-03-09T15:43:32.762Z"
   },
   {
    "duration": -493,
    "start_time": "2022-03-09T15:43:32.769Z"
   },
   {
    "duration": -500,
    "start_time": "2022-03-09T15:43:32.777Z"
   },
   {
    "duration": -506,
    "start_time": "2022-03-09T15:43:32.785Z"
   },
   {
    "duration": -513,
    "start_time": "2022-03-09T15:43:32.793Z"
   },
   {
    "duration": -519,
    "start_time": "2022-03-09T15:43:32.801Z"
   },
   {
    "duration": -526,
    "start_time": "2022-03-09T15:43:32.809Z"
   },
   {
    "duration": -531,
    "start_time": "2022-03-09T15:43:32.816Z"
   },
   {
    "duration": -537,
    "start_time": "2022-03-09T15:43:32.824Z"
   },
   {
    "duration": 85,
    "start_time": "2022-03-09T15:45:42.531Z"
   },
   {
    "duration": 15,
    "start_time": "2022-03-09T15:46:21.544Z"
   },
   {
    "duration": 6,
    "start_time": "2022-03-09T15:46:31.116Z"
   },
   {
    "duration": 48,
    "start_time": "2022-03-09T15:46:31.124Z"
   },
   {
    "duration": 7,
    "start_time": "2022-03-09T15:46:31.174Z"
   },
   {
    "duration": 7,
    "start_time": "2022-03-09T15:46:31.184Z"
   },
   {
    "duration": 16,
    "start_time": "2022-03-09T15:46:31.193Z"
   },
   {
    "duration": 2,
    "start_time": "2022-03-09T15:46:31.210Z"
   },
   {
    "duration": 55,
    "start_time": "2022-03-09T15:46:31.213Z"
   },
   {
    "duration": 9,
    "start_time": "2022-03-09T15:46:31.270Z"
   },
   {
    "duration": 198,
    "start_time": "2022-03-09T15:46:31.281Z"
   },
   {
    "duration": 13,
    "start_time": "2022-03-09T15:46:31.481Z"
   },
   {
    "duration": 251,
    "start_time": "2022-03-09T15:46:31.495Z"
   },
   {
    "duration": -542,
    "start_time": "2022-03-09T15:46:32.291Z"
   },
   {
    "duration": -550,
    "start_time": "2022-03-09T15:46:32.300Z"
   },
   {
    "duration": -558,
    "start_time": "2022-03-09T15:46:32.309Z"
   },
   {
    "duration": -564,
    "start_time": "2022-03-09T15:46:32.316Z"
   },
   {
    "duration": -587,
    "start_time": "2022-03-09T15:46:32.341Z"
   },
   {
    "duration": -593,
    "start_time": "2022-03-09T15:46:32.348Z"
   },
   {
    "duration": -601,
    "start_time": "2022-03-09T15:46:32.357Z"
   },
   {
    "duration": -607,
    "start_time": "2022-03-09T15:46:32.364Z"
   },
   {
    "duration": -615,
    "start_time": "2022-03-09T15:46:32.373Z"
   },
   {
    "duration": -621,
    "start_time": "2022-03-09T15:46:32.380Z"
   },
   {
    "duration": -629,
    "start_time": "2022-03-09T15:46:32.389Z"
   },
   {
    "duration": -635,
    "start_time": "2022-03-09T15:46:32.396Z"
   },
   {
    "duration": -642,
    "start_time": "2022-03-09T15:46:32.404Z"
   },
   {
    "duration": -648,
    "start_time": "2022-03-09T15:46:32.411Z"
   },
   {
    "duration": -656,
    "start_time": "2022-03-09T15:46:32.420Z"
   },
   {
    "duration": -663,
    "start_time": "2022-03-09T15:46:32.428Z"
   },
   {
    "duration": -670,
    "start_time": "2022-03-09T15:46:32.436Z"
   },
   {
    "duration": -689,
    "start_time": "2022-03-09T15:46:32.456Z"
   },
   {
    "duration": -697,
    "start_time": "2022-03-09T15:46:32.465Z"
   },
   {
    "duration": -703,
    "start_time": "2022-03-09T15:46:32.472Z"
   },
   {
    "duration": -710,
    "start_time": "2022-03-09T15:46:32.480Z"
   },
   {
    "duration": -717,
    "start_time": "2022-03-09T15:46:32.488Z"
   },
   {
    "duration": -725,
    "start_time": "2022-03-09T15:46:32.497Z"
   },
   {
    "duration": -731,
    "start_time": "2022-03-09T15:46:32.504Z"
   },
   {
    "duration": -739,
    "start_time": "2022-03-09T15:46:32.513Z"
   },
   {
    "duration": -745,
    "start_time": "2022-03-09T15:46:32.520Z"
   },
   {
    "duration": -752,
    "start_time": "2022-03-09T15:46:32.528Z"
   },
   {
    "duration": -759,
    "start_time": "2022-03-09T15:46:32.536Z"
   },
   {
    "duration": -767,
    "start_time": "2022-03-09T15:46:32.545Z"
   },
   {
    "duration": -773,
    "start_time": "2022-03-09T15:46:32.552Z"
   },
   {
    "duration": -793,
    "start_time": "2022-03-09T15:46:32.573Z"
   },
   {
    "duration": -799,
    "start_time": "2022-03-09T15:46:32.580Z"
   },
   {
    "duration": -806,
    "start_time": "2022-03-09T15:46:32.588Z"
   },
   {
    "duration": -812,
    "start_time": "2022-03-09T15:46:32.595Z"
   },
   {
    "duration": -820,
    "start_time": "2022-03-09T15:46:32.604Z"
   },
   {
    "duration": -827,
    "start_time": "2022-03-09T15:46:32.612Z"
   },
   {
    "duration": -834,
    "start_time": "2022-03-09T15:46:32.620Z"
   },
   {
    "duration": -840,
    "start_time": "2022-03-09T15:46:32.627Z"
   },
   {
    "duration": -848,
    "start_time": "2022-03-09T15:46:32.636Z"
   },
   {
    "duration": -854,
    "start_time": "2022-03-09T15:46:32.643Z"
   },
   {
    "duration": 262,
    "start_time": "2022-03-10T06:53:24.049Z"
   },
   {
    "duration": 1151,
    "start_time": "2022-03-10T06:53:27.367Z"
   },
   {
    "duration": 35,
    "start_time": "2022-03-10T06:53:28.520Z"
   },
   {
    "duration": 7,
    "start_time": "2022-03-10T06:53:28.557Z"
   },
   {
    "duration": 9,
    "start_time": "2022-03-10T06:53:28.566Z"
   },
   {
    "duration": 20,
    "start_time": "2022-03-10T06:53:28.576Z"
   },
   {
    "duration": 2,
    "start_time": "2022-03-10T06:53:28.598Z"
   },
   {
    "duration": 17,
    "start_time": "2022-03-10T06:53:28.601Z"
   },
   {
    "duration": 5,
    "start_time": "2022-03-10T06:53:28.620Z"
   },
   {
    "duration": 158,
    "start_time": "2022-03-10T06:53:28.627Z"
   },
   {
    "duration": 12,
    "start_time": "2022-03-10T06:53:28.787Z"
   },
   {
    "duration": 272,
    "start_time": "2022-03-10T06:53:28.801Z"
   },
   {
    "duration": -43,
    "start_time": "2022-03-10T06:53:29.120Z"
   },
   {
    "duration": -51,
    "start_time": "2022-03-10T06:53:29.129Z"
   },
   {
    "duration": -54,
    "start_time": "2022-03-10T06:53:29.133Z"
   },
   {
    "duration": -54,
    "start_time": "2022-03-10T06:53:29.135Z"
   },
   {
    "duration": -56,
    "start_time": "2022-03-10T06:53:29.138Z"
   },
   {
    "duration": -58,
    "start_time": "2022-03-10T06:53:29.141Z"
   },
   {
    "duration": -58,
    "start_time": "2022-03-10T06:53:29.143Z"
   },
   {
    "duration": -60,
    "start_time": "2022-03-10T06:53:29.146Z"
   },
   {
    "duration": -62,
    "start_time": "2022-03-10T06:53:29.149Z"
   },
   {
    "duration": -68,
    "start_time": "2022-03-10T06:53:29.157Z"
   },
   {
    "duration": -70,
    "start_time": "2022-03-10T06:53:29.160Z"
   },
   {
    "duration": -71,
    "start_time": "2022-03-10T06:53:29.162Z"
   },
   {
    "duration": -72,
    "start_time": "2022-03-10T06:53:29.165Z"
   },
   {
    "duration": -73,
    "start_time": "2022-03-10T06:53:29.167Z"
   },
   {
    "duration": -73,
    "start_time": "2022-03-10T06:53:29.169Z"
   },
   {
    "duration": -76,
    "start_time": "2022-03-10T06:53:29.173Z"
   },
   {
    "duration": -77,
    "start_time": "2022-03-10T06:53:29.175Z"
   },
   {
    "duration": -90,
    "start_time": "2022-03-10T06:53:29.189Z"
   },
   {
    "duration": -96,
    "start_time": "2022-03-10T06:53:29.197Z"
   },
   {
    "duration": -97,
    "start_time": "2022-03-10T06:53:29.199Z"
   },
   {
    "duration": -99,
    "start_time": "2022-03-10T06:53:29.202Z"
   },
   {
    "duration": -100,
    "start_time": "2022-03-10T06:53:29.205Z"
   },
   {
    "duration": -103,
    "start_time": "2022-03-10T06:53:29.209Z"
   },
   {
    "duration": -105,
    "start_time": "2022-03-10T06:53:29.212Z"
   },
   {
    "duration": -107,
    "start_time": "2022-03-10T06:53:29.215Z"
   },
   {
    "duration": -108,
    "start_time": "2022-03-10T06:53:29.218Z"
   },
   {
    "duration": -111,
    "start_time": "2022-03-10T06:53:29.222Z"
   },
   {
    "duration": -118,
    "start_time": "2022-03-10T06:53:29.230Z"
   },
   {
    "duration": -120,
    "start_time": "2022-03-10T06:53:29.234Z"
   },
   {
    "duration": -122,
    "start_time": "2022-03-10T06:53:29.237Z"
   },
   {
    "duration": -125,
    "start_time": "2022-03-10T06:53:29.241Z"
   },
   {
    "duration": -128,
    "start_time": "2022-03-10T06:53:29.244Z"
   },
   {
    "duration": -84,
    "start_time": "2022-03-10T06:53:29.247Z"
   },
   {
    "duration": -86,
    "start_time": "2022-03-10T06:53:29.250Z"
   },
   {
    "duration": -88,
    "start_time": "2022-03-10T06:53:29.254Z"
   },
   {
    "duration": -93,
    "start_time": "2022-03-10T06:53:29.260Z"
   },
   {
    "duration": -95,
    "start_time": "2022-03-10T06:53:29.263Z"
   },
   {
    "duration": -95,
    "start_time": "2022-03-10T06:53:29.265Z"
   },
   {
    "duration": -97,
    "start_time": "2022-03-10T06:53:29.268Z"
   },
   {
    "duration": -99,
    "start_time": "2022-03-10T06:53:29.272Z"
   },
   {
    "duration": 15,
    "start_time": "2022-03-10T06:57:07.626Z"
   },
   {
    "duration": 16,
    "start_time": "2022-03-10T06:57:11.631Z"
   },
   {
    "duration": 6,
    "start_time": "2022-03-10T06:57:19.817Z"
   },
   {
    "duration": 46,
    "start_time": "2022-03-10T06:57:19.825Z"
   },
   {
    "duration": 10,
    "start_time": "2022-03-10T06:57:19.873Z"
   },
   {
    "duration": 8,
    "start_time": "2022-03-10T06:57:19.886Z"
   },
   {
    "duration": 36,
    "start_time": "2022-03-10T06:57:19.895Z"
   },
   {
    "duration": 30,
    "start_time": "2022-03-10T06:57:19.934Z"
   },
   {
    "duration": 32,
    "start_time": "2022-03-10T06:57:19.967Z"
   },
   {
    "duration": 8,
    "start_time": "2022-03-10T06:57:20.003Z"
   },
   {
    "duration": 207,
    "start_time": "2022-03-10T06:57:20.013Z"
   },
   {
    "duration": 10,
    "start_time": "2022-03-10T06:57:20.222Z"
   },
   {
    "duration": 215,
    "start_time": "2022-03-10T06:57:20.234Z"
   },
   {
    "duration": -63,
    "start_time": "2022-03-10T06:57:20.514Z"
   },
   {
    "duration": -72,
    "start_time": "2022-03-10T06:57:20.525Z"
   },
   {
    "duration": -75,
    "start_time": "2022-03-10T06:57:20.529Z"
   },
   {
    "duration": -78,
    "start_time": "2022-03-10T06:57:20.533Z"
   },
   {
    "duration": -81,
    "start_time": "2022-03-10T06:57:20.537Z"
   },
   {
    "duration": -84,
    "start_time": "2022-03-10T06:57:20.541Z"
   },
   {
    "duration": -88,
    "start_time": "2022-03-10T06:57:20.545Z"
   },
   {
    "duration": -90,
    "start_time": "2022-03-10T06:57:20.548Z"
   },
   {
    "duration": -91,
    "start_time": "2022-03-10T06:57:20.550Z"
   },
   {
    "duration": -93,
    "start_time": "2022-03-10T06:57:20.553Z"
   },
   {
    "duration": -95,
    "start_time": "2022-03-10T06:57:20.556Z"
   },
   {
    "duration": -96,
    "start_time": "2022-03-10T06:57:20.558Z"
   },
   {
    "duration": -98,
    "start_time": "2022-03-10T06:57:20.561Z"
   },
   {
    "duration": -100,
    "start_time": "2022-03-10T06:57:20.564Z"
   },
   {
    "duration": -101,
    "start_time": "2022-03-10T06:57:20.566Z"
   },
   {
    "duration": -102,
    "start_time": "2022-03-10T06:57:20.568Z"
   },
   {
    "duration": -104,
    "start_time": "2022-03-10T06:57:20.571Z"
   },
   {
    "duration": -105,
    "start_time": "2022-03-10T06:57:20.573Z"
   },
   {
    "duration": -107,
    "start_time": "2022-03-10T06:57:20.576Z"
   },
   {
    "duration": -109,
    "start_time": "2022-03-10T06:57:20.579Z"
   },
   {
    "duration": -110,
    "start_time": "2022-03-10T06:57:20.581Z"
   },
   {
    "duration": -111,
    "start_time": "2022-03-10T06:57:20.583Z"
   },
   {
    "duration": -113,
    "start_time": "2022-03-10T06:57:20.586Z"
   },
   {
    "duration": -114,
    "start_time": "2022-03-10T06:57:20.588Z"
   },
   {
    "duration": -116,
    "start_time": "2022-03-10T06:57:20.591Z"
   },
   {
    "duration": -118,
    "start_time": "2022-03-10T06:57:20.594Z"
   },
   {
    "duration": -120,
    "start_time": "2022-03-10T06:57:20.597Z"
   },
   {
    "duration": -129,
    "start_time": "2022-03-10T06:57:20.607Z"
   },
   {
    "duration": -130,
    "start_time": "2022-03-10T06:57:20.609Z"
   },
   {
    "duration": -132,
    "start_time": "2022-03-10T06:57:20.612Z"
   },
   {
    "duration": -133,
    "start_time": "2022-03-10T06:57:20.614Z"
   },
   {
    "duration": -135,
    "start_time": "2022-03-10T06:57:20.617Z"
   },
   {
    "duration": -136,
    "start_time": "2022-03-10T06:57:20.619Z"
   },
   {
    "duration": -138,
    "start_time": "2022-03-10T06:57:20.622Z"
   },
   {
    "duration": -139,
    "start_time": "2022-03-10T06:57:20.624Z"
   },
   {
    "duration": -141,
    "start_time": "2022-03-10T06:57:20.627Z"
   },
   {
    "duration": -142,
    "start_time": "2022-03-10T06:57:20.629Z"
   },
   {
    "duration": -143,
    "start_time": "2022-03-10T06:57:20.631Z"
   },
   {
    "duration": -144,
    "start_time": "2022-03-10T06:57:20.633Z"
   },
   {
    "duration": -146,
    "start_time": "2022-03-10T06:57:20.636Z"
   },
   {
    "duration": 16,
    "start_time": "2022-03-10T07:01:46.072Z"
   },
   {
    "duration": 6,
    "start_time": "2022-03-10T07:05:51.118Z"
   },
   {
    "duration": 10,
    "start_time": "2022-03-10T07:06:42.114Z"
   },
   {
    "duration": 27,
    "start_time": "2022-03-10T07:23:18.619Z"
   },
   {
    "duration": 145,
    "start_time": "2022-03-10T07:23:35.735Z"
   },
   {
    "duration": 16,
    "start_time": "2022-03-10T07:23:49.646Z"
   },
   {
    "duration": 17,
    "start_time": "2022-03-10T07:23:54.252Z"
   },
   {
    "duration": 16,
    "start_time": "2022-03-10T07:23:58.417Z"
   },
   {
    "duration": 27,
    "start_time": "2022-03-10T07:24:35.825Z"
   },
   {
    "duration": 13688,
    "start_time": "2022-03-10T07:24:55.153Z"
   },
   {
    "duration": 5677,
    "start_time": "2022-03-10T07:27:04.670Z"
   },
   {
    "duration": 5517,
    "start_time": "2022-03-10T07:28:19.233Z"
   },
   {
    "duration": 5096,
    "start_time": "2022-03-10T07:28:29.888Z"
   },
   {
    "duration": 201,
    "start_time": "2022-03-10T07:28:43.022Z"
   },
   {
    "duration": 236,
    "start_time": "2022-03-10T07:28:55.508Z"
   },
   {
    "duration": 6,
    "start_time": "2022-03-10T07:28:59.567Z"
   },
   {
    "duration": 38,
    "start_time": "2022-03-10T07:28:59.575Z"
   },
   {
    "duration": 7,
    "start_time": "2022-03-10T07:28:59.615Z"
   },
   {
    "duration": 8,
    "start_time": "2022-03-10T07:28:59.624Z"
   },
   {
    "duration": 5036,
    "start_time": "2022-03-10T07:28:59.633Z"
   },
   {
    "duration": -99,
    "start_time": "2022-03-10T07:29:04.770Z"
   },
   {
    "duration": -102,
    "start_time": "2022-03-10T07:29:04.774Z"
   },
   {
    "duration": -104,
    "start_time": "2022-03-10T07:29:04.777Z"
   },
   {
    "duration": -107,
    "start_time": "2022-03-10T07:29:04.781Z"
   },
   {
    "duration": -109,
    "start_time": "2022-03-10T07:29:04.784Z"
   },
   {
    "duration": -114,
    "start_time": "2022-03-10T07:29:04.789Z"
   },
   {
    "duration": -117,
    "start_time": "2022-03-10T07:29:04.793Z"
   },
   {
    "duration": -119,
    "start_time": "2022-03-10T07:29:04.796Z"
   },
   {
    "duration": -123,
    "start_time": "2022-03-10T07:29:04.801Z"
   },
   {
    "duration": -129,
    "start_time": "2022-03-10T07:29:04.808Z"
   },
   {
    "duration": -134,
    "start_time": "2022-03-10T07:29:04.813Z"
   },
   {
    "duration": -136,
    "start_time": "2022-03-10T07:29:04.816Z"
   },
   {
    "duration": -139,
    "start_time": "2022-03-10T07:29:04.820Z"
   },
   {
    "duration": -141,
    "start_time": "2022-03-10T07:29:04.823Z"
   },
   {
    "duration": -143,
    "start_time": "2022-03-10T07:29:04.826Z"
   },
   {
    "duration": -144,
    "start_time": "2022-03-10T07:29:04.828Z"
   },
   {
    "duration": -146,
    "start_time": "2022-03-10T07:29:04.831Z"
   },
   {
    "duration": -147,
    "start_time": "2022-03-10T07:29:04.833Z"
   },
   {
    "duration": -149,
    "start_time": "2022-03-10T07:29:04.836Z"
   },
   {
    "duration": -151,
    "start_time": "2022-03-10T07:29:04.839Z"
   },
   {
    "duration": -153,
    "start_time": "2022-03-10T07:29:04.842Z"
   },
   {
    "duration": -156,
    "start_time": "2022-03-10T07:29:04.845Z"
   },
   {
    "duration": -156,
    "start_time": "2022-03-10T07:29:04.848Z"
   },
   {
    "duration": -158,
    "start_time": "2022-03-10T07:29:04.851Z"
   },
   {
    "duration": -160,
    "start_time": "2022-03-10T07:29:04.854Z"
   },
   {
    "duration": -162,
    "start_time": "2022-03-10T07:29:04.857Z"
   },
   {
    "duration": -164,
    "start_time": "2022-03-10T07:29:04.860Z"
   },
   {
    "duration": -171,
    "start_time": "2022-03-10T07:29:04.868Z"
   },
   {
    "duration": -174,
    "start_time": "2022-03-10T07:29:04.872Z"
   },
   {
    "duration": -175,
    "start_time": "2022-03-10T07:29:04.874Z"
   },
   {
    "duration": -176,
    "start_time": "2022-03-10T07:29:04.876Z"
   },
   {
    "duration": -178,
    "start_time": "2022-03-10T07:29:04.879Z"
   },
   {
    "duration": -179,
    "start_time": "2022-03-10T07:29:04.881Z"
   },
   {
    "duration": -180,
    "start_time": "2022-03-10T07:29:04.883Z"
   },
   {
    "duration": -182,
    "start_time": "2022-03-10T07:29:04.886Z"
   },
   {
    "duration": -183,
    "start_time": "2022-03-10T07:29:04.889Z"
   },
   {
    "duration": -184,
    "start_time": "2022-03-10T07:29:04.891Z"
   },
   {
    "duration": -186,
    "start_time": "2022-03-10T07:29:04.893Z"
   },
   {
    "duration": -187,
    "start_time": "2022-03-10T07:29:04.896Z"
   },
   {
    "duration": -188,
    "start_time": "2022-03-10T07:29:04.898Z"
   },
   {
    "duration": -137,
    "start_time": "2022-03-10T07:29:04.900Z"
   },
   {
    "duration": -139,
    "start_time": "2022-03-10T07:29:04.903Z"
   },
   {
    "duration": -140,
    "start_time": "2022-03-10T07:29:04.905Z"
   },
   {
    "duration": -141,
    "start_time": "2022-03-10T07:29:04.907Z"
   },
   {
    "duration": -143,
    "start_time": "2022-03-10T07:29:04.910Z"
   },
   {
    "duration": -144,
    "start_time": "2022-03-10T07:29:04.912Z"
   },
   {
    "duration": 259,
    "start_time": "2022-03-10T07:29:30.958Z"
   },
   {
    "duration": 6,
    "start_time": "2022-03-10T07:29:35.741Z"
   },
   {
    "duration": 41,
    "start_time": "2022-03-10T07:29:35.749Z"
   },
   {
    "duration": 9,
    "start_time": "2022-03-10T07:29:35.792Z"
   },
   {
    "duration": 8,
    "start_time": "2022-03-10T07:29:35.803Z"
   },
   {
    "duration": 56,
    "start_time": "2022-03-10T07:29:35.813Z"
   },
   {
    "duration": 12,
    "start_time": "2022-03-10T07:29:35.871Z"
   },
   {
    "duration": 4897,
    "start_time": "2022-03-10T07:29:35.884Z"
   },
   {
    "duration": -83,
    "start_time": "2022-03-10T07:29:40.867Z"
   },
   {
    "duration": -96,
    "start_time": "2022-03-10T07:29:40.881Z"
   },
   {
    "duration": -106,
    "start_time": "2022-03-10T07:29:40.892Z"
   },
   {
    "duration": -108,
    "start_time": "2022-03-10T07:29:40.895Z"
   },
   {
    "duration": -113,
    "start_time": "2022-03-10T07:29:40.901Z"
   },
   {
    "duration": -122,
    "start_time": "2022-03-10T07:29:40.911Z"
   },
   {
    "duration": -124,
    "start_time": "2022-03-10T07:29:40.914Z"
   },
   {
    "duration": -135,
    "start_time": "2022-03-10T07:29:40.926Z"
   },
   {
    "duration": -138,
    "start_time": "2022-03-10T07:29:40.930Z"
   },
   {
    "duration": -141,
    "start_time": "2022-03-10T07:29:40.934Z"
   },
   {
    "duration": -152,
    "start_time": "2022-03-10T07:29:40.945Z"
   },
   {
    "duration": -153,
    "start_time": "2022-03-10T07:29:40.947Z"
   },
   {
    "duration": -163,
    "start_time": "2022-03-10T07:29:40.958Z"
   },
   {
    "duration": -166,
    "start_time": "2022-03-10T07:29:40.962Z"
   },
   {
    "duration": -167,
    "start_time": "2022-03-10T07:29:40.964Z"
   },
   {
    "duration": -177,
    "start_time": "2022-03-10T07:29:40.975Z"
   },
   {
    "duration": -179,
    "start_time": "2022-03-10T07:29:40.978Z"
   },
   {
    "duration": -181,
    "start_time": "2022-03-10T07:29:40.981Z"
   },
   {
    "duration": -184,
    "start_time": "2022-03-10T07:29:40.985Z"
   },
   {
    "duration": -186,
    "start_time": "2022-03-10T07:29:40.988Z"
   },
   {
    "duration": -188,
    "start_time": "2022-03-10T07:29:40.991Z"
   },
   {
    "duration": -191,
    "start_time": "2022-03-10T07:29:40.995Z"
   },
   {
    "duration": -193,
    "start_time": "2022-03-10T07:29:40.998Z"
   },
   {
    "duration": -196,
    "start_time": "2022-03-10T07:29:41.002Z"
   },
   {
    "duration": -197,
    "start_time": "2022-03-10T07:29:41.004Z"
   },
   {
    "duration": -199,
    "start_time": "2022-03-10T07:29:41.007Z"
   },
   {
    "duration": -200,
    "start_time": "2022-03-10T07:29:41.009Z"
   },
   {
    "duration": -202,
    "start_time": "2022-03-10T07:29:41.012Z"
   },
   {
    "duration": -204,
    "start_time": "2022-03-10T07:29:41.014Z"
   },
   {
    "duration": -205,
    "start_time": "2022-03-10T07:29:41.017Z"
   },
   {
    "duration": -207,
    "start_time": "2022-03-10T07:29:41.020Z"
   },
   {
    "duration": -208,
    "start_time": "2022-03-10T07:29:41.022Z"
   },
   {
    "duration": -211,
    "start_time": "2022-03-10T07:29:41.025Z"
   },
   {
    "duration": -212,
    "start_time": "2022-03-10T07:29:41.027Z"
   },
   {
    "duration": -214,
    "start_time": "2022-03-10T07:29:41.030Z"
   },
   {
    "duration": -216,
    "start_time": "2022-03-10T07:29:41.033Z"
   },
   {
    "duration": -218,
    "start_time": "2022-03-10T07:29:41.036Z"
   },
   {
    "duration": -219,
    "start_time": "2022-03-10T07:29:41.038Z"
   },
   {
    "duration": -221,
    "start_time": "2022-03-10T07:29:41.041Z"
   },
   {
    "duration": -222,
    "start_time": "2022-03-10T07:29:41.043Z"
   },
   {
    "duration": -184,
    "start_time": "2022-03-10T07:29:41.046Z"
   },
   {
    "duration": -186,
    "start_time": "2022-03-10T07:29:41.049Z"
   },
   {
    "duration": -188,
    "start_time": "2022-03-10T07:29:41.052Z"
   },
   {
    "duration": -189,
    "start_time": "2022-03-10T07:29:41.054Z"
   },
   {
    "duration": 191,
    "start_time": "2022-03-10T07:31:30.833Z"
   },
   {
    "duration": 219,
    "start_time": "2022-03-10T07:34:02.512Z"
   },
   {
    "duration": 206,
    "start_time": "2022-03-10T07:34:27.010Z"
   },
   {
    "duration": 184,
    "start_time": "2022-03-10T07:37:12.866Z"
   },
   {
    "duration": 7,
    "start_time": "2022-03-10T07:37:18.457Z"
   },
   {
    "duration": 39,
    "start_time": "2022-03-10T07:37:18.466Z"
   },
   {
    "duration": 8,
    "start_time": "2022-03-10T07:37:18.507Z"
   },
   {
    "duration": 8,
    "start_time": "2022-03-10T07:37:18.517Z"
   },
   {
    "duration": 48,
    "start_time": "2022-03-10T07:37:18.527Z"
   },
   {
    "duration": 244,
    "start_time": "2022-03-10T07:37:18.576Z"
   },
   {
    "duration": 5193,
    "start_time": "2022-03-10T07:37:18.822Z"
   },
   {
    "duration": -89,
    "start_time": "2022-03-10T07:37:24.108Z"
   },
   {
    "duration": -97,
    "start_time": "2022-03-10T07:37:24.117Z"
   },
   {
    "duration": -101,
    "start_time": "2022-03-10T07:37:24.121Z"
   },
   {
    "duration": -104,
    "start_time": "2022-03-10T07:37:24.126Z"
   },
   {
    "duration": -110,
    "start_time": "2022-03-10T07:37:24.133Z"
   },
   {
    "duration": -113,
    "start_time": "2022-03-10T07:37:24.137Z"
   },
   {
    "duration": -115,
    "start_time": "2022-03-10T07:37:24.140Z"
   },
   {
    "duration": -117,
    "start_time": "2022-03-10T07:37:24.143Z"
   },
   {
    "duration": -122,
    "start_time": "2022-03-10T07:37:24.150Z"
   },
   {
    "duration": -124,
    "start_time": "2022-03-10T07:37:24.153Z"
   },
   {
    "duration": -125,
    "start_time": "2022-03-10T07:37:24.155Z"
   },
   {
    "duration": -128,
    "start_time": "2022-03-10T07:37:24.159Z"
   },
   {
    "duration": -134,
    "start_time": "2022-03-10T07:37:24.166Z"
   },
   {
    "duration": -136,
    "start_time": "2022-03-10T07:37:24.169Z"
   },
   {
    "duration": -138,
    "start_time": "2022-03-10T07:37:24.172Z"
   },
   {
    "duration": -140,
    "start_time": "2022-03-10T07:37:24.175Z"
   },
   {
    "duration": -147,
    "start_time": "2022-03-10T07:37:24.183Z"
   },
   {
    "duration": -149,
    "start_time": "2022-03-10T07:37:24.186Z"
   },
   {
    "duration": -149,
    "start_time": "2022-03-10T07:37:24.188Z"
   },
   {
    "duration": -151,
    "start_time": "2022-03-10T07:37:24.191Z"
   },
   {
    "duration": -156,
    "start_time": "2022-03-10T07:37:24.198Z"
   },
   {
    "duration": -158,
    "start_time": "2022-03-10T07:37:24.201Z"
   },
   {
    "duration": -159,
    "start_time": "2022-03-10T07:37:24.203Z"
   },
   {
    "duration": -161,
    "start_time": "2022-03-10T07:37:24.206Z"
   },
   {
    "duration": -163,
    "start_time": "2022-03-10T07:37:24.209Z"
   },
   {
    "duration": -164,
    "start_time": "2022-03-10T07:37:24.211Z"
   },
   {
    "duration": -165,
    "start_time": "2022-03-10T07:37:24.214Z"
   },
   {
    "duration": -167,
    "start_time": "2022-03-10T07:37:24.217Z"
   },
   {
    "duration": -168,
    "start_time": "2022-03-10T07:37:24.219Z"
   },
   {
    "duration": -170,
    "start_time": "2022-03-10T07:37:24.222Z"
   },
   {
    "duration": -172,
    "start_time": "2022-03-10T07:37:24.225Z"
   },
   {
    "duration": -173,
    "start_time": "2022-03-10T07:37:24.227Z"
   },
   {
    "duration": -168,
    "start_time": "2022-03-10T07:37:24.230Z"
   },
   {
    "duration": -169,
    "start_time": "2022-03-10T07:37:24.232Z"
   },
   {
    "duration": -171,
    "start_time": "2022-03-10T07:37:24.235Z"
   },
   {
    "duration": -171,
    "start_time": "2022-03-10T07:37:24.237Z"
   },
   {
    "duration": -173,
    "start_time": "2022-03-10T07:37:24.240Z"
   },
   {
    "duration": -174,
    "start_time": "2022-03-10T07:37:24.242Z"
   },
   {
    "duration": -176,
    "start_time": "2022-03-10T07:37:24.245Z"
   },
   {
    "duration": -177,
    "start_time": "2022-03-10T07:37:24.247Z"
   },
   {
    "duration": -179,
    "start_time": "2022-03-10T07:37:24.250Z"
   },
   {
    "duration": -180,
    "start_time": "2022-03-10T07:37:24.252Z"
   },
   {
    "duration": -183,
    "start_time": "2022-03-10T07:37:24.255Z"
   },
   {
    "duration": -184,
    "start_time": "2022-03-10T07:37:24.257Z"
   },
   {
    "duration": -186,
    "start_time": "2022-03-10T07:37:24.260Z"
   },
   {
    "duration": 205,
    "start_time": "2022-03-10T07:43:59.877Z"
   },
   {
    "duration": 199,
    "start_time": "2022-03-10T07:45:19.076Z"
   },
   {
    "duration": 186,
    "start_time": "2022-03-10T07:45:51.219Z"
   },
   {
    "duration": 979,
    "start_time": "2022-03-10T07:45:53.718Z"
   },
   {
    "duration": 209,
    "start_time": "2022-03-10T07:45:56.842Z"
   },
   {
    "duration": 6,
    "start_time": "2022-03-10T07:45:59.814Z"
   },
   {
    "duration": 35,
    "start_time": "2022-03-10T07:45:59.822Z"
   },
   {
    "duration": 8,
    "start_time": "2022-03-10T07:45:59.859Z"
   },
   {
    "duration": 10,
    "start_time": "2022-03-10T07:45:59.869Z"
   },
   {
    "duration": 20,
    "start_time": "2022-03-10T07:45:59.881Z"
   },
   {
    "duration": 263,
    "start_time": "2022-03-10T07:45:59.903Z"
   },
   {
    "duration": 5137,
    "start_time": "2022-03-10T07:46:00.168Z"
   },
   {
    "duration": -107,
    "start_time": "2022-03-10T07:46:05.414Z"
   },
   {
    "duration": -110,
    "start_time": "2022-03-10T07:46:05.418Z"
   },
   {
    "duration": -114,
    "start_time": "2022-03-10T07:46:05.423Z"
   },
   {
    "duration": -121,
    "start_time": "2022-03-10T07:46:05.431Z"
   },
   {
    "duration": -125,
    "start_time": "2022-03-10T07:46:05.436Z"
   },
   {
    "duration": -132,
    "start_time": "2022-03-10T07:46:05.444Z"
   },
   {
    "duration": -134,
    "start_time": "2022-03-10T07:46:05.447Z"
   },
   {
    "duration": -136,
    "start_time": "2022-03-10T07:46:05.450Z"
   },
   {
    "duration": -138,
    "start_time": "2022-03-10T07:46:05.453Z"
   },
   {
    "duration": -146,
    "start_time": "2022-03-10T07:46:05.462Z"
   },
   {
    "duration": -148,
    "start_time": "2022-03-10T07:46:05.465Z"
   },
   {
    "duration": -149,
    "start_time": "2022-03-10T07:46:05.467Z"
   },
   {
    "duration": -153,
    "start_time": "2022-03-10T07:46:05.472Z"
   },
   {
    "duration": -160,
    "start_time": "2022-03-10T07:46:05.480Z"
   },
   {
    "duration": -161,
    "start_time": "2022-03-10T07:46:05.482Z"
   },
   {
    "duration": -163,
    "start_time": "2022-03-10T07:46:05.485Z"
   },
   {
    "duration": -171,
    "start_time": "2022-03-10T07:46:05.494Z"
   },
   {
    "duration": -173,
    "start_time": "2022-03-10T07:46:05.497Z"
   },
   {
    "duration": -173,
    "start_time": "2022-03-10T07:46:05.499Z"
   },
   {
    "duration": -177,
    "start_time": "2022-03-10T07:46:05.503Z"
   },
   {
    "duration": -178,
    "start_time": "2022-03-10T07:46:05.505Z"
   },
   {
    "duration": -180,
    "start_time": "2022-03-10T07:46:05.508Z"
   },
   {
    "duration": -181,
    "start_time": "2022-03-10T07:46:05.510Z"
   },
   {
    "duration": -183,
    "start_time": "2022-03-10T07:46:05.513Z"
   },
   {
    "duration": -185,
    "start_time": "2022-03-10T07:46:05.516Z"
   },
   {
    "duration": -188,
    "start_time": "2022-03-10T07:46:05.520Z"
   },
   {
    "duration": -189,
    "start_time": "2022-03-10T07:46:05.522Z"
   },
   {
    "duration": -191,
    "start_time": "2022-03-10T07:46:05.525Z"
   },
   {
    "duration": -193,
    "start_time": "2022-03-10T07:46:05.528Z"
   },
   {
    "duration": -194,
    "start_time": "2022-03-10T07:46:05.530Z"
   },
   {
    "duration": -196,
    "start_time": "2022-03-10T07:46:05.533Z"
   },
   {
    "duration": -198,
    "start_time": "2022-03-10T07:46:05.536Z"
   },
   {
    "duration": -200,
    "start_time": "2022-03-10T07:46:05.539Z"
   },
   {
    "duration": -202,
    "start_time": "2022-03-10T07:46:05.542Z"
   },
   {
    "duration": -203,
    "start_time": "2022-03-10T07:46:05.544Z"
   },
   {
    "duration": -204,
    "start_time": "2022-03-10T07:46:05.546Z"
   },
   {
    "duration": -205,
    "start_time": "2022-03-10T07:46:05.549Z"
   },
   {
    "duration": -207,
    "start_time": "2022-03-10T07:46:05.552Z"
   },
   {
    "duration": -193,
    "start_time": "2022-03-10T07:46:05.555Z"
   },
   {
    "duration": -195,
    "start_time": "2022-03-10T07:46:05.558Z"
   },
   {
    "duration": -195,
    "start_time": "2022-03-10T07:46:05.560Z"
   },
   {
    "duration": -198,
    "start_time": "2022-03-10T07:46:05.563Z"
   },
   {
    "duration": -199,
    "start_time": "2022-03-10T07:46:05.566Z"
   },
   {
    "duration": -200,
    "start_time": "2022-03-10T07:46:05.568Z"
   },
   {
    "duration": -202,
    "start_time": "2022-03-10T07:46:05.571Z"
   },
   {
    "duration": 7,
    "start_time": "2022-03-10T07:46:30.829Z"
   },
   {
    "duration": 3713,
    "start_time": "2022-03-10T07:46:40.247Z"
   },
   {
    "duration": 4099,
    "start_time": "2022-03-10T07:48:17.536Z"
   },
   {
    "duration": 7,
    "start_time": "2022-03-10T07:48:24.657Z"
   },
   {
    "duration": 54,
    "start_time": "2022-03-10T07:48:24.667Z"
   },
   {
    "duration": 11,
    "start_time": "2022-03-10T07:48:24.724Z"
   },
   {
    "duration": 34,
    "start_time": "2022-03-10T07:48:24.737Z"
   },
   {
    "duration": 29,
    "start_time": "2022-03-10T07:48:24.773Z"
   },
   {
    "duration": 10,
    "start_time": "2022-03-10T07:48:24.804Z"
   },
   {
    "duration": 3851,
    "start_time": "2022-03-10T07:48:24.816Z"
   },
   {
    "duration": -104,
    "start_time": "2022-03-10T07:48:28.774Z"
   },
   {
    "duration": -113,
    "start_time": "2022-03-10T07:48:28.784Z"
   },
   {
    "duration": -116,
    "start_time": "2022-03-10T07:48:28.788Z"
   },
   {
    "duration": -120,
    "start_time": "2022-03-10T07:48:28.793Z"
   },
   {
    "duration": -126,
    "start_time": "2022-03-10T07:48:28.800Z"
   },
   {
    "duration": -128,
    "start_time": "2022-03-10T07:48:28.803Z"
   },
   {
    "duration": -132,
    "start_time": "2022-03-10T07:48:28.808Z"
   },
   {
    "duration": -140,
    "start_time": "2022-03-10T07:48:28.817Z"
   },
   {
    "duration": -142,
    "start_time": "2022-03-10T07:48:28.820Z"
   },
   {
    "duration": -146,
    "start_time": "2022-03-10T07:48:28.825Z"
   },
   {
    "duration": -154,
    "start_time": "2022-03-10T07:48:28.834Z"
   },
   {
    "duration": -156,
    "start_time": "2022-03-10T07:48:28.837Z"
   },
   {
    "duration": -160,
    "start_time": "2022-03-10T07:48:28.842Z"
   },
   {
    "duration": -167,
    "start_time": "2022-03-10T07:48:28.850Z"
   },
   {
    "duration": -169,
    "start_time": "2022-03-10T07:48:28.853Z"
   },
   {
    "duration": -173,
    "start_time": "2022-03-10T07:48:28.858Z"
   },
   {
    "duration": -181,
    "start_time": "2022-03-10T07:48:28.867Z"
   },
   {
    "duration": -183,
    "start_time": "2022-03-10T07:48:28.870Z"
   },
   {
    "duration": -186,
    "start_time": "2022-03-10T07:48:28.874Z"
   },
   {
    "duration": -195,
    "start_time": "2022-03-10T07:48:28.884Z"
   },
   {
    "duration": -197,
    "start_time": "2022-03-10T07:48:28.887Z"
   },
   {
    "duration": -206,
    "start_time": "2022-03-10T07:48:28.897Z"
   },
   {
    "duration": -210,
    "start_time": "2022-03-10T07:48:28.901Z"
   },
   {
    "duration": -211,
    "start_time": "2022-03-10T07:48:28.903Z"
   },
   {
    "duration": -215,
    "start_time": "2022-03-10T07:48:28.908Z"
   },
   {
    "duration": -223,
    "start_time": "2022-03-10T07:48:28.917Z"
   },
   {
    "duration": -225,
    "start_time": "2022-03-10T07:48:28.920Z"
   },
   {
    "duration": -228,
    "start_time": "2022-03-10T07:48:28.924Z"
   },
   {
    "duration": -236,
    "start_time": "2022-03-10T07:48:28.933Z"
   },
   {
    "duration": -238,
    "start_time": "2022-03-10T07:48:28.936Z"
   },
   {
    "duration": -242,
    "start_time": "2022-03-10T07:48:28.941Z"
   },
   {
    "duration": -250,
    "start_time": "2022-03-10T07:48:28.950Z"
   },
   {
    "duration": -252,
    "start_time": "2022-03-10T07:48:28.953Z"
   },
   {
    "duration": -256,
    "start_time": "2022-03-10T07:48:28.958Z"
   },
   {
    "duration": -264,
    "start_time": "2022-03-10T07:48:28.967Z"
   },
   {
    "duration": -267,
    "start_time": "2022-03-10T07:48:28.971Z"
   },
   {
    "duration": -275,
    "start_time": "2022-03-10T07:48:28.980Z"
   },
   {
    "duration": -222,
    "start_time": "2022-03-10T07:48:28.984Z"
   },
   {
    "duration": -223,
    "start_time": "2022-03-10T07:48:28.986Z"
   },
   {
    "duration": -227,
    "start_time": "2022-03-10T07:48:28.991Z"
   },
   {
    "duration": -235,
    "start_time": "2022-03-10T07:48:29.000Z"
   },
   {
    "duration": -237,
    "start_time": "2022-03-10T07:48:29.003Z"
   },
   {
    "duration": -240,
    "start_time": "2022-03-10T07:48:29.007Z"
   },
   {
    "duration": -248,
    "start_time": "2022-03-10T07:48:29.016Z"
   },
   {
    "duration": -250,
    "start_time": "2022-03-10T07:48:29.019Z"
   },
   {
    "duration": 205,
    "start_time": "2022-03-10T07:50:32.174Z"
   },
   {
    "duration": 6,
    "start_time": "2022-03-10T07:50:35.249Z"
   },
   {
    "duration": 52,
    "start_time": "2022-03-10T07:50:35.257Z"
   },
   {
    "duration": 9,
    "start_time": "2022-03-10T07:50:35.311Z"
   },
   {
    "duration": 8,
    "start_time": "2022-03-10T07:50:35.321Z"
   },
   {
    "duration": 37,
    "start_time": "2022-03-10T07:50:35.331Z"
   },
   {
    "duration": 4728,
    "start_time": "2022-03-10T07:50:35.369Z"
   },
   {
    "duration": -94,
    "start_time": "2022-03-10T07:50:40.194Z"
   },
   {
    "duration": -102,
    "start_time": "2022-03-10T07:50:40.203Z"
   },
   {
    "duration": -114,
    "start_time": "2022-03-10T07:50:40.216Z"
   },
   {
    "duration": -122,
    "start_time": "2022-03-10T07:50:40.225Z"
   },
   {
    "duration": -125,
    "start_time": "2022-03-10T07:50:40.229Z"
   },
   {
    "duration": -130,
    "start_time": "2022-03-10T07:50:40.235Z"
   },
   {
    "duration": -139,
    "start_time": "2022-03-10T07:50:40.245Z"
   },
   {
    "duration": -145,
    "start_time": "2022-03-10T07:50:40.252Z"
   },
   {
    "duration": -151,
    "start_time": "2022-03-10T07:50:40.259Z"
   },
   {
    "duration": -153,
    "start_time": "2022-03-10T07:50:40.262Z"
   },
   {
    "duration": -159,
    "start_time": "2022-03-10T07:50:40.269Z"
   },
   {
    "duration": -167,
    "start_time": "2022-03-10T07:50:40.278Z"
   },
   {
    "duration": -171,
    "start_time": "2022-03-10T07:50:40.283Z"
   },
   {
    "duration": -174,
    "start_time": "2022-03-10T07:50:40.287Z"
   },
   {
    "duration": -174,
    "start_time": "2022-03-10T07:50:40.289Z"
   },
   {
    "duration": -177,
    "start_time": "2022-03-10T07:50:40.292Z"
   },
   {
    "duration": -178,
    "start_time": "2022-03-10T07:50:40.294Z"
   },
   {
    "duration": -181,
    "start_time": "2022-03-10T07:50:40.298Z"
   },
   {
    "duration": -184,
    "start_time": "2022-03-10T07:50:40.302Z"
   },
   {
    "duration": -185,
    "start_time": "2022-03-10T07:50:40.304Z"
   },
   {
    "duration": -187,
    "start_time": "2022-03-10T07:50:40.307Z"
   },
   {
    "duration": -188,
    "start_time": "2022-03-10T07:50:40.309Z"
   },
   {
    "duration": -190,
    "start_time": "2022-03-10T07:50:40.312Z"
   },
   {
    "duration": -192,
    "start_time": "2022-03-10T07:50:40.315Z"
   },
   {
    "duration": -194,
    "start_time": "2022-03-10T07:50:40.318Z"
   },
   {
    "duration": -195,
    "start_time": "2022-03-10T07:50:40.320Z"
   },
   {
    "duration": -197,
    "start_time": "2022-03-10T07:50:40.323Z"
   },
   {
    "duration": -199,
    "start_time": "2022-03-10T07:50:40.326Z"
   },
   {
    "duration": -201,
    "start_time": "2022-03-10T07:50:40.329Z"
   },
   {
    "duration": -203,
    "start_time": "2022-03-10T07:50:40.332Z"
   },
   {
    "duration": -205,
    "start_time": "2022-03-10T07:50:40.335Z"
   },
   {
    "duration": -206,
    "start_time": "2022-03-10T07:50:40.337Z"
   },
   {
    "duration": -208,
    "start_time": "2022-03-10T07:50:40.340Z"
   },
   {
    "duration": -210,
    "start_time": "2022-03-10T07:50:40.343Z"
   },
   {
    "duration": -212,
    "start_time": "2022-03-10T07:50:40.346Z"
   },
   {
    "duration": -214,
    "start_time": "2022-03-10T07:50:40.349Z"
   },
   {
    "duration": -217,
    "start_time": "2022-03-10T07:50:40.352Z"
   },
   {
    "duration": -227,
    "start_time": "2022-03-10T07:50:40.364Z"
   },
   {
    "duration": -235,
    "start_time": "2022-03-10T07:50:40.373Z"
   },
   {
    "duration": -214,
    "start_time": "2022-03-10T07:50:40.376Z"
   },
   {
    "duration": -217,
    "start_time": "2022-03-10T07:50:40.380Z"
   },
   {
    "duration": -226,
    "start_time": "2022-03-10T07:50:40.390Z"
   },
   {
    "duration": -230,
    "start_time": "2022-03-10T07:50:40.395Z"
   },
   {
    "duration": -234,
    "start_time": "2022-03-10T07:50:40.400Z"
   },
   {
    "duration": -242,
    "start_time": "2022-03-10T07:50:40.409Z"
   },
   {
    "duration": -244,
    "start_time": "2022-03-10T07:50:40.412Z"
   },
   {
    "duration": 24,
    "start_time": "2022-03-10T07:53:19.534Z"
   },
   {
    "duration": 18,
    "start_time": "2022-03-10T07:55:53.059Z"
   },
   {
    "duration": 6,
    "start_time": "2022-03-10T07:59:04.418Z"
   },
   {
    "duration": 146,
    "start_time": "2022-03-10T07:59:05.772Z"
   },
   {
    "duration": 13,
    "start_time": "2022-03-10T07:59:11.020Z"
   },
   {
    "duration": 192,
    "start_time": "2022-03-10T07:59:24.519Z"
   },
   {
    "duration": 6,
    "start_time": "2022-03-10T07:59:55.509Z"
   },
   {
    "duration": 31,
    "start_time": "2022-03-10T07:59:55.516Z"
   },
   {
    "duration": 8,
    "start_time": "2022-03-10T07:59:55.549Z"
   },
   {
    "duration": 8,
    "start_time": "2022-03-10T07:59:55.558Z"
   },
   {
    "duration": 17,
    "start_time": "2022-03-10T07:59:55.567Z"
   },
   {
    "duration": 20,
    "start_time": "2022-03-10T07:59:55.586Z"
   },
   {
    "duration": 2,
    "start_time": "2022-03-10T07:59:55.607Z"
   },
   {
    "duration": 10,
    "start_time": "2022-03-10T07:59:55.611Z"
   },
   {
    "duration": 173,
    "start_time": "2022-03-10T07:59:55.623Z"
   },
   {
    "duration": 12,
    "start_time": "2022-03-10T07:59:55.798Z"
   },
   {
    "duration": 259,
    "start_time": "2022-03-10T07:59:55.811Z"
   },
   {
    "duration": -103,
    "start_time": "2022-03-10T07:59:56.176Z"
   },
   {
    "duration": -108,
    "start_time": "2022-03-10T07:59:56.182Z"
   },
   {
    "duration": -110,
    "start_time": "2022-03-10T07:59:56.185Z"
   },
   {
    "duration": -112,
    "start_time": "2022-03-10T07:59:56.189Z"
   },
   {
    "duration": -115,
    "start_time": "2022-03-10T07:59:56.193Z"
   },
   {
    "duration": -118,
    "start_time": "2022-03-10T07:59:56.197Z"
   },
   {
    "duration": -119,
    "start_time": "2022-03-10T07:59:56.199Z"
   },
   {
    "duration": -121,
    "start_time": "2022-03-10T07:59:56.202Z"
   },
   {
    "duration": -122,
    "start_time": "2022-03-10T07:59:56.204Z"
   },
   {
    "duration": -124,
    "start_time": "2022-03-10T07:59:56.207Z"
   },
   {
    "duration": -126,
    "start_time": "2022-03-10T07:59:56.210Z"
   },
   {
    "duration": -128,
    "start_time": "2022-03-10T07:59:56.213Z"
   },
   {
    "duration": -130,
    "start_time": "2022-03-10T07:59:56.216Z"
   },
   {
    "duration": -131,
    "start_time": "2022-03-10T07:59:56.218Z"
   },
   {
    "duration": -133,
    "start_time": "2022-03-10T07:59:56.221Z"
   },
   {
    "duration": -134,
    "start_time": "2022-03-10T07:59:56.223Z"
   },
   {
    "duration": -136,
    "start_time": "2022-03-10T07:59:56.226Z"
   },
   {
    "duration": -137,
    "start_time": "2022-03-10T07:59:56.228Z"
   },
   {
    "duration": -146,
    "start_time": "2022-03-10T07:59:56.238Z"
   },
   {
    "duration": -149,
    "start_time": "2022-03-10T07:59:56.243Z"
   },
   {
    "duration": -151,
    "start_time": "2022-03-10T07:59:56.246Z"
   },
   {
    "duration": -153,
    "start_time": "2022-03-10T07:59:56.249Z"
   },
   {
    "duration": -155,
    "start_time": "2022-03-10T07:59:56.252Z"
   },
   {
    "duration": -163,
    "start_time": "2022-03-10T07:59:56.261Z"
   },
   {
    "duration": -165,
    "start_time": "2022-03-10T07:59:56.264Z"
   },
   {
    "duration": -167,
    "start_time": "2022-03-10T07:59:56.267Z"
   },
   {
    "duration": -169,
    "start_time": "2022-03-10T07:59:56.270Z"
   },
   {
    "duration": -171,
    "start_time": "2022-03-10T07:59:56.273Z"
   },
   {
    "duration": -172,
    "start_time": "2022-03-10T07:59:56.276Z"
   },
   {
    "duration": -174,
    "start_time": "2022-03-10T07:59:56.279Z"
   },
   {
    "duration": -176,
    "start_time": "2022-03-10T07:59:56.282Z"
   },
   {
    "duration": -178,
    "start_time": "2022-03-10T07:59:56.285Z"
   },
   {
    "duration": -178,
    "start_time": "2022-03-10T07:59:56.287Z"
   },
   {
    "duration": -180,
    "start_time": "2022-03-10T07:59:56.290Z"
   },
   {
    "duration": -130,
    "start_time": "2022-03-10T07:59:56.293Z"
   },
   {
    "duration": -137,
    "start_time": "2022-03-10T07:59:56.302Z"
   },
   {
    "duration": -139,
    "start_time": "2022-03-10T07:59:56.305Z"
   },
   {
    "duration": -141,
    "start_time": "2022-03-10T07:59:56.309Z"
   },
   {
    "duration": -142,
    "start_time": "2022-03-10T07:59:56.311Z"
   },
   {
    "duration": -144,
    "start_time": "2022-03-10T07:59:56.314Z"
   },
   {
    "duration": 4,
    "start_time": "2022-03-10T08:02:20.921Z"
   },
   {
    "duration": 6,
    "start_time": "2022-03-10T08:02:23.747Z"
   },
   {
    "duration": 218,
    "start_time": "2022-03-10T08:02:25.460Z"
   },
   {
    "duration": 12,
    "start_time": "2022-03-10T08:02:28.545Z"
   },
   {
    "duration": 316,
    "start_time": "2022-03-10T08:02:32.110Z"
   },
   {
    "duration": 7,
    "start_time": "2022-03-10T08:03:46.740Z"
   },
   {
    "duration": 37,
    "start_time": "2022-03-10T08:03:46.749Z"
   },
   {
    "duration": 8,
    "start_time": "2022-03-10T08:03:46.788Z"
   },
   {
    "duration": 13,
    "start_time": "2022-03-10T08:03:46.798Z"
   },
   {
    "duration": 56,
    "start_time": "2022-03-10T08:03:46.813Z"
   },
   {
    "duration": 34,
    "start_time": "2022-03-10T08:03:46.871Z"
   },
   {
    "duration": 4,
    "start_time": "2022-03-10T08:03:46.907Z"
   },
   {
    "duration": 13,
    "start_time": "2022-03-10T08:03:46.914Z"
   },
   {
    "duration": 168,
    "start_time": "2022-03-10T08:03:46.929Z"
   },
   {
    "duration": 12,
    "start_time": "2022-03-10T08:03:47.099Z"
   },
   {
    "duration": 259,
    "start_time": "2022-03-10T08:03:47.113Z"
   },
   {
    "duration": -82,
    "start_time": "2022-03-10T08:03:47.456Z"
   },
   {
    "duration": -97,
    "start_time": "2022-03-10T08:03:47.472Z"
   },
   {
    "duration": -101,
    "start_time": "2022-03-10T08:03:47.477Z"
   },
   {
    "duration": -104,
    "start_time": "2022-03-10T08:03:47.481Z"
   },
   {
    "duration": -107,
    "start_time": "2022-03-10T08:03:47.484Z"
   },
   {
    "duration": -109,
    "start_time": "2022-03-10T08:03:47.487Z"
   },
   {
    "duration": -111,
    "start_time": "2022-03-10T08:03:47.490Z"
   },
   {
    "duration": -114,
    "start_time": "2022-03-10T08:03:47.494Z"
   },
   {
    "duration": -117,
    "start_time": "2022-03-10T08:03:47.497Z"
   },
   {
    "duration": -123,
    "start_time": "2022-03-10T08:03:47.504Z"
   },
   {
    "duration": -126,
    "start_time": "2022-03-10T08:03:47.508Z"
   },
   {
    "duration": -127,
    "start_time": "2022-03-10T08:03:47.510Z"
   },
   {
    "duration": -129,
    "start_time": "2022-03-10T08:03:47.513Z"
   },
   {
    "duration": -130,
    "start_time": "2022-03-10T08:03:47.515Z"
   },
   {
    "duration": -133,
    "start_time": "2022-03-10T08:03:47.518Z"
   },
   {
    "duration": -134,
    "start_time": "2022-03-10T08:03:47.520Z"
   },
   {
    "duration": -136,
    "start_time": "2022-03-10T08:03:47.523Z"
   },
   {
    "duration": -138,
    "start_time": "2022-03-10T08:03:47.526Z"
   },
   {
    "duration": -140,
    "start_time": "2022-03-10T08:03:47.529Z"
   },
   {
    "duration": -142,
    "start_time": "2022-03-10T08:03:47.531Z"
   },
   {
    "duration": -144,
    "start_time": "2022-03-10T08:03:47.534Z"
   },
   {
    "duration": -151,
    "start_time": "2022-03-10T08:03:47.542Z"
   },
   {
    "duration": -153,
    "start_time": "2022-03-10T08:03:47.545Z"
   },
   {
    "duration": -155,
    "start_time": "2022-03-10T08:03:47.548Z"
   },
   {
    "duration": -156,
    "start_time": "2022-03-10T08:03:47.550Z"
   },
   {
    "duration": -158,
    "start_time": "2022-03-10T08:03:47.553Z"
   },
   {
    "duration": -161,
    "start_time": "2022-03-10T08:03:47.556Z"
   },
   {
    "duration": -163,
    "start_time": "2022-03-10T08:03:47.559Z"
   },
   {
    "duration": -165,
    "start_time": "2022-03-10T08:03:47.562Z"
   },
   {
    "duration": -178,
    "start_time": "2022-03-10T08:03:47.576Z"
   },
   {
    "duration": -186,
    "start_time": "2022-03-10T08:03:47.585Z"
   },
   {
    "duration": -190,
    "start_time": "2022-03-10T08:03:47.589Z"
   },
   {
    "duration": -192,
    "start_time": "2022-03-10T08:03:47.592Z"
   },
   {
    "duration": -194,
    "start_time": "2022-03-10T08:03:47.595Z"
   },
   {
    "duration": -205,
    "start_time": "2022-03-10T08:03:47.606Z"
   },
   {
    "duration": -208,
    "start_time": "2022-03-10T08:03:47.610Z"
   },
   {
    "duration": -210,
    "start_time": "2022-03-10T08:03:47.613Z"
   },
   {
    "duration": -211,
    "start_time": "2022-03-10T08:03:47.615Z"
   },
   {
    "duration": -213,
    "start_time": "2022-03-10T08:03:47.618Z"
   },
   {
    "duration": -215,
    "start_time": "2022-03-10T08:03:47.621Z"
   },
   {
    "duration": 15,
    "start_time": "2022-03-10T08:04:17.369Z"
   },
   {
    "duration": 7,
    "start_time": "2022-03-10T08:04:59.613Z"
   },
   {
    "duration": 41,
    "start_time": "2022-03-10T08:04:59.621Z"
   },
   {
    "duration": 7,
    "start_time": "2022-03-10T08:04:59.665Z"
   },
   {
    "duration": 8,
    "start_time": "2022-03-10T08:04:59.674Z"
   },
   {
    "duration": 17,
    "start_time": "2022-03-10T08:04:59.684Z"
   },
   {
    "duration": 22,
    "start_time": "2022-03-10T08:04:59.703Z"
   },
   {
    "duration": 5142,
    "start_time": "2022-03-10T08:04:59.764Z"
   },
   {
    "duration": -112,
    "start_time": "2022-03-10T08:05:05.022Z"
   },
   {
    "duration": -122,
    "start_time": "2022-03-10T08:05:05.034Z"
   },
   {
    "duration": -127,
    "start_time": "2022-03-10T08:05:05.040Z"
   },
   {
    "duration": -136,
    "start_time": "2022-03-10T08:05:05.050Z"
   },
   {
    "duration": -140,
    "start_time": "2022-03-10T08:05:05.055Z"
   },
   {
    "duration": -149,
    "start_time": "2022-03-10T08:05:05.065Z"
   },
   {
    "duration": -152,
    "start_time": "2022-03-10T08:05:05.069Z"
   },
   {
    "duration": -156,
    "start_time": "2022-03-10T08:05:05.075Z"
   },
   {
    "duration": -169,
    "start_time": "2022-03-10T08:05:05.089Z"
   },
   {
    "duration": -175,
    "start_time": "2022-03-10T08:05:05.097Z"
   },
   {
    "duration": -178,
    "start_time": "2022-03-10T08:05:05.101Z"
   },
   {
    "duration": -182,
    "start_time": "2022-03-10T08:05:05.106Z"
   },
   {
    "duration": -190,
    "start_time": "2022-03-10T08:05:05.115Z"
   },
   {
    "duration": -192,
    "start_time": "2022-03-10T08:05:05.118Z"
   },
   {
    "duration": -196,
    "start_time": "2022-03-10T08:05:05.123Z"
   },
   {
    "duration": -203,
    "start_time": "2022-03-10T08:05:05.132Z"
   },
   {
    "duration": -206,
    "start_time": "2022-03-10T08:05:05.136Z"
   },
   {
    "duration": -213,
    "start_time": "2022-03-10T08:05:05.144Z"
   },
   {
    "duration": -216,
    "start_time": "2022-03-10T08:05:05.148Z"
   },
   {
    "duration": -217,
    "start_time": "2022-03-10T08:05:05.151Z"
   },
   {
    "duration": -220,
    "start_time": "2022-03-10T08:05:05.155Z"
   },
   {
    "duration": -228,
    "start_time": "2022-03-10T08:05:05.164Z"
   },
   {
    "duration": -230,
    "start_time": "2022-03-10T08:05:05.167Z"
   },
   {
    "duration": -233,
    "start_time": "2022-03-10T08:05:05.171Z"
   },
   {
    "duration": -241,
    "start_time": "2022-03-10T08:05:05.180Z"
   },
   {
    "duration": -242,
    "start_time": "2022-03-10T08:05:05.183Z"
   },
   {
    "duration": -244,
    "start_time": "2022-03-10T08:05:05.186Z"
   },
   {
    "duration": -253,
    "start_time": "2022-03-10T08:05:05.196Z"
   },
   {
    "duration": -254,
    "start_time": "2022-03-10T08:05:05.198Z"
   },
   {
    "duration": -256,
    "start_time": "2022-03-10T08:05:05.201Z"
   },
   {
    "duration": -258,
    "start_time": "2022-03-10T08:05:05.205Z"
   },
   {
    "duration": -253,
    "start_time": "2022-03-10T08:05:05.215Z"
   },
   {
    "duration": -255,
    "start_time": "2022-03-10T08:05:05.218Z"
   },
   {
    "duration": -258,
    "start_time": "2022-03-10T08:05:05.222Z"
   },
   {
    "duration": -264,
    "start_time": "2022-03-10T08:05:05.230Z"
   },
   {
    "duration": -266,
    "start_time": "2022-03-10T08:05:05.233Z"
   },
   {
    "duration": -267,
    "start_time": "2022-03-10T08:05:05.235Z"
   },
   {
    "duration": -270,
    "start_time": "2022-03-10T08:05:05.239Z"
   },
   {
    "duration": -277,
    "start_time": "2022-03-10T08:05:05.247Z"
   },
   {
    "duration": -277,
    "start_time": "2022-03-10T08:05:05.249Z"
   },
   {
    "duration": -279,
    "start_time": "2022-03-10T08:05:05.252Z"
   },
   {
    "duration": -281,
    "start_time": "2022-03-10T08:05:05.255Z"
   },
   {
    "duration": -288,
    "start_time": "2022-03-10T08:05:05.263Z"
   },
   {
    "duration": -289,
    "start_time": "2022-03-10T08:05:05.266Z"
   },
   {
    "duration": 24,
    "start_time": "2022-03-10T08:05:18.648Z"
   },
   {
    "duration": 8,
    "start_time": "2022-03-10T08:05:23.243Z"
   },
   {
    "duration": 208,
    "start_time": "2022-03-10T08:05:26.441Z"
   },
   {
    "duration": 15,
    "start_time": "2022-03-10T08:05:28.779Z"
   },
   {
    "duration": 207,
    "start_time": "2022-03-10T08:05:35.551Z"
   },
   {
    "duration": 404,
    "start_time": "2022-03-10T08:05:41.753Z"
   },
   {
    "duration": 228,
    "start_time": "2022-03-10T08:05:56.387Z"
   },
   {
    "duration": 252,
    "start_time": "2022-03-10T08:05:58.557Z"
   },
   {
    "duration": 221,
    "start_time": "2022-03-10T08:06:04.460Z"
   },
   {
    "duration": 6,
    "start_time": "2022-03-10T08:08:00.483Z"
   },
   {
    "duration": 46,
    "start_time": "2022-03-10T08:08:00.491Z"
   },
   {
    "duration": 10,
    "start_time": "2022-03-10T08:08:00.540Z"
   },
   {
    "duration": 10,
    "start_time": "2022-03-10T08:08:00.552Z"
   },
   {
    "duration": 22,
    "start_time": "2022-03-10T08:08:00.564Z"
   },
   {
    "duration": 33,
    "start_time": "2022-03-10T08:08:00.588Z"
   },
   {
    "duration": 47,
    "start_time": "2022-03-10T08:08:00.623Z"
   },
   {
    "duration": 8,
    "start_time": "2022-03-10T08:08:00.673Z"
   },
   {
    "duration": 143,
    "start_time": "2022-03-10T08:08:00.684Z"
   },
   {
    "duration": 11,
    "start_time": "2022-03-10T08:08:00.828Z"
   },
   {
    "duration": 246,
    "start_time": "2022-03-10T08:08:00.841Z"
   },
   {
    "duration": -120,
    "start_time": "2022-03-10T08:08:01.210Z"
   },
   {
    "duration": -123,
    "start_time": "2022-03-10T08:08:01.214Z"
   },
   {
    "duration": -124,
    "start_time": "2022-03-10T08:08:01.217Z"
   },
   {
    "duration": -127,
    "start_time": "2022-03-10T08:08:01.221Z"
   },
   {
    "duration": -129,
    "start_time": "2022-03-10T08:08:01.224Z"
   },
   {
    "duration": -130,
    "start_time": "2022-03-10T08:08:01.227Z"
   },
   {
    "duration": -132,
    "start_time": "2022-03-10T08:08:01.230Z"
   },
   {
    "duration": -134,
    "start_time": "2022-03-10T08:08:01.233Z"
   },
   {
    "duration": -134,
    "start_time": "2022-03-10T08:08:01.235Z"
   },
   {
    "duration": -136,
    "start_time": "2022-03-10T08:08:01.238Z"
   },
   {
    "duration": -137,
    "start_time": "2022-03-10T08:08:01.241Z"
   },
   {
    "duration": -139,
    "start_time": "2022-03-10T08:08:01.244Z"
   },
   {
    "duration": -141,
    "start_time": "2022-03-10T08:08:01.247Z"
   },
   {
    "duration": -142,
    "start_time": "2022-03-10T08:08:01.250Z"
   },
   {
    "duration": -144,
    "start_time": "2022-03-10T08:08:01.253Z"
   },
   {
    "duration": -145,
    "start_time": "2022-03-10T08:08:01.255Z"
   },
   {
    "duration": -146,
    "start_time": "2022-03-10T08:08:01.258Z"
   },
   {
    "duration": -155,
    "start_time": "2022-03-10T08:08:01.268Z"
   },
   {
    "duration": -157,
    "start_time": "2022-03-10T08:08:01.272Z"
   },
   {
    "duration": -160,
    "start_time": "2022-03-10T08:08:01.276Z"
   },
   {
    "duration": -162,
    "start_time": "2022-03-10T08:08:01.279Z"
   },
   {
    "duration": -164,
    "start_time": "2022-03-10T08:08:01.282Z"
   },
   {
    "duration": -165,
    "start_time": "2022-03-10T08:08:01.285Z"
   },
   {
    "duration": -167,
    "start_time": "2022-03-10T08:08:01.288Z"
   },
   {
    "duration": -169,
    "start_time": "2022-03-10T08:08:01.291Z"
   },
   {
    "duration": -170,
    "start_time": "2022-03-10T08:08:01.294Z"
   },
   {
    "duration": -172,
    "start_time": "2022-03-10T08:08:01.297Z"
   },
   {
    "duration": -176,
    "start_time": "2022-03-10T08:08:01.302Z"
   },
   {
    "duration": -177,
    "start_time": "2022-03-10T08:08:01.305Z"
   },
   {
    "duration": -144,
    "start_time": "2022-03-10T08:08:01.308Z"
   },
   {
    "duration": -146,
    "start_time": "2022-03-10T08:08:01.311Z"
   },
   {
    "duration": -148,
    "start_time": "2022-03-10T08:08:01.314Z"
   },
   {
    "duration": -155,
    "start_time": "2022-03-10T08:08:01.323Z"
   },
   {
    "duration": -158,
    "start_time": "2022-03-10T08:08:01.327Z"
   },
   {
    "duration": -158,
    "start_time": "2022-03-10T08:08:01.329Z"
   },
   {
    "duration": -160,
    "start_time": "2022-03-10T08:08:01.332Z"
   },
   {
    "duration": -161,
    "start_time": "2022-03-10T08:08:01.335Z"
   },
   {
    "duration": -163,
    "start_time": "2022-03-10T08:08:01.338Z"
   },
   {
    "duration": -163,
    "start_time": "2022-03-10T08:08:01.340Z"
   },
   {
    "duration": -165,
    "start_time": "2022-03-10T08:08:01.343Z"
   },
   {
    "duration": 20,
    "start_time": "2022-03-10T08:08:33.381Z"
   },
   {
    "duration": 196,
    "start_time": "2022-03-10T08:11:05.260Z"
   },
   {
    "duration": 6,
    "start_time": "2022-03-10T08:11:23.679Z"
   },
   {
    "duration": 34,
    "start_time": "2022-03-10T08:11:23.687Z"
   },
   {
    "duration": 6,
    "start_time": "2022-03-10T08:11:23.723Z"
   },
   {
    "duration": 8,
    "start_time": "2022-03-10T08:11:23.731Z"
   },
   {
    "duration": 25,
    "start_time": "2022-03-10T08:11:23.741Z"
   },
   {
    "duration": 21,
    "start_time": "2022-03-10T08:11:23.768Z"
   },
   {
    "duration": 9,
    "start_time": "2022-03-10T08:11:23.791Z"
   },
   {
    "duration": 196,
    "start_time": "2022-03-10T08:11:23.802Z"
   },
   {
    "duration": -223,
    "start_time": "2022-03-10T08:11:24.225Z"
   },
   {
    "duration": -225,
    "start_time": "2022-03-10T08:11:24.228Z"
   },
   {
    "duration": -228,
    "start_time": "2022-03-10T08:11:24.231Z"
   },
   {
    "duration": -229,
    "start_time": "2022-03-10T08:11:24.233Z"
   },
   {
    "duration": -230,
    "start_time": "2022-03-10T08:11:24.235Z"
   },
   {
    "duration": -232,
    "start_time": "2022-03-10T08:11:24.238Z"
   },
   {
    "duration": -235,
    "start_time": "2022-03-10T08:11:24.242Z"
   },
   {
    "duration": -239,
    "start_time": "2022-03-10T08:11:24.246Z"
   },
   {
    "duration": -241,
    "start_time": "2022-03-10T08:11:24.249Z"
   },
   {
    "duration": -243,
    "start_time": "2022-03-10T08:11:24.252Z"
   },
   {
    "duration": -245,
    "start_time": "2022-03-10T08:11:24.255Z"
   },
   {
    "duration": -247,
    "start_time": "2022-03-10T08:11:24.258Z"
   },
   {
    "duration": -251,
    "start_time": "2022-03-10T08:11:24.263Z"
   },
   {
    "duration": -254,
    "start_time": "2022-03-10T08:11:24.267Z"
   },
   {
    "duration": -257,
    "start_time": "2022-03-10T08:11:24.270Z"
   },
   {
    "duration": -259,
    "start_time": "2022-03-10T08:11:24.273Z"
   },
   {
    "duration": -260,
    "start_time": "2022-03-10T08:11:24.275Z"
   },
   {
    "duration": -269,
    "start_time": "2022-03-10T08:11:24.285Z"
   },
   {
    "duration": -271,
    "start_time": "2022-03-10T08:11:24.288Z"
   },
   {
    "duration": -272,
    "start_time": "2022-03-10T08:11:24.290Z"
   },
   {
    "duration": -273,
    "start_time": "2022-03-10T08:11:24.292Z"
   },
   {
    "duration": -276,
    "start_time": "2022-03-10T08:11:24.295Z"
   },
   {
    "duration": -278,
    "start_time": "2022-03-10T08:11:24.298Z"
   },
   {
    "duration": -279,
    "start_time": "2022-03-10T08:11:24.300Z"
   },
   {
    "duration": -281,
    "start_time": "2022-03-10T08:11:24.303Z"
   },
   {
    "duration": -283,
    "start_time": "2022-03-10T08:11:24.306Z"
   },
   {
    "duration": -284,
    "start_time": "2022-03-10T08:11:24.308Z"
   },
   {
    "duration": -286,
    "start_time": "2022-03-10T08:11:24.311Z"
   },
   {
    "duration": -288,
    "start_time": "2022-03-10T08:11:24.313Z"
   },
   {
    "duration": -288,
    "start_time": "2022-03-10T08:11:24.315Z"
   },
   {
    "duration": -290,
    "start_time": "2022-03-10T08:11:24.318Z"
   },
   {
    "duration": -295,
    "start_time": "2022-03-10T08:11:24.324Z"
   },
   {
    "duration": -296,
    "start_time": "2022-03-10T08:11:24.326Z"
   },
   {
    "duration": -299,
    "start_time": "2022-03-10T08:11:24.330Z"
   },
   {
    "duration": -301,
    "start_time": "2022-03-10T08:11:24.333Z"
   },
   {
    "duration": -302,
    "start_time": "2022-03-10T08:11:24.335Z"
   },
   {
    "duration": -304,
    "start_time": "2022-03-10T08:11:24.338Z"
   },
   {
    "duration": -305,
    "start_time": "2022-03-10T08:11:24.341Z"
   },
   {
    "duration": -306,
    "start_time": "2022-03-10T08:11:24.343Z"
   },
   {
    "duration": -308,
    "start_time": "2022-03-10T08:11:24.346Z"
   },
   {
    "duration": -309,
    "start_time": "2022-03-10T08:11:24.348Z"
   },
   {
    "duration": -310,
    "start_time": "2022-03-10T08:11:24.350Z"
   },
   {
    "duration": -312,
    "start_time": "2022-03-10T08:11:24.353Z"
   },
   {
    "duration": -313,
    "start_time": "2022-03-10T08:11:24.355Z"
   },
   {
    "duration": 204,
    "start_time": "2022-03-10T08:11:56.240Z"
   },
   {
    "duration": 198,
    "start_time": "2022-03-10T08:12:29.337Z"
   },
   {
    "duration": 195,
    "start_time": "2022-03-10T08:13:49.875Z"
   },
   {
    "duration": 186,
    "start_time": "2022-03-10T08:14:40.748Z"
   },
   {
    "duration": 244,
    "start_time": "2022-03-10T08:16:49.262Z"
   },
   {
    "duration": 186,
    "start_time": "2022-03-10T08:16:55.110Z"
   },
   {
    "duration": 6,
    "start_time": "2022-03-10T08:17:05.940Z"
   },
   {
    "duration": 34,
    "start_time": "2022-03-10T08:17:05.948Z"
   },
   {
    "duration": 7,
    "start_time": "2022-03-10T08:17:05.984Z"
   },
   {
    "duration": 9,
    "start_time": "2022-03-10T08:17:05.993Z"
   },
   {
    "duration": 18,
    "start_time": "2022-03-10T08:17:06.004Z"
   },
   {
    "duration": 58,
    "start_time": "2022-03-10T08:17:06.024Z"
   },
   {
    "duration": 11,
    "start_time": "2022-03-10T08:17:06.084Z"
   },
   {
    "duration": 9,
    "start_time": "2022-03-10T08:17:06.097Z"
   },
   {
    "duration": 159,
    "start_time": "2022-03-10T08:17:06.108Z"
   },
   {
    "duration": 10,
    "start_time": "2022-03-10T08:17:06.269Z"
   },
   {
    "duration": 202,
    "start_time": "2022-03-10T08:17:06.281Z"
   },
   {
    "duration": -140,
    "start_time": "2022-03-10T08:17:06.625Z"
   },
   {
    "duration": -143,
    "start_time": "2022-03-10T08:17:06.629Z"
   },
   {
    "duration": -145,
    "start_time": "2022-03-10T08:17:06.632Z"
   },
   {
    "duration": -147,
    "start_time": "2022-03-10T08:17:06.635Z"
   },
   {
    "duration": -149,
    "start_time": "2022-03-10T08:17:06.637Z"
   },
   {
    "duration": -151,
    "start_time": "2022-03-10T08:17:06.640Z"
   },
   {
    "duration": -153,
    "start_time": "2022-03-10T08:17:06.643Z"
   },
   {
    "duration": -155,
    "start_time": "2022-03-10T08:17:06.646Z"
   },
   {
    "duration": -156,
    "start_time": "2022-03-10T08:17:06.648Z"
   },
   {
    "duration": -159,
    "start_time": "2022-03-10T08:17:06.652Z"
   },
   {
    "duration": -161,
    "start_time": "2022-03-10T08:17:06.654Z"
   },
   {
    "duration": -163,
    "start_time": "2022-03-10T08:17:06.657Z"
   },
   {
    "duration": -165,
    "start_time": "2022-03-10T08:17:06.660Z"
   },
   {
    "duration": -166,
    "start_time": "2022-03-10T08:17:06.662Z"
   },
   {
    "duration": -168,
    "start_time": "2022-03-10T08:17:06.665Z"
   },
   {
    "duration": -170,
    "start_time": "2022-03-10T08:17:06.668Z"
   },
   {
    "duration": -171,
    "start_time": "2022-03-10T08:17:06.670Z"
   },
   {
    "duration": -174,
    "start_time": "2022-03-10T08:17:06.674Z"
   },
   {
    "duration": -175,
    "start_time": "2022-03-10T08:17:06.676Z"
   },
   {
    "duration": -177,
    "start_time": "2022-03-10T08:17:06.679Z"
   },
   {
    "duration": -179,
    "start_time": "2022-03-10T08:17:06.682Z"
   },
   {
    "duration": -181,
    "start_time": "2022-03-10T08:17:06.685Z"
   },
   {
    "duration": -182,
    "start_time": "2022-03-10T08:17:06.687Z"
   },
   {
    "duration": -184,
    "start_time": "2022-03-10T08:17:06.690Z"
   },
   {
    "duration": -195,
    "start_time": "2022-03-10T08:17:06.701Z"
   },
   {
    "duration": -198,
    "start_time": "2022-03-10T08:17:06.705Z"
   },
   {
    "duration": -200,
    "start_time": "2022-03-10T08:17:06.708Z"
   },
   {
    "duration": -202,
    "start_time": "2022-03-10T08:17:06.711Z"
   },
   {
    "duration": -204,
    "start_time": "2022-03-10T08:17:06.714Z"
   },
   {
    "duration": -205,
    "start_time": "2022-03-10T08:17:06.716Z"
   },
   {
    "duration": -208,
    "start_time": "2022-03-10T08:17:06.719Z"
   },
   {
    "duration": -209,
    "start_time": "2022-03-10T08:17:06.721Z"
   },
   {
    "duration": -211,
    "start_time": "2022-03-10T08:17:06.724Z"
   },
   {
    "duration": -212,
    "start_time": "2022-03-10T08:17:06.726Z"
   },
   {
    "duration": -214,
    "start_time": "2022-03-10T08:17:06.729Z"
   },
   {
    "duration": -215,
    "start_time": "2022-03-10T08:17:06.731Z"
   },
   {
    "duration": -216,
    "start_time": "2022-03-10T08:17:06.733Z"
   },
   {
    "duration": -219,
    "start_time": "2022-03-10T08:17:06.736Z"
   },
   {
    "duration": -220,
    "start_time": "2022-03-10T08:17:06.738Z"
   },
   {
    "duration": -222,
    "start_time": "2022-03-10T08:17:06.741Z"
   },
   {
    "duration": 222,
    "start_time": "2022-03-10T08:17:46.750Z"
   },
   {
    "duration": 190,
    "start_time": "2022-03-10T08:19:07.691Z"
   },
   {
    "duration": 5,
    "start_time": "2022-03-10T08:19:30.076Z"
   },
   {
    "duration": 416,
    "start_time": "2022-03-10T08:19:30.629Z"
   },
   {
    "duration": 203,
    "start_time": "2022-03-10T08:22:51.280Z"
   },
   {
    "duration": 6,
    "start_time": "2022-03-10T08:23:45.963Z"
   },
   {
    "duration": 37,
    "start_time": "2022-03-10T08:23:45.971Z"
   },
   {
    "duration": 12,
    "start_time": "2022-03-10T08:23:46.011Z"
   },
   {
    "duration": 41,
    "start_time": "2022-03-10T08:23:46.026Z"
   },
   {
    "duration": 24,
    "start_time": "2022-03-10T08:23:46.069Z"
   },
   {
    "duration": 69,
    "start_time": "2022-03-10T08:23:46.096Z"
   },
   {
    "duration": 15,
    "start_time": "2022-03-10T08:23:46.167Z"
   },
   {
    "duration": 5,
    "start_time": "2022-03-10T08:23:46.185Z"
   },
   {
    "duration": 158,
    "start_time": "2022-03-10T08:23:46.193Z"
   },
   {
    "duration": 16,
    "start_time": "2022-03-10T08:23:46.353Z"
   },
   {
    "duration": 247,
    "start_time": "2022-03-10T08:23:46.371Z"
   },
   {
    "duration": -121,
    "start_time": "2022-03-10T08:23:46.743Z"
   },
   {
    "duration": -125,
    "start_time": "2022-03-10T08:23:46.748Z"
   },
   {
    "duration": -126,
    "start_time": "2022-03-10T08:23:46.751Z"
   },
   {
    "duration": -128,
    "start_time": "2022-03-10T08:23:46.754Z"
   },
   {
    "duration": -130,
    "start_time": "2022-03-10T08:23:46.757Z"
   },
   {
    "duration": -130,
    "start_time": "2022-03-10T08:23:46.759Z"
   },
   {
    "duration": -132,
    "start_time": "2022-03-10T08:23:46.762Z"
   },
   {
    "duration": -133,
    "start_time": "2022-03-10T08:23:46.764Z"
   },
   {
    "duration": -134,
    "start_time": "2022-03-10T08:23:46.767Z"
   },
   {
    "duration": -136,
    "start_time": "2022-03-10T08:23:46.770Z"
   },
   {
    "duration": -137,
    "start_time": "2022-03-10T08:23:46.772Z"
   },
   {
    "duration": -139,
    "start_time": "2022-03-10T08:23:46.775Z"
   },
   {
    "duration": -139,
    "start_time": "2022-03-10T08:23:46.777Z"
   },
   {
    "duration": -141,
    "start_time": "2022-03-10T08:23:46.780Z"
   },
   {
    "duration": -142,
    "start_time": "2022-03-10T08:23:46.782Z"
   },
   {
    "duration": -143,
    "start_time": "2022-03-10T08:23:46.785Z"
   },
   {
    "duration": -145,
    "start_time": "2022-03-10T08:23:46.788Z"
   },
   {
    "duration": -153,
    "start_time": "2022-03-10T08:23:46.797Z"
   },
   {
    "duration": -155,
    "start_time": "2022-03-10T08:23:46.801Z"
   },
   {
    "duration": -157,
    "start_time": "2022-03-10T08:23:46.804Z"
   },
   {
    "duration": -159,
    "start_time": "2022-03-10T08:23:46.807Z"
   },
   {
    "duration": -160,
    "start_time": "2022-03-10T08:23:46.810Z"
   },
   {
    "duration": -161,
    "start_time": "2022-03-10T08:23:46.812Z"
   },
   {
    "duration": -163,
    "start_time": "2022-03-10T08:23:46.815Z"
   },
   {
    "duration": -164,
    "start_time": "2022-03-10T08:23:46.818Z"
   },
   {
    "duration": -165,
    "start_time": "2022-03-10T08:23:46.820Z"
   },
   {
    "duration": -166,
    "start_time": "2022-03-10T08:23:46.822Z"
   },
   {
    "duration": -167,
    "start_time": "2022-03-10T08:23:46.825Z"
   },
   {
    "duration": -164,
    "start_time": "2022-03-10T08:23:46.827Z"
   },
   {
    "duration": -166,
    "start_time": "2022-03-10T08:23:46.830Z"
   },
   {
    "duration": -166,
    "start_time": "2022-03-10T08:23:46.832Z"
   },
   {
    "duration": -169,
    "start_time": "2022-03-10T08:23:46.836Z"
   },
   {
    "duration": -169,
    "start_time": "2022-03-10T08:23:46.838Z"
   },
   {
    "duration": -171,
    "start_time": "2022-03-10T08:23:46.841Z"
   },
   {
    "duration": -173,
    "start_time": "2022-03-10T08:23:46.844Z"
   },
   {
    "duration": -173,
    "start_time": "2022-03-10T08:23:46.846Z"
   },
   {
    "duration": -175,
    "start_time": "2022-03-10T08:23:46.849Z"
   },
   {
    "duration": -176,
    "start_time": "2022-03-10T08:23:46.851Z"
   },
   {
    "duration": -177,
    "start_time": "2022-03-10T08:23:46.854Z"
   },
   {
    "duration": -177,
    "start_time": "2022-03-10T08:23:46.856Z"
   },
   {
    "duration": 12,
    "start_time": "2022-03-10T08:25:20.492Z"
   },
   {
    "duration": 7,
    "start_time": "2022-03-10T08:25:28.214Z"
   },
   {
    "duration": 137,
    "start_time": "2022-03-10T08:25:29.863Z"
   },
   {
    "duration": 11,
    "start_time": "2022-03-10T08:25:31.490Z"
   },
   {
    "duration": 207,
    "start_time": "2022-03-10T08:25:34.648Z"
   },
   {
    "duration": 13,
    "start_time": "2022-03-10T08:26:12.776Z"
   },
   {
    "duration": 7,
    "start_time": "2022-03-10T08:26:16.259Z"
   },
   {
    "duration": 131,
    "start_time": "2022-03-10T08:26:16.693Z"
   },
   {
    "duration": 12,
    "start_time": "2022-03-10T08:26:18.215Z"
   },
   {
    "duration": 194,
    "start_time": "2022-03-10T08:26:21.483Z"
   },
   {
    "duration": 7,
    "start_time": "2022-03-10T08:27:25.084Z"
   },
   {
    "duration": 40,
    "start_time": "2022-03-10T08:27:25.092Z"
   },
   {
    "duration": 8,
    "start_time": "2022-03-10T08:27:25.134Z"
   },
   {
    "duration": 11,
    "start_time": "2022-03-10T08:27:25.144Z"
   },
   {
    "duration": 21,
    "start_time": "2022-03-10T08:27:25.157Z"
   },
   {
    "duration": 22,
    "start_time": "2022-03-10T08:27:25.180Z"
   },
   {
    "duration": 12,
    "start_time": "2022-03-10T08:27:25.204Z"
   },
   {
    "duration": 6,
    "start_time": "2022-03-10T08:27:25.218Z"
   },
   {
    "duration": 149,
    "start_time": "2022-03-10T08:27:25.264Z"
   },
   {
    "duration": 11,
    "start_time": "2022-03-10T08:27:25.414Z"
   },
   {
    "duration": 224,
    "start_time": "2022-03-10T08:27:25.427Z"
   },
   {
    "duration": -112,
    "start_time": "2022-03-10T08:27:25.766Z"
   },
   {
    "duration": -116,
    "start_time": "2022-03-10T08:27:25.771Z"
   },
   {
    "duration": -118,
    "start_time": "2022-03-10T08:27:25.774Z"
   },
   {
    "duration": -121,
    "start_time": "2022-03-10T08:27:25.778Z"
   },
   {
    "duration": -123,
    "start_time": "2022-03-10T08:27:25.781Z"
   },
   {
    "duration": -125,
    "start_time": "2022-03-10T08:27:25.784Z"
   },
   {
    "duration": -127,
    "start_time": "2022-03-10T08:27:25.787Z"
   },
   {
    "duration": -128,
    "start_time": "2022-03-10T08:27:25.789Z"
   },
   {
    "duration": -136,
    "start_time": "2022-03-10T08:27:25.798Z"
   },
   {
    "duration": -138,
    "start_time": "2022-03-10T08:27:25.801Z"
   },
   {
    "duration": -140,
    "start_time": "2022-03-10T08:27:25.804Z"
   },
   {
    "duration": -143,
    "start_time": "2022-03-10T08:27:25.807Z"
   },
   {
    "duration": -145,
    "start_time": "2022-03-10T08:27:25.810Z"
   },
   {
    "duration": -148,
    "start_time": "2022-03-10T08:27:25.814Z"
   },
   {
    "duration": -149,
    "start_time": "2022-03-10T08:27:25.816Z"
   },
   {
    "duration": -151,
    "start_time": "2022-03-10T08:27:25.819Z"
   },
   {
    "duration": -152,
    "start_time": "2022-03-10T08:27:25.821Z"
   },
   {
    "duration": -154,
    "start_time": "2022-03-10T08:27:25.824Z"
   },
   {
    "duration": -157,
    "start_time": "2022-03-10T08:27:25.827Z"
   },
   {
    "duration": -159,
    "start_time": "2022-03-10T08:27:25.830Z"
   },
   {
    "duration": -161,
    "start_time": "2022-03-10T08:27:25.833Z"
   },
   {
    "duration": -162,
    "start_time": "2022-03-10T08:27:25.835Z"
   },
   {
    "duration": -164,
    "start_time": "2022-03-10T08:27:25.838Z"
   },
   {
    "duration": -166,
    "start_time": "2022-03-10T08:27:25.841Z"
   },
   {
    "duration": -167,
    "start_time": "2022-03-10T08:27:25.843Z"
   },
   {
    "duration": -169,
    "start_time": "2022-03-10T08:27:25.846Z"
   },
   {
    "duration": -171,
    "start_time": "2022-03-10T08:27:25.848Z"
   },
   {
    "duration": -173,
    "start_time": "2022-03-10T08:27:25.851Z"
   },
   {
    "duration": -174,
    "start_time": "2022-03-10T08:27:25.853Z"
   },
   {
    "duration": -176,
    "start_time": "2022-03-10T08:27:25.856Z"
   },
   {
    "duration": -177,
    "start_time": "2022-03-10T08:27:25.858Z"
   },
   {
    "duration": -179,
    "start_time": "2022-03-10T08:27:25.861Z"
   },
   {
    "duration": -182,
    "start_time": "2022-03-10T08:27:25.865Z"
   },
   {
    "duration": -184,
    "start_time": "2022-03-10T08:27:25.868Z"
   },
   {
    "duration": -186,
    "start_time": "2022-03-10T08:27:25.871Z"
   },
   {
    "duration": -188,
    "start_time": "2022-03-10T08:27:25.874Z"
   },
   {
    "duration": -189,
    "start_time": "2022-03-10T08:27:25.876Z"
   },
   {
    "duration": -191,
    "start_time": "2022-03-10T08:27:25.879Z"
   },
   {
    "duration": -193,
    "start_time": "2022-03-10T08:27:25.882Z"
   },
   {
    "duration": -194,
    "start_time": "2022-03-10T08:27:25.884Z"
   },
   {
    "duration": 5,
    "start_time": "2022-03-10T08:28:14.614Z"
   },
   {
    "duration": 6,
    "start_time": "2022-03-10T08:28:18.539Z"
   },
   {
    "duration": 46,
    "start_time": "2022-03-10T08:28:18.547Z"
   },
   {
    "duration": 8,
    "start_time": "2022-03-10T08:28:18.595Z"
   },
   {
    "duration": 7,
    "start_time": "2022-03-10T08:28:18.605Z"
   },
   {
    "duration": 52,
    "start_time": "2022-03-10T08:28:18.614Z"
   },
   {
    "duration": 25,
    "start_time": "2022-03-10T08:28:18.668Z"
   },
   {
    "duration": 12,
    "start_time": "2022-03-10T08:28:18.695Z"
   },
   {
    "duration": 6,
    "start_time": "2022-03-10T08:28:18.711Z"
   },
   {
    "duration": 9,
    "start_time": "2022-03-10T08:28:18.719Z"
   },
   {
    "duration": 172,
    "start_time": "2022-03-10T08:28:18.730Z"
   },
   {
    "duration": 10,
    "start_time": "2022-03-10T08:28:18.904Z"
   },
   {
    "duration": 212,
    "start_time": "2022-03-10T08:28:18.916Z"
   },
   {
    "duration": -126,
    "start_time": "2022-03-10T08:28:19.256Z"
   },
   {
    "duration": -128,
    "start_time": "2022-03-10T08:28:19.259Z"
   },
   {
    "duration": -130,
    "start_time": "2022-03-10T08:28:19.262Z"
   },
   {
    "duration": -132,
    "start_time": "2022-03-10T08:28:19.265Z"
   },
   {
    "duration": -134,
    "start_time": "2022-03-10T08:28:19.268Z"
   },
   {
    "duration": -136,
    "start_time": "2022-03-10T08:28:19.271Z"
   },
   {
    "duration": -138,
    "start_time": "2022-03-10T08:28:19.273Z"
   },
   {
    "duration": -140,
    "start_time": "2022-03-10T08:28:19.276Z"
   },
   {
    "duration": -142,
    "start_time": "2022-03-10T08:28:19.279Z"
   },
   {
    "duration": -144,
    "start_time": "2022-03-10T08:28:19.282Z"
   },
   {
    "duration": -145,
    "start_time": "2022-03-10T08:28:19.284Z"
   },
   {
    "duration": -148,
    "start_time": "2022-03-10T08:28:19.287Z"
   },
   {
    "duration": -150,
    "start_time": "2022-03-10T08:28:19.290Z"
   },
   {
    "duration": -152,
    "start_time": "2022-03-10T08:28:19.293Z"
   },
   {
    "duration": -154,
    "start_time": "2022-03-10T08:28:19.296Z"
   },
   {
    "duration": -156,
    "start_time": "2022-03-10T08:28:19.299Z"
   },
   {
    "duration": -159,
    "start_time": "2022-03-10T08:28:19.302Z"
   },
   {
    "duration": -161,
    "start_time": "2022-03-10T08:28:19.305Z"
   },
   {
    "duration": -163,
    "start_time": "2022-03-10T08:28:19.308Z"
   },
   {
    "duration": -180,
    "start_time": "2022-03-10T08:28:19.326Z"
   },
   {
    "duration": -183,
    "start_time": "2022-03-10T08:28:19.330Z"
   },
   {
    "duration": -187,
    "start_time": "2022-03-10T08:28:19.335Z"
   },
   {
    "duration": -190,
    "start_time": "2022-03-10T08:28:19.339Z"
   },
   {
    "duration": -192,
    "start_time": "2022-03-10T08:28:19.342Z"
   },
   {
    "duration": -193,
    "start_time": "2022-03-10T08:28:19.344Z"
   },
   {
    "duration": -193,
    "start_time": "2022-03-10T08:28:19.346Z"
   },
   {
    "duration": -195,
    "start_time": "2022-03-10T08:28:19.349Z"
   },
   {
    "duration": -196,
    "start_time": "2022-03-10T08:28:19.351Z"
   },
   {
    "duration": -197,
    "start_time": "2022-03-10T08:28:19.353Z"
   },
   {
    "duration": -199,
    "start_time": "2022-03-10T08:28:19.356Z"
   },
   {
    "duration": -202,
    "start_time": "2022-03-10T08:28:19.359Z"
   },
   {
    "duration": -202,
    "start_time": "2022-03-10T08:28:19.361Z"
   },
   {
    "duration": -203,
    "start_time": "2022-03-10T08:28:19.363Z"
   },
   {
    "duration": -204,
    "start_time": "2022-03-10T08:28:19.366Z"
   },
   {
    "duration": -206,
    "start_time": "2022-03-10T08:28:19.369Z"
   },
   {
    "duration": -206,
    "start_time": "2022-03-10T08:28:19.371Z"
   },
   {
    "duration": -208,
    "start_time": "2022-03-10T08:28:19.374Z"
   },
   {
    "duration": -208,
    "start_time": "2022-03-10T08:28:19.376Z"
   },
   {
    "duration": -209,
    "start_time": "2022-03-10T08:28:19.378Z"
   },
   {
    "duration": -210,
    "start_time": "2022-03-10T08:28:19.381Z"
   },
   {
    "duration": 227,
    "start_time": "2022-03-10T08:30:05.525Z"
   },
   {
    "duration": 243,
    "start_time": "2022-03-10T08:30:47.540Z"
   },
   {
    "duration": 384,
    "start_time": "2022-03-10T08:32:51.223Z"
   },
   {
    "duration": 375,
    "start_time": "2022-03-10T08:33:41.067Z"
   },
   {
    "duration": 535,
    "start_time": "2022-03-10T08:34:06.318Z"
   },
   {
    "duration": 380,
    "start_time": "2022-03-10T09:08:31.705Z"
   },
   {
    "duration": 59,
    "start_time": "2022-03-10T09:09:22.601Z"
   },
   {
    "duration": 67,
    "start_time": "2022-03-10T09:11:31.950Z"
   },
   {
    "duration": 7,
    "start_time": "2022-03-10T09:14:31.184Z"
   },
   {
    "duration": 38,
    "start_time": "2022-03-10T09:14:31.193Z"
   },
   {
    "duration": 10,
    "start_time": "2022-03-10T09:14:31.233Z"
   },
   {
    "duration": 22,
    "start_time": "2022-03-10T09:14:31.246Z"
   },
   {
    "duration": 23,
    "start_time": "2022-03-10T09:14:31.270Z"
   },
   {
    "duration": 28,
    "start_time": "2022-03-10T09:14:31.296Z"
   },
   {
    "duration": 48,
    "start_time": "2022-03-10T09:14:31.326Z"
   },
   {
    "duration": 4,
    "start_time": "2022-03-10T09:14:31.378Z"
   },
   {
    "duration": 15,
    "start_time": "2022-03-10T09:14:31.384Z"
   },
   {
    "duration": 164,
    "start_time": "2022-03-10T09:14:31.401Z"
   },
   {
    "duration": 13,
    "start_time": "2022-03-10T09:14:31.567Z"
   },
   {
    "duration": 7,
    "start_time": "2022-03-10T09:14:31.581Z"
   },
   {
    "duration": 395,
    "start_time": "2022-03-10T09:14:31.589Z"
   },
   {
    "duration": -159,
    "start_time": "2022-03-10T09:14:32.146Z"
   },
   {
    "duration": -165,
    "start_time": "2022-03-10T09:14:32.153Z"
   },
   {
    "duration": -168,
    "start_time": "2022-03-10T09:14:32.157Z"
   },
   {
    "duration": -170,
    "start_time": "2022-03-10T09:14:32.161Z"
   },
   {
    "duration": -173,
    "start_time": "2022-03-10T09:14:32.165Z"
   },
   {
    "duration": -174,
    "start_time": "2022-03-10T09:14:32.168Z"
   },
   {
    "duration": -177,
    "start_time": "2022-03-10T09:14:32.172Z"
   },
   {
    "duration": -179,
    "start_time": "2022-03-10T09:14:32.175Z"
   },
   {
    "duration": -180,
    "start_time": "2022-03-10T09:14:32.178Z"
   },
   {
    "duration": -182,
    "start_time": "2022-03-10T09:14:32.181Z"
   },
   {
    "duration": -183,
    "start_time": "2022-03-10T09:14:32.184Z"
   },
   {
    "duration": -191,
    "start_time": "2022-03-10T09:14:32.193Z"
   },
   {
    "duration": -192,
    "start_time": "2022-03-10T09:14:32.196Z"
   },
   {
    "duration": -194,
    "start_time": "2022-03-10T09:14:32.199Z"
   },
   {
    "duration": -196,
    "start_time": "2022-03-10T09:14:32.202Z"
   },
   {
    "duration": -197,
    "start_time": "2022-03-10T09:14:32.205Z"
   },
   {
    "duration": -198,
    "start_time": "2022-03-10T09:14:32.208Z"
   },
   {
    "duration": -206,
    "start_time": "2022-03-10T09:14:32.217Z"
   },
   {
    "duration": -207,
    "start_time": "2022-03-10T09:14:32.220Z"
   },
   {
    "duration": -209,
    "start_time": "2022-03-10T09:14:32.223Z"
   },
   {
    "duration": -210,
    "start_time": "2022-03-10T09:14:32.226Z"
   },
   {
    "duration": -212,
    "start_time": "2022-03-10T09:14:32.229Z"
   },
   {
    "duration": -214,
    "start_time": "2022-03-10T09:14:32.232Z"
   },
   {
    "duration": -214,
    "start_time": "2022-03-10T09:14:32.234Z"
   },
   {
    "duration": -216,
    "start_time": "2022-03-10T09:14:32.237Z"
   },
   {
    "duration": -217,
    "start_time": "2022-03-10T09:14:32.240Z"
   },
   {
    "duration": -219,
    "start_time": "2022-03-10T09:14:32.243Z"
   },
   {
    "duration": -185,
    "start_time": "2022-03-10T09:14:32.247Z"
   },
   {
    "duration": -186,
    "start_time": "2022-03-10T09:14:32.250Z"
   },
   {
    "duration": -187,
    "start_time": "2022-03-10T09:14:32.253Z"
   },
   {
    "duration": -188,
    "start_time": "2022-03-10T09:14:32.255Z"
   },
   {
    "duration": -189,
    "start_time": "2022-03-10T09:14:32.258Z"
   },
   {
    "duration": -191,
    "start_time": "2022-03-10T09:14:32.261Z"
   },
   {
    "duration": -191,
    "start_time": "2022-03-10T09:14:32.263Z"
   },
   {
    "duration": -192,
    "start_time": "2022-03-10T09:14:32.265Z"
   },
   {
    "duration": -193,
    "start_time": "2022-03-10T09:14:32.268Z"
   },
   {
    "duration": -194,
    "start_time": "2022-03-10T09:14:32.270Z"
   },
   {
    "duration": -202,
    "start_time": "2022-03-10T09:14:32.279Z"
   },
   {
    "duration": -203,
    "start_time": "2022-03-10T09:14:32.282Z"
   },
   {
    "duration": -204,
    "start_time": "2022-03-10T09:14:32.284Z"
   },
   {
    "duration": -205,
    "start_time": "2022-03-10T09:14:32.287Z"
   },
   {
    "duration": -207,
    "start_time": "2022-03-10T09:14:32.290Z"
   },
   {
    "duration": -244,
    "start_time": "2022-03-10T11:37:44.513Z"
   },
   {
    "duration": 7,
    "start_time": "2022-03-10T11:37:51.615Z"
   },
   {
    "duration": 40,
    "start_time": "2022-03-10T11:37:51.624Z"
   },
   {
    "duration": 10,
    "start_time": "2022-03-10T11:37:51.667Z"
   },
   {
    "duration": 10,
    "start_time": "2022-03-10T11:37:51.679Z"
   },
   {
    "duration": 21,
    "start_time": "2022-03-10T11:37:51.691Z"
   },
   {
    "duration": 70,
    "start_time": "2022-03-10T11:37:51.714Z"
   },
   {
    "duration": 10,
    "start_time": "2022-03-10T11:37:51.786Z"
   },
   {
    "duration": 3,
    "start_time": "2022-03-10T11:37:51.799Z"
   },
   {
    "duration": 8,
    "start_time": "2022-03-10T11:37:51.804Z"
   },
   {
    "duration": 159,
    "start_time": "2022-03-10T11:37:51.814Z"
   },
   {
    "duration": 11,
    "start_time": "2022-03-10T11:37:51.974Z"
   },
   {
    "duration": 5,
    "start_time": "2022-03-10T11:37:51.986Z"
   },
   {
    "duration": 429,
    "start_time": "2022-03-10T11:37:51.993Z"
   },
   {
    "duration": -249,
    "start_time": "2022-03-10T11:37:52.673Z"
   },
   {
    "duration": -254,
    "start_time": "2022-03-10T11:37:52.679Z"
   },
   {
    "duration": -257,
    "start_time": "2022-03-10T11:37:52.683Z"
   },
   {
    "duration": -259,
    "start_time": "2022-03-10T11:37:52.685Z"
   },
   {
    "duration": -262,
    "start_time": "2022-03-10T11:37:52.689Z"
   },
   {
    "duration": -264,
    "start_time": "2022-03-10T11:37:52.692Z"
   },
   {
    "duration": -266,
    "start_time": "2022-03-10T11:37:52.695Z"
   },
   {
    "duration": -268,
    "start_time": "2022-03-10T11:37:52.698Z"
   },
   {
    "duration": -269,
    "start_time": "2022-03-10T11:37:52.700Z"
   },
   {
    "duration": -271,
    "start_time": "2022-03-10T11:37:52.703Z"
   },
   {
    "duration": -273,
    "start_time": "2022-03-10T11:37:52.706Z"
   },
   {
    "duration": -275,
    "start_time": "2022-03-10T11:37:52.709Z"
   },
   {
    "duration": -275,
    "start_time": "2022-03-10T11:37:52.711Z"
   },
   {
    "duration": -277,
    "start_time": "2022-03-10T11:37:52.714Z"
   },
   {
    "duration": -285,
    "start_time": "2022-03-10T11:37:52.723Z"
   },
   {
    "duration": -287,
    "start_time": "2022-03-10T11:37:52.726Z"
   },
   {
    "duration": -289,
    "start_time": "2022-03-10T11:37:52.729Z"
   },
   {
    "duration": -291,
    "start_time": "2022-03-10T11:37:52.732Z"
   },
   {
    "duration": -294,
    "start_time": "2022-03-10T11:37:52.735Z"
   },
   {
    "duration": -296,
    "start_time": "2022-03-10T11:37:52.738Z"
   },
   {
    "duration": -297,
    "start_time": "2022-03-10T11:37:52.741Z"
   },
   {
    "duration": -312,
    "start_time": "2022-03-10T11:37:52.757Z"
   },
   {
    "duration": -238,
    "start_time": "2022-03-10T11:37:52.765Z"
   },
   {
    "duration": -239,
    "start_time": "2022-03-10T11:37:52.767Z"
   },
   {
    "duration": -241,
    "start_time": "2022-03-10T11:37:52.770Z"
   },
   {
    "duration": -243,
    "start_time": "2022-03-10T11:37:52.773Z"
   },
   {
    "duration": -245,
    "start_time": "2022-03-10T11:37:52.776Z"
   },
   {
    "duration": -363,
    "start_time": "2022-03-10T11:37:52.895Z"
   },
   {
    "duration": -366,
    "start_time": "2022-03-10T11:37:52.898Z"
   },
   {
    "duration": -368,
    "start_time": "2022-03-10T11:37:52.901Z"
   },
   {
    "duration": -369,
    "start_time": "2022-03-10T11:37:52.903Z"
   },
   {
    "duration": -371,
    "start_time": "2022-03-10T11:37:52.906Z"
   },
   {
    "duration": -374,
    "start_time": "2022-03-10T11:37:52.909Z"
   },
   {
    "duration": -375,
    "start_time": "2022-03-10T11:37:52.912Z"
   },
   {
    "duration": -377,
    "start_time": "2022-03-10T11:37:52.915Z"
   },
   {
    "duration": -356,
    "start_time": "2022-03-10T11:37:52.918Z"
   },
   {
    "duration": -357,
    "start_time": "2022-03-10T11:37:52.920Z"
   },
   {
    "duration": -358,
    "start_time": "2022-03-10T11:37:52.923Z"
   },
   {
    "duration": -361,
    "start_time": "2022-03-10T11:37:52.926Z"
   },
   {
    "duration": -363,
    "start_time": "2022-03-10T11:37:52.929Z"
   },
   {
    "duration": -365,
    "start_time": "2022-03-10T11:37:52.932Z"
   },
   {
    "duration": -367,
    "start_time": "2022-03-10T11:37:52.935Z"
   },
   {
    "duration": 6,
    "start_time": "2022-03-10T11:39:19.840Z"
   },
   {
    "duration": 53,
    "start_time": "2022-03-10T11:39:19.848Z"
   },
   {
    "duration": 9,
    "start_time": "2022-03-10T11:39:19.904Z"
   },
   {
    "duration": 8,
    "start_time": "2022-03-10T11:39:19.916Z"
   },
   {
    "duration": 51,
    "start_time": "2022-03-10T11:39:19.926Z"
   },
   {
    "duration": 2265,
    "start_time": "2022-03-10T11:39:19.979Z"
   },
   {
    "duration": 27,
    "start_time": "2022-03-10T11:39:22.246Z"
   },
   {
    "duration": 5,
    "start_time": "2022-03-10T11:39:22.276Z"
   },
   {
    "duration": 9,
    "start_time": "2022-03-10T11:39:22.283Z"
   },
   {
    "duration": 444,
    "start_time": "2022-03-10T11:39:22.294Z"
   },
   {
    "duration": 23,
    "start_time": "2022-03-10T11:39:22.740Z"
   },
   {
    "duration": 5,
    "start_time": "2022-03-10T11:39:22.764Z"
   },
   {
    "duration": 391,
    "start_time": "2022-03-10T11:39:22.770Z"
   },
   {
    "duration": -6839,
    "start_time": "2022-03-10T11:39:30.003Z"
   },
   {
    "duration": -6861,
    "start_time": "2022-03-10T11:39:30.026Z"
   },
   {
    "duration": -6878,
    "start_time": "2022-03-10T11:39:30.044Z"
   },
   {
    "duration": -6916,
    "start_time": "2022-03-10T11:39:30.083Z"
   },
   {
    "duration": -6933,
    "start_time": "2022-03-10T11:39:30.101Z"
   },
   {
    "duration": -6955,
    "start_time": "2022-03-10T11:39:30.124Z"
   },
   {
    "duration": -6973,
    "start_time": "2022-03-10T11:39:30.142Z"
   },
   {
    "duration": -6996,
    "start_time": "2022-03-10T11:39:30.166Z"
   },
   {
    "duration": -7020,
    "start_time": "2022-03-10T11:39:30.191Z"
   },
   {
    "duration": -7044,
    "start_time": "2022-03-10T11:39:30.216Z"
   },
   {
    "duration": -7061,
    "start_time": "2022-03-10T11:39:30.234Z"
   },
   {
    "duration": -7082,
    "start_time": "2022-03-10T11:39:30.256Z"
   },
   {
    "duration": -7102,
    "start_time": "2022-03-10T11:39:30.276Z"
   },
   {
    "duration": -7129,
    "start_time": "2022-03-10T11:39:30.304Z"
   },
   {
    "duration": -7145,
    "start_time": "2022-03-10T11:39:30.321Z"
   },
   {
    "duration": -7166,
    "start_time": "2022-03-10T11:39:30.343Z"
   },
   {
    "duration": -7182,
    "start_time": "2022-03-10T11:39:30.360Z"
   },
   {
    "duration": -7202,
    "start_time": "2022-03-10T11:39:30.381Z"
   },
   {
    "duration": -7224,
    "start_time": "2022-03-10T11:39:30.404Z"
   },
   {
    "duration": -7246,
    "start_time": "2022-03-10T11:39:30.426Z"
   },
   {
    "duration": -7263,
    "start_time": "2022-03-10T11:39:30.444Z"
   },
   {
    "duration": -7284,
    "start_time": "2022-03-10T11:39:30.466Z"
   },
   {
    "duration": -7299,
    "start_time": "2022-03-10T11:39:30.482Z"
   },
   {
    "duration": -7324,
    "start_time": "2022-03-10T11:39:30.509Z"
   },
   {
    "duration": -7339,
    "start_time": "2022-03-10T11:39:30.526Z"
   },
   {
    "duration": -7360,
    "start_time": "2022-03-10T11:39:30.548Z"
   },
   {
    "duration": -7375,
    "start_time": "2022-03-10T11:39:30.565Z"
   },
   {
    "duration": -7397,
    "start_time": "2022-03-10T11:39:30.588Z"
   },
   {
    "duration": -7427,
    "start_time": "2022-03-10T11:39:30.619Z"
   },
   {
    "duration": -7463,
    "start_time": "2022-03-10T11:39:30.657Z"
   },
   {
    "duration": -7494,
    "start_time": "2022-03-10T11:39:30.689Z"
   },
   {
    "duration": -7530,
    "start_time": "2022-03-10T11:39:30.727Z"
   },
   {
    "duration": -7562,
    "start_time": "2022-03-10T11:39:30.760Z"
   },
   {
    "duration": -7601,
    "start_time": "2022-03-10T11:39:30.800Z"
   },
   {
    "duration": -7617,
    "start_time": "2022-03-10T11:39:30.818Z"
   },
   {
    "duration": -7639,
    "start_time": "2022-03-10T11:39:30.841Z"
   },
   {
    "duration": -7657,
    "start_time": "2022-03-10T11:39:30.860Z"
   },
   {
    "duration": -7678,
    "start_time": "2022-03-10T11:39:30.883Z"
   },
   {
    "duration": -7647,
    "start_time": "2022-03-10T11:39:30.909Z"
   },
   {
    "duration": -7686,
    "start_time": "2022-03-10T11:39:30.950Z"
   },
   {
    "duration": -7716,
    "start_time": "2022-03-10T11:39:30.981Z"
   },
   {
    "duration": -7755,
    "start_time": "2022-03-10T11:39:31.022Z"
   },
   {
    "duration": 429,
    "start_time": "2022-03-10T11:40:51.887Z"
   },
   {
    "duration": 196,
    "start_time": "2022-03-10T13:01:03.478Z"
   },
   {
    "duration": 281,
    "start_time": "2022-03-10T13:02:56.948Z"
   },
   {
    "duration": 6,
    "start_time": "2022-03-10T13:02:59.348Z"
   },
   {
    "duration": 36,
    "start_time": "2022-03-10T13:02:59.359Z"
   },
   {
    "duration": 8,
    "start_time": "2022-03-10T13:02:59.397Z"
   },
   {
    "duration": 11,
    "start_time": "2022-03-10T13:02:59.407Z"
   },
   {
    "duration": 18,
    "start_time": "2022-03-10T13:02:59.419Z"
   },
   {
    "duration": 25,
    "start_time": "2022-03-10T13:02:59.777Z"
   },
   {
    "duration": 12,
    "start_time": "2022-03-10T13:02:59.803Z"
   },
   {
    "duration": 3,
    "start_time": "2022-03-10T13:02:59.817Z"
   },
   {
    "duration": 7,
    "start_time": "2022-03-10T13:02:59.822Z"
   },
   {
    "duration": 257,
    "start_time": "2022-03-10T13:02:59.831Z"
   },
   {
    "duration": 9,
    "start_time": "2022-03-10T13:03:00.090Z"
   },
   {
    "duration": 23,
    "start_time": "2022-03-10T13:03:00.101Z"
   },
   {
    "duration": 1118,
    "start_time": "2022-03-10T13:03:00.127Z"
   },
   {
    "duration": -325,
    "start_time": "2022-03-10T13:03:01.573Z"
   },
   {
    "duration": -328,
    "start_time": "2022-03-10T13:03:01.577Z"
   },
   {
    "duration": -331,
    "start_time": "2022-03-10T13:03:01.581Z"
   },
   {
    "duration": -333,
    "start_time": "2022-03-10T13:03:01.584Z"
   },
   {
    "duration": -335,
    "start_time": "2022-03-10T13:03:01.587Z"
   },
   {
    "duration": -337,
    "start_time": "2022-03-10T13:03:01.590Z"
   },
   {
    "duration": -339,
    "start_time": "2022-03-10T13:03:01.593Z"
   },
   {
    "duration": -342,
    "start_time": "2022-03-10T13:03:01.597Z"
   },
   {
    "duration": -344,
    "start_time": "2022-03-10T13:03:01.600Z"
   },
   {
    "duration": -346,
    "start_time": "2022-03-10T13:03:01.603Z"
   },
   {
    "duration": -347,
    "start_time": "2022-03-10T13:03:01.605Z"
   },
   {
    "duration": -349,
    "start_time": "2022-03-10T13:03:01.608Z"
   },
   {
    "duration": -351,
    "start_time": "2022-03-10T13:03:01.611Z"
   },
   {
    "duration": -353,
    "start_time": "2022-03-10T13:03:01.614Z"
   },
   {
    "duration": -355,
    "start_time": "2022-03-10T13:03:01.617Z"
   },
   {
    "duration": -356,
    "start_time": "2022-03-10T13:03:01.619Z"
   },
   {
    "duration": -358,
    "start_time": "2022-03-10T13:03:01.622Z"
   },
   {
    "duration": -359,
    "start_time": "2022-03-10T13:03:01.624Z"
   },
   {
    "duration": -361,
    "start_time": "2022-03-10T13:03:01.627Z"
   },
   {
    "duration": -362,
    "start_time": "2022-03-10T13:03:01.629Z"
   },
   {
    "duration": -364,
    "start_time": "2022-03-10T13:03:01.632Z"
   },
   {
    "duration": -366,
    "start_time": "2022-03-10T13:03:01.635Z"
   },
   {
    "duration": -367,
    "start_time": "2022-03-10T13:03:01.637Z"
   },
   {
    "duration": -369,
    "start_time": "2022-03-10T13:03:01.640Z"
   },
   {
    "duration": -370,
    "start_time": "2022-03-10T13:03:01.642Z"
   },
   {
    "duration": -372,
    "start_time": "2022-03-10T13:03:01.645Z"
   },
   {
    "duration": -374,
    "start_time": "2022-03-10T13:03:01.648Z"
   },
   {
    "duration": -376,
    "start_time": "2022-03-10T13:03:01.650Z"
   },
   {
    "duration": -379,
    "start_time": "2022-03-10T13:03:01.654Z"
   },
   {
    "duration": -381,
    "start_time": "2022-03-10T13:03:01.657Z"
   },
   {
    "duration": -384,
    "start_time": "2022-03-10T13:03:01.661Z"
   },
   {
    "duration": -386,
    "start_time": "2022-03-10T13:03:01.664Z"
   },
   {
    "duration": -388,
    "start_time": "2022-03-10T13:03:01.667Z"
   },
   {
    "duration": -391,
    "start_time": "2022-03-10T13:03:01.670Z"
   },
   {
    "duration": -401,
    "start_time": "2022-03-10T13:03:01.681Z"
   },
   {
    "duration": -403,
    "start_time": "2022-03-10T13:03:01.684Z"
   },
   {
    "duration": -405,
    "start_time": "2022-03-10T13:03:01.687Z"
   },
   {
    "duration": -407,
    "start_time": "2022-03-10T13:03:01.690Z"
   },
   {
    "duration": -408,
    "start_time": "2022-03-10T13:03:01.692Z"
   },
   {
    "duration": -410,
    "start_time": "2022-03-10T13:03:01.695Z"
   },
   {
    "duration": -412,
    "start_time": "2022-03-10T13:03:01.698Z"
   },
   {
    "duration": -414,
    "start_time": "2022-03-10T13:03:01.700Z"
   },
   {
    "duration": 6,
    "start_time": "2022-03-10T13:06:49.943Z"
   },
   {
    "duration": 932,
    "start_time": "2022-03-10T13:06:51.576Z"
   },
   {
    "duration": 5,
    "start_time": "2022-03-10T13:07:09.720Z"
   },
   {
    "duration": 582,
    "start_time": "2022-03-10T13:07:11.483Z"
   },
   {
    "duration": 6,
    "start_time": "2022-03-10T13:07:24.357Z"
   },
   {
    "duration": 470,
    "start_time": "2022-03-10T13:07:27.416Z"
   },
   {
    "duration": 6,
    "start_time": "2022-03-10T13:08:12.816Z"
   },
   {
    "duration": 857,
    "start_time": "2022-03-10T13:08:14.570Z"
   },
   {
    "duration": 5,
    "start_time": "2022-03-10T13:08:42.104Z"
   },
   {
    "duration": 859,
    "start_time": "2022-03-10T13:08:43.834Z"
   },
   {
    "duration": 8,
    "start_time": "2022-03-10T13:09:32.199Z"
   },
   {
    "duration": 493,
    "start_time": "2022-03-10T13:09:34.403Z"
   },
   {
    "duration": 5,
    "start_time": "2022-03-10T13:10:23.836Z"
   },
   {
    "duration": 642,
    "start_time": "2022-03-10T13:10:24.885Z"
   },
   {
    "duration": 5,
    "start_time": "2022-03-10T13:10:31.601Z"
   },
   {
    "duration": 1253,
    "start_time": "2022-03-10T13:10:32.585Z"
   },
   {
    "duration": 6,
    "start_time": "2022-03-10T13:11:16.650Z"
   },
   {
    "duration": 666,
    "start_time": "2022-03-10T13:11:18.026Z"
   },
   {
    "duration": 6,
    "start_time": "2022-03-10T13:23:34.769Z"
   },
   {
    "duration": 554,
    "start_time": "2022-03-10T13:23:36.630Z"
   },
   {
    "duration": 6,
    "start_time": "2022-03-10T15:43:20.613Z"
   },
   {
    "duration": 501,
    "start_time": "2022-03-10T15:43:24.106Z"
   },
   {
    "duration": 69,
    "start_time": "2022-03-10T15:56:37.387Z"
   },
   {
    "duration": 74,
    "start_time": "2022-03-10T15:56:48.811Z"
   },
   {
    "duration": 76,
    "start_time": "2022-03-10T15:57:21.675Z"
   },
   {
    "duration": 74,
    "start_time": "2022-03-10T15:57:24.975Z"
   },
   {
    "duration": 631,
    "start_time": "2022-03-10T15:57:26.856Z"
   },
   {
    "duration": 8,
    "start_time": "2022-03-10T15:58:52.362Z"
   },
   {
    "duration": 47,
    "start_time": "2022-03-10T15:58:52.372Z"
   },
   {
    "duration": 7,
    "start_time": "2022-03-10T15:58:52.421Z"
   },
   {
    "duration": 12,
    "start_time": "2022-03-10T15:58:52.430Z"
   },
   {
    "duration": 23,
    "start_time": "2022-03-10T15:58:52.444Z"
   },
   {
    "duration": 23,
    "start_time": "2022-03-10T15:58:52.469Z"
   },
   {
    "duration": 10,
    "start_time": "2022-03-10T15:58:52.494Z"
   },
   {
    "duration": 3,
    "start_time": "2022-03-10T15:58:52.506Z"
   },
   {
    "duration": 10,
    "start_time": "2022-03-10T15:58:52.511Z"
   },
   {
    "duration": 270,
    "start_time": "2022-03-10T15:58:52.523Z"
   },
   {
    "duration": 9,
    "start_time": "2022-03-10T15:58:52.794Z"
   },
   {
    "duration": 60,
    "start_time": "2022-03-10T15:58:52.805Z"
   },
   {
    "duration": -598,
    "start_time": "2022-03-10T15:58:53.466Z"
   },
   {
    "duration": -599,
    "start_time": "2022-03-10T15:58:53.468Z"
   },
   {
    "duration": -601,
    "start_time": "2022-03-10T15:58:53.471Z"
   },
   {
    "duration": -604,
    "start_time": "2022-03-10T15:58:53.474Z"
   },
   {
    "duration": -606,
    "start_time": "2022-03-10T15:58:53.477Z"
   },
   {
    "duration": -608,
    "start_time": "2022-03-10T15:58:53.480Z"
   },
   {
    "duration": -610,
    "start_time": "2022-03-10T15:58:53.483Z"
   },
   {
    "duration": -612,
    "start_time": "2022-03-10T15:58:53.485Z"
   },
   {
    "duration": -614,
    "start_time": "2022-03-10T15:58:53.488Z"
   },
   {
    "duration": -615,
    "start_time": "2022-03-10T15:58:53.490Z"
   },
   {
    "duration": -617,
    "start_time": "2022-03-10T15:58:53.493Z"
   },
   {
    "duration": -618,
    "start_time": "2022-03-10T15:58:53.495Z"
   },
   {
    "duration": -620,
    "start_time": "2022-03-10T15:58:53.497Z"
   },
   {
    "duration": -622,
    "start_time": "2022-03-10T15:58:53.500Z"
   },
   {
    "duration": -623,
    "start_time": "2022-03-10T15:58:53.502Z"
   },
   {
    "duration": -625,
    "start_time": "2022-03-10T15:58:53.505Z"
   },
   {
    "duration": -627,
    "start_time": "2022-03-10T15:58:53.508Z"
   },
   {
    "duration": -630,
    "start_time": "2022-03-10T15:58:53.511Z"
   },
   {
    "duration": -631,
    "start_time": "2022-03-10T15:58:53.513Z"
   },
   {
    "duration": -633,
    "start_time": "2022-03-10T15:58:53.516Z"
   },
   {
    "duration": -635,
    "start_time": "2022-03-10T15:58:53.519Z"
   },
   {
    "duration": -636,
    "start_time": "2022-03-10T15:58:53.521Z"
   },
   {
    "duration": -638,
    "start_time": "2022-03-10T15:58:53.524Z"
   },
   {
    "duration": -640,
    "start_time": "2022-03-10T15:58:53.527Z"
   },
   {
    "duration": -643,
    "start_time": "2022-03-10T15:58:53.530Z"
   },
   {
    "duration": -645,
    "start_time": "2022-03-10T15:58:53.533Z"
   },
   {
    "duration": -646,
    "start_time": "2022-03-10T15:58:53.535Z"
   },
   {
    "duration": -648,
    "start_time": "2022-03-10T15:58:53.538Z"
   },
   {
    "duration": -649,
    "start_time": "2022-03-10T15:58:53.540Z"
   },
   {
    "duration": -651,
    "start_time": "2022-03-10T15:58:53.543Z"
   },
   {
    "duration": -652,
    "start_time": "2022-03-10T15:58:53.545Z"
   },
   {
    "duration": -655,
    "start_time": "2022-03-10T15:58:53.548Z"
   },
   {
    "duration": -656,
    "start_time": "2022-03-10T15:58:53.550Z"
   },
   {
    "duration": -657,
    "start_time": "2022-03-10T15:58:53.553Z"
   },
   {
    "duration": -659,
    "start_time": "2022-03-10T15:58:53.555Z"
   },
   {
    "duration": -661,
    "start_time": "2022-03-10T15:58:53.558Z"
   },
   {
    "duration": -663,
    "start_time": "2022-03-10T15:58:53.561Z"
   },
   {
    "duration": -675,
    "start_time": "2022-03-10T15:58:53.574Z"
   },
   {
    "duration": -679,
    "start_time": "2022-03-10T15:58:53.578Z"
   },
   {
    "duration": -681,
    "start_time": "2022-03-10T15:58:53.581Z"
   },
   {
    "duration": -683,
    "start_time": "2022-03-10T15:58:53.584Z"
   },
   {
    "duration": -685,
    "start_time": "2022-03-10T15:58:53.587Z"
   },
   {
    "duration": -687,
    "start_time": "2022-03-10T15:58:53.589Z"
   },
   {
    "duration": 74,
    "start_time": "2022-03-10T15:59:36.564Z"
   },
   {
    "duration": 8,
    "start_time": "2022-03-10T16:00:43.363Z"
   },
   {
    "duration": 611,
    "start_time": "2022-03-10T16:00:45.500Z"
   },
   {
    "duration": 6,
    "start_time": "2022-03-10T16:03:53.136Z"
   },
   {
    "duration": 71,
    "start_time": "2022-03-10T16:04:06.989Z"
   },
   {
    "duration": 6,
    "start_time": "2022-03-10T16:04:16.993Z"
   },
   {
    "duration": 503,
    "start_time": "2022-03-10T16:04:19.740Z"
   },
   {
    "duration": 6,
    "start_time": "2022-03-10T16:04:32.936Z"
   },
   {
    "duration": 483,
    "start_time": "2022-03-10T16:04:35.428Z"
   },
   {
    "duration": 7,
    "start_time": "2022-03-10T16:04:44.820Z"
   },
   {
    "duration": 35,
    "start_time": "2022-03-10T16:04:44.829Z"
   },
   {
    "duration": 11,
    "start_time": "2022-03-10T16:04:44.866Z"
   },
   {
    "duration": 10,
    "start_time": "2022-03-10T16:04:44.879Z"
   },
   {
    "duration": 20,
    "start_time": "2022-03-10T16:04:44.891Z"
   },
   {
    "duration": 64,
    "start_time": "2022-03-10T16:04:44.912Z"
   },
   {
    "duration": 13,
    "start_time": "2022-03-10T16:04:44.978Z"
   },
   {
    "duration": 23,
    "start_time": "2022-03-10T16:04:44.994Z"
   },
   {
    "duration": 25,
    "start_time": "2022-03-10T16:04:45.020Z"
   },
   {
    "duration": 241,
    "start_time": "2022-03-10T16:04:45.047Z"
   },
   {
    "duration": 9,
    "start_time": "2022-03-10T16:04:45.290Z"
   },
   {
    "duration": 21,
    "start_time": "2022-03-10T16:04:45.301Z"
   },
   {
    "duration": 524,
    "start_time": "2022-03-10T16:04:45.324Z"
   },
   {
    "duration": -430,
    "start_time": "2022-03-10T16:04:46.280Z"
   },
   {
    "duration": -434,
    "start_time": "2022-03-10T16:04:46.285Z"
   },
   {
    "duration": -436,
    "start_time": "2022-03-10T16:04:46.288Z"
   },
   {
    "duration": -438,
    "start_time": "2022-03-10T16:04:46.291Z"
   },
   {
    "duration": -440,
    "start_time": "2022-03-10T16:04:46.294Z"
   },
   {
    "duration": -443,
    "start_time": "2022-03-10T16:04:46.298Z"
   },
   {
    "duration": -505,
    "start_time": "2022-03-10T16:04:46.361Z"
   },
   {
    "duration": -424,
    "start_time": "2022-03-10T16:04:46.365Z"
   },
   {
    "duration": -427,
    "start_time": "2022-03-10T16:04:46.370Z"
   },
   {
    "duration": -430,
    "start_time": "2022-03-10T16:04:46.374Z"
   },
   {
    "duration": -433,
    "start_time": "2022-03-10T16:04:46.378Z"
   },
   {
    "duration": -443,
    "start_time": "2022-03-10T16:04:46.388Z"
   },
   {
    "duration": -450,
    "start_time": "2022-03-10T16:04:46.396Z"
   },
   {
    "duration": -454,
    "start_time": "2022-03-10T16:04:46.401Z"
   },
   {
    "duration": -456,
    "start_time": "2022-03-10T16:04:46.404Z"
   },
   {
    "duration": -471,
    "start_time": "2022-03-10T16:04:46.420Z"
   },
   {
    "duration": -473,
    "start_time": "2022-03-10T16:04:46.423Z"
   },
   {
    "duration": -464,
    "start_time": "2022-03-10T16:04:46.426Z"
   },
   {
    "duration": -485,
    "start_time": "2022-03-10T16:04:46.448Z"
   },
   {
    "duration": -487,
    "start_time": "2022-03-10T16:04:46.451Z"
   },
   {
    "duration": -497,
    "start_time": "2022-03-10T16:04:46.462Z"
   },
   {
    "duration": -499,
    "start_time": "2022-03-10T16:04:46.465Z"
   },
   {
    "duration": -500,
    "start_time": "2022-03-10T16:04:46.467Z"
   },
   {
    "duration": -502,
    "start_time": "2022-03-10T16:04:46.470Z"
   },
   {
    "duration": -503,
    "start_time": "2022-03-10T16:04:46.472Z"
   },
   {
    "duration": -505,
    "start_time": "2022-03-10T16:04:46.475Z"
   },
   {
    "duration": -507,
    "start_time": "2022-03-10T16:04:46.478Z"
   },
   {
    "duration": -508,
    "start_time": "2022-03-10T16:04:46.481Z"
   },
   {
    "duration": -511,
    "start_time": "2022-03-10T16:04:46.485Z"
   },
   {
    "duration": -539,
    "start_time": "2022-03-10T16:04:46.514Z"
   },
   {
    "duration": -540,
    "start_time": "2022-03-10T16:04:46.517Z"
   },
   {
    "duration": -540,
    "start_time": "2022-03-10T16:04:46.519Z"
   },
   {
    "duration": -542,
    "start_time": "2022-03-10T16:04:46.522Z"
   },
   {
    "duration": -544,
    "start_time": "2022-03-10T16:04:46.525Z"
   },
   {
    "duration": -546,
    "start_time": "2022-03-10T16:04:46.528Z"
   },
   {
    "duration": -547,
    "start_time": "2022-03-10T16:04:46.530Z"
   },
   {
    "duration": -548,
    "start_time": "2022-03-10T16:04:46.533Z"
   },
   {
    "duration": -551,
    "start_time": "2022-03-10T16:04:46.536Z"
   },
   {
    "duration": -553,
    "start_time": "2022-03-10T16:04:46.539Z"
   },
   {
    "duration": -554,
    "start_time": "2022-03-10T16:04:46.541Z"
   },
   {
    "duration": -557,
    "start_time": "2022-03-10T16:04:46.545Z"
   },
   {
    "duration": -559,
    "start_time": "2022-03-10T16:04:46.547Z"
   },
   {
    "duration": 6,
    "start_time": "2022-03-10T16:05:07.834Z"
   },
   {
    "duration": 492,
    "start_time": "2022-03-10T16:05:10.983Z"
   },
   {
    "duration": 6,
    "start_time": "2022-03-10T16:05:22.783Z"
   },
   {
    "duration": 568,
    "start_time": "2022-03-10T16:05:23.753Z"
   },
   {
    "duration": 7,
    "start_time": "2022-03-10T16:16:09.773Z"
   },
   {
    "duration": 533,
    "start_time": "2022-03-10T16:16:12.478Z"
   },
   {
    "duration": 74,
    "start_time": "2022-03-10T16:16:43.257Z"
   },
   {
    "duration": 6,
    "start_time": "2022-03-10T16:16:51.597Z"
   },
   {
    "duration": 563,
    "start_time": "2022-03-10T16:16:53.241Z"
   },
   {
    "duration": 6,
    "start_time": "2022-03-10T16:17:00.421Z"
   },
   {
    "duration": 513,
    "start_time": "2022-03-10T16:17:01.484Z"
   },
   {
    "duration": 6,
    "start_time": "2022-03-10T16:17:09.240Z"
   },
   {
    "duration": 467,
    "start_time": "2022-03-10T16:17:10.330Z"
   },
   {
    "duration": 6,
    "start_time": "2022-03-10T16:17:28.082Z"
   },
   {
    "duration": 540,
    "start_time": "2022-03-10T16:17:29.691Z"
   },
   {
    "duration": 7,
    "start_time": "2022-03-10T16:17:35.395Z"
   },
   {
    "duration": 41,
    "start_time": "2022-03-10T16:17:35.403Z"
   },
   {
    "duration": 8,
    "start_time": "2022-03-10T16:17:35.446Z"
   },
   {
    "duration": 7,
    "start_time": "2022-03-10T16:17:35.456Z"
   },
   {
    "duration": 32,
    "start_time": "2022-03-10T16:17:35.466Z"
   },
   {
    "duration": 24,
    "start_time": "2022-03-10T16:17:35.500Z"
   },
   {
    "duration": 42,
    "start_time": "2022-03-10T16:17:35.526Z"
   },
   {
    "duration": 5,
    "start_time": "2022-03-10T16:17:35.571Z"
   },
   {
    "duration": 11,
    "start_time": "2022-03-10T16:17:35.578Z"
   },
   {
    "duration": 241,
    "start_time": "2022-03-10T16:17:35.591Z"
   },
   {
    "duration": 11,
    "start_time": "2022-03-10T16:17:35.834Z"
   },
   {
    "duration": 20,
    "start_time": "2022-03-10T16:17:35.846Z"
   },
   {
    "duration": 550,
    "start_time": "2022-03-10T16:17:35.868Z"
   },
   {
    "duration": -451,
    "start_time": "2022-03-10T16:17:36.871Z"
   },
   {
    "duration": -455,
    "start_time": "2022-03-10T16:17:36.876Z"
   },
   {
    "duration": -457,
    "start_time": "2022-03-10T16:17:36.880Z"
   },
   {
    "duration": -460,
    "start_time": "2022-03-10T16:17:36.884Z"
   },
   {
    "duration": -463,
    "start_time": "2022-03-10T16:17:36.888Z"
   },
   {
    "duration": -466,
    "start_time": "2022-03-10T16:17:36.892Z"
   },
   {
    "duration": -468,
    "start_time": "2022-03-10T16:17:36.895Z"
   },
   {
    "duration": -470,
    "start_time": "2022-03-10T16:17:36.898Z"
   },
   {
    "duration": -471,
    "start_time": "2022-03-10T16:17:36.901Z"
   },
   {
    "duration": -473,
    "start_time": "2022-03-10T16:17:36.904Z"
   },
   {
    "duration": -475,
    "start_time": "2022-03-10T16:17:36.907Z"
   },
   {
    "duration": -477,
    "start_time": "2022-03-10T16:17:36.910Z"
   },
   {
    "duration": -479,
    "start_time": "2022-03-10T16:17:36.914Z"
   },
   {
    "duration": -481,
    "start_time": "2022-03-10T16:17:36.917Z"
   },
   {
    "duration": -483,
    "start_time": "2022-03-10T16:17:36.920Z"
   },
   {
    "duration": -485,
    "start_time": "2022-03-10T16:17:36.923Z"
   },
   {
    "duration": -486,
    "start_time": "2022-03-10T16:17:36.925Z"
   },
   {
    "duration": -488,
    "start_time": "2022-03-10T16:17:36.928Z"
   },
   {
    "duration": -490,
    "start_time": "2022-03-10T16:17:36.931Z"
   },
   {
    "duration": -492,
    "start_time": "2022-03-10T16:17:36.934Z"
   },
   {
    "duration": -493,
    "start_time": "2022-03-10T16:17:36.936Z"
   },
   {
    "duration": -495,
    "start_time": "2022-03-10T16:17:36.939Z"
   },
   {
    "duration": -504,
    "start_time": "2022-03-10T16:17:36.949Z"
   },
   {
    "duration": -507,
    "start_time": "2022-03-10T16:17:36.953Z"
   },
   {
    "duration": -509,
    "start_time": "2022-03-10T16:17:36.956Z"
   },
   {
    "duration": -511,
    "start_time": "2022-03-10T16:17:36.959Z"
   },
   {
    "duration": -513,
    "start_time": "2022-03-10T16:17:36.962Z"
   },
   {
    "duration": -515,
    "start_time": "2022-03-10T16:17:36.965Z"
   },
   {
    "duration": -517,
    "start_time": "2022-03-10T16:17:36.968Z"
   },
   {
    "duration": -518,
    "start_time": "2022-03-10T16:17:36.970Z"
   },
   {
    "duration": -520,
    "start_time": "2022-03-10T16:17:36.973Z"
   },
   {
    "duration": -521,
    "start_time": "2022-03-10T16:17:36.975Z"
   },
   {
    "duration": -523,
    "start_time": "2022-03-10T16:17:36.978Z"
   },
   {
    "duration": -525,
    "start_time": "2022-03-10T16:17:36.981Z"
   },
   {
    "duration": -526,
    "start_time": "2022-03-10T16:17:36.983Z"
   },
   {
    "duration": -527,
    "start_time": "2022-03-10T16:17:36.985Z"
   },
   {
    "duration": -526,
    "start_time": "2022-03-10T16:17:36.988Z"
   },
   {
    "duration": -527,
    "start_time": "2022-03-10T16:17:36.990Z"
   },
   {
    "duration": -528,
    "start_time": "2022-03-10T16:17:36.993Z"
   },
   {
    "duration": -529,
    "start_time": "2022-03-10T16:17:36.995Z"
   },
   {
    "duration": -531,
    "start_time": "2022-03-10T16:17:36.998Z"
   },
   {
    "duration": -533,
    "start_time": "2022-03-10T16:17:37.001Z"
   },
   {
    "duration": 304,
    "start_time": "2022-03-10T16:20:40.960Z"
   },
   {
    "duration": 7,
    "start_time": "2022-03-10T16:20:52.317Z"
   },
   {
    "duration": 6,
    "start_time": "2022-03-10T16:21:27.973Z"
   },
   {
    "duration": 550,
    "start_time": "2022-03-10T16:21:29.663Z"
   },
   {
    "duration": 8,
    "start_time": "2022-03-10T16:27:10.725Z"
   },
   {
    "duration": 680,
    "start_time": "2022-03-10T16:27:11.837Z"
   },
   {
    "duration": 35,
    "start_time": "2022-03-10T16:27:42.382Z"
   },
   {
    "duration": 319,
    "start_time": "2022-03-10T16:28:30.258Z"
   },
   {
    "duration": 34,
    "start_time": "2022-03-10T16:28:50.099Z"
   },
   {
    "duration": 7,
    "start_time": "2022-03-10T16:28:57.391Z"
   },
   {
    "duration": 361,
    "start_time": "2022-03-10T16:30:01.196Z"
   },
   {
    "duration": 211,
    "start_time": "2022-03-10T16:30:19.688Z"
   },
   {
    "duration": 341,
    "start_time": "2022-03-10T16:30:25.543Z"
   },
   {
    "duration": 6,
    "start_time": "2022-03-10T16:30:46.670Z"
   },
   {
    "duration": 11,
    "start_time": "2022-03-10T16:30:47.129Z"
   },
   {
    "duration": 305,
    "start_time": "2022-03-10T16:30:53.099Z"
   },
   {
    "duration": 609,
    "start_time": "2022-03-10T16:32:02.685Z"
   },
   {
    "duration": 3,
    "start_time": "2022-03-10T16:54:06.003Z"
   },
   {
    "duration": 338,
    "start_time": "2022-03-10T16:55:13.007Z"
   },
   {
    "duration": 376,
    "start_time": "2022-03-10T16:56:47.903Z"
   },
   {
    "duration": 358,
    "start_time": "2022-03-10T17:00:01.727Z"
   },
   {
    "duration": 356,
    "start_time": "2022-03-10T17:00:34.152Z"
   },
   {
    "duration": 349,
    "start_time": "2022-03-10T17:00:40.102Z"
   },
   {
    "duration": 344,
    "start_time": "2022-03-10T17:00:51.913Z"
   },
   {
    "duration": 442,
    "start_time": "2022-03-10T17:00:56.481Z"
   },
   {
    "duration": 370,
    "start_time": "2022-03-10T17:02:42.707Z"
   },
   {
    "duration": 7,
    "start_time": "2022-03-10T17:07:18.318Z"
   },
   {
    "duration": 48,
    "start_time": "2022-03-10T17:07:18.328Z"
   },
   {
    "duration": 8,
    "start_time": "2022-03-10T17:07:18.377Z"
   },
   {
    "duration": 12,
    "start_time": "2022-03-10T17:07:18.387Z"
   },
   {
    "duration": 21,
    "start_time": "2022-03-10T17:07:18.401Z"
   },
   {
    "duration": 52,
    "start_time": "2022-03-10T17:07:18.423Z"
   },
   {
    "duration": 12,
    "start_time": "2022-03-10T17:07:18.477Z"
   },
   {
    "duration": 4,
    "start_time": "2022-03-10T17:07:18.491Z"
   },
   {
    "duration": 10,
    "start_time": "2022-03-10T17:07:18.496Z"
   },
   {
    "duration": 239,
    "start_time": "2022-03-10T17:07:18.508Z"
   },
   {
    "duration": 14,
    "start_time": "2022-03-10T17:07:18.749Z"
   },
   {
    "duration": 7,
    "start_time": "2022-03-10T17:07:18.764Z"
   },
   {
    "duration": 612,
    "start_time": "2022-03-10T17:07:18.772Z"
   },
   {
    "duration": 296,
    "start_time": "2022-03-10T17:07:19.386Z"
   },
   {
    "duration": 351,
    "start_time": "2022-03-10T17:07:19.683Z"
   },
   {
    "duration": 4,
    "start_time": "2022-03-10T17:07:20.036Z"
   },
   {
    "duration": 25,
    "start_time": "2022-03-10T17:07:20.041Z"
   },
   {
    "duration": 248,
    "start_time": "2022-03-10T17:07:20.068Z"
   },
   {
    "duration": 385,
    "start_time": "2022-03-10T17:07:20.317Z"
   },
   {
    "duration": 355,
    "start_time": "2022-03-10T17:07:20.704Z"
   },
   {
    "duration": 371,
    "start_time": "2022-03-10T17:07:21.061Z"
   },
   {
    "duration": 349,
    "start_time": "2022-03-10T17:07:21.435Z"
   },
   {
    "duration": 10637,
    "start_time": "2022-03-10T17:07:21.786Z"
   },
   {
    "duration": 299,
    "start_time": "2022-03-10T17:07:32.425Z"
   },
   {
    "duration": 10,
    "start_time": "2022-03-10T17:07:32.726Z"
   },
   {
    "duration": 25,
    "start_time": "2022-03-10T17:07:32.738Z"
   },
   {
    "duration": 233,
    "start_time": "2022-03-10T17:07:32.765Z"
   },
   {
    "duration": 50176,
    "start_time": "2022-03-10T17:07:33.000Z"
   },
   {
    "duration": 9,
    "start_time": "2022-03-10T17:08:23.178Z"
   },
   {
    "duration": 21,
    "start_time": "2022-03-10T17:08:23.188Z"
   },
   {
    "duration": 254,
    "start_time": "2022-03-10T17:08:23.211Z"
   },
   {
    "duration": 722,
    "start_time": "2022-03-10T17:08:23.466Z"
   },
   {
    "duration": 74,
    "start_time": "2022-03-10T17:08:24.190Z"
   },
   {
    "duration": 98,
    "start_time": "2022-03-10T17:08:24.267Z"
   },
   {
    "duration": 264,
    "start_time": "2022-03-10T17:08:24.367Z"
   },
   {
    "duration": 285,
    "start_time": "2022-03-10T17:08:24.633Z"
   },
   {
    "duration": 13,
    "start_time": "2022-03-10T17:08:24.920Z"
   },
   {
    "duration": 15,
    "start_time": "2022-03-10T17:08:24.935Z"
   },
   {
    "duration": 246,
    "start_time": "2022-03-10T17:08:24.951Z"
   },
   {
    "duration": 506,
    "start_time": "2022-03-10T17:08:25.198Z"
   },
   {
    "duration": 120,
    "start_time": "2022-03-10T17:08:25.706Z"
   },
   {
    "duration": 7,
    "start_time": "2022-03-10T17:08:25.828Z"
   },
   {
    "duration": 245,
    "start_time": "2022-03-10T17:08:25.836Z"
   },
   {
    "duration": 282,
    "start_time": "2022-03-10T17:09:11.365Z"
   },
   {
    "duration": 7865,
    "start_time": "2022-03-10T17:10:35.957Z"
   },
   {
    "duration": 262,
    "start_time": "2022-03-10T17:10:54.584Z"
   },
   {
    "duration": 6,
    "start_time": "2022-03-10T17:14:06.038Z"
   },
   {
    "duration": 29,
    "start_time": "2022-03-10T17:14:06.069Z"
   },
   {
    "duration": 7,
    "start_time": "2022-03-10T17:14:06.112Z"
   },
   {
    "duration": 8,
    "start_time": "2022-03-10T17:14:06.420Z"
   },
   {
    "duration": 17,
    "start_time": "2022-03-10T17:14:06.897Z"
   },
   {
    "duration": 23,
    "start_time": "2022-03-10T17:14:07.273Z"
   },
   {
    "duration": 10,
    "start_time": "2022-03-10T17:14:07.692Z"
   },
   {
    "duration": 4,
    "start_time": "2022-03-10T17:14:08.066Z"
   },
   {
    "duration": 7,
    "start_time": "2022-03-10T17:14:15.885Z"
   },
   {
    "duration": 219,
    "start_time": "2022-03-10T17:14:16.205Z"
   },
   {
    "duration": 22,
    "start_time": "2022-03-10T17:14:52.247Z"
   },
   {
    "duration": 5,
    "start_time": "2022-03-10T17:14:52.280Z"
   },
   {
    "duration": 585,
    "start_time": "2022-03-10T17:14:52.300Z"
   },
   {
    "duration": 309,
    "start_time": "2022-03-10T17:14:53.133Z"
   },
   {
    "duration": 348,
    "start_time": "2022-03-10T17:14:54.126Z"
   },
   {
    "duration": 7,
    "start_time": "2022-03-10T17:14:54.564Z"
   },
   {
    "duration": 11,
    "start_time": "2022-03-10T17:14:54.683Z"
   },
   {
    "duration": 282,
    "start_time": "2022-03-10T17:14:54.937Z"
   },
   {
    "duration": 454,
    "start_time": "2022-03-10T17:14:55.517Z"
   },
   {
    "duration": 352,
    "start_time": "2022-03-10T17:14:55.988Z"
   },
   {
    "duration": 377,
    "start_time": "2022-03-10T17:14:56.363Z"
   },
   {
    "duration": 357,
    "start_time": "2022-03-10T17:14:56.990Z"
   },
   {
    "duration": 7760,
    "start_time": "2022-03-10T17:14:57.850Z"
   },
   {
    "duration": 300,
    "start_time": "2022-03-10T17:15:05.742Z"
   },
   {
    "duration": 37604,
    "start_time": "2022-03-10T17:15:06.063Z"
   },
   {
    "duration": 8,
    "start_time": "2022-03-10T17:15:43.919Z"
   },
   {
    "duration": 31,
    "start_time": "2022-03-10T17:15:43.937Z"
   },
   {
    "duration": 233,
    "start_time": "2022-03-10T17:15:44.002Z"
   },
   {
    "duration": 643,
    "start_time": "2022-03-10T17:15:44.245Z"
   },
   {
    "duration": 67,
    "start_time": "2022-03-10T17:15:44.900Z"
   },
   {
    "duration": 9,
    "start_time": "2022-03-10T17:15:45.083Z"
   },
   {
    "duration": 242,
    "start_time": "2022-03-10T17:15:45.143Z"
   },
   {
    "duration": 307,
    "start_time": "2022-03-10T17:15:45.402Z"
   },
   {
    "duration": 19,
    "start_time": "2022-03-10T17:15:45.716Z"
   },
   {
    "duration": 21,
    "start_time": "2022-03-10T17:15:45.743Z"
   },
   {
    "duration": 339,
    "start_time": "2022-03-10T17:15:45.987Z"
   },
   {
    "duration": 505,
    "start_time": "2022-03-10T17:15:46.339Z"
   },
   {
    "duration": 120,
    "start_time": "2022-03-10T17:15:46.852Z"
   },
   {
    "duration": 7,
    "start_time": "2022-03-10T17:15:47.582Z"
   },
   {
    "duration": 241,
    "start_time": "2022-03-10T17:15:47.893Z"
   },
   {
    "duration": 474,
    "start_time": "2022-03-10T17:16:54.039Z"
   },
   {
    "duration": 596,
    "start_time": "2022-03-10T17:21:19.789Z"
   },
   {
    "duration": 259,
    "start_time": "2022-03-10T17:22:28.813Z"
   },
   {
    "duration": 457,
    "start_time": "2022-03-10T17:23:09.801Z"
   },
   {
    "duration": 1550,
    "start_time": "2022-03-15T10:33:00.703Z"
   },
   {
    "duration": 55,
    "start_time": "2022-03-15T10:33:02.256Z"
   },
   {
    "duration": 12,
    "start_time": "2022-03-15T10:33:02.314Z"
   },
   {
    "duration": 22,
    "start_time": "2022-03-15T10:33:02.329Z"
   },
   {
    "duration": 30,
    "start_time": "2022-03-15T10:33:02.354Z"
   },
   {
    "duration": 67,
    "start_time": "2022-03-15T10:33:02.387Z"
   },
   {
    "duration": 17,
    "start_time": "2022-03-15T10:33:02.457Z"
   },
   {
    "duration": 5,
    "start_time": "2022-03-15T10:33:02.476Z"
   },
   {
    "duration": 14,
    "start_time": "2022-03-15T10:33:02.486Z"
   },
   {
    "duration": 424,
    "start_time": "2022-03-15T10:33:02.503Z"
   },
   {
    "duration": 22,
    "start_time": "2022-03-15T10:33:02.929Z"
   },
   {
    "duration": 9,
    "start_time": "2022-03-15T10:33:02.954Z"
   },
   {
    "duration": 837,
    "start_time": "2022-03-15T10:33:02.965Z"
   },
   {
    "duration": 504,
    "start_time": "2022-03-15T10:33:03.804Z"
   },
   {
    "duration": 654,
    "start_time": "2022-03-15T10:33:04.311Z"
   },
   {
    "duration": 5,
    "start_time": "2022-03-15T10:33:04.968Z"
   },
   {
    "duration": 21,
    "start_time": "2022-03-15T10:33:04.976Z"
   },
   {
    "duration": 418,
    "start_time": "2022-03-15T10:33:04.999Z"
   },
   {
    "duration": 845,
    "start_time": "2022-03-15T10:33:05.419Z"
   },
   {
    "duration": 969,
    "start_time": "2022-03-15T10:33:06.267Z"
   },
   {
    "duration": 859,
    "start_time": "2022-03-15T10:33:07.242Z"
   },
   {
    "duration": 940,
    "start_time": "2022-03-15T10:33:08.103Z"
   },
   {
    "duration": 11944,
    "start_time": "2022-03-15T10:33:09.046Z"
   },
   {
    "duration": 513,
    "start_time": "2022-03-15T10:33:20.992Z"
   },
   {
    "duration": 57136,
    "start_time": "2022-03-15T10:33:21.507Z"
   },
   {
    "duration": 1021,
    "start_time": "2022-03-15T10:34:18.645Z"
   },
   {
    "duration": 1002,
    "start_time": "2022-03-15T10:34:19.671Z"
   },
   {
    "duration": 640,
    "start_time": "2022-03-15T10:34:20.676Z"
   },
   {
    "duration": 750,
    "start_time": "2022-03-15T10:34:21.318Z"
   },
   {
    "duration": 772,
    "start_time": "2022-03-15T10:44:01.391Z"
   },
   {
    "duration": 871,
    "start_time": "2022-03-15T11:22:28.060Z"
   },
   {
    "duration": 11,
    "start_time": "2022-03-15T12:36:43.678Z"
   },
   {
    "duration": 57,
    "start_time": "2022-03-15T12:36:43.693Z"
   },
   {
    "duration": 19,
    "start_time": "2022-03-15T12:36:43.754Z"
   },
   {
    "duration": 67,
    "start_time": "2022-03-15T12:36:43.776Z"
   },
   {
    "duration": 33,
    "start_time": "2022-03-15T12:36:43.846Z"
   },
   {
    "duration": 78,
    "start_time": "2022-03-15T12:36:43.882Z"
   },
   {
    "duration": 16,
    "start_time": "2022-03-15T12:36:43.962Z"
   },
   {
    "duration": 5,
    "start_time": "2022-03-15T12:36:43.982Z"
   },
   {
    "duration": 10,
    "start_time": "2022-03-15T12:36:43.991Z"
   },
   {
    "duration": 429,
    "start_time": "2022-03-15T12:36:44.044Z"
   },
   {
    "duration": 13,
    "start_time": "2022-03-15T12:36:44.476Z"
   },
   {
    "duration": 9,
    "start_time": "2022-03-15T12:36:44.492Z"
   },
   {
    "duration": 931,
    "start_time": "2022-03-15T12:36:44.504Z"
   },
   {
    "duration": 546,
    "start_time": "2022-03-15T12:36:45.438Z"
   },
   {
    "duration": 676,
    "start_time": "2022-03-15T12:36:45.986Z"
   },
   {
    "duration": 6,
    "start_time": "2022-03-15T12:36:46.664Z"
   },
   {
    "duration": 20,
    "start_time": "2022-03-15T12:36:46.672Z"
   },
   {
    "duration": 358,
    "start_time": "2022-03-15T12:36:46.694Z"
   },
   {
    "duration": 889,
    "start_time": "2022-03-15T12:36:47.054Z"
   },
   {
    "duration": 812,
    "start_time": "2022-03-15T12:36:47.945Z"
   },
   {
    "duration": 936,
    "start_time": "2022-03-15T12:36:48.759Z"
   },
   {
    "duration": 852,
    "start_time": "2022-03-15T12:36:49.698Z"
   },
   {
    "duration": 2487,
    "start_time": "2022-03-15T12:57:35.578Z"
   },
   {
    "duration": 2486,
    "start_time": "2022-03-15T12:57:35.586Z"
   },
   {
    "duration": 2479,
    "start_time": "2022-03-15T12:57:35.601Z"
   },
   {
    "duration": 2481,
    "start_time": "2022-03-15T12:57:35.607Z"
   },
   {
    "duration": 2443,
    "start_time": "2022-03-15T12:57:35.652Z"
   },
   {
    "duration": 2482,
    "start_time": "2022-03-15T12:57:35.664Z"
   },
   {
    "duration": 2483,
    "start_time": "2022-03-15T12:57:35.670Z"
   },
   {
    "duration": 2480,
    "start_time": "2022-03-15T12:57:35.681Z"
   },
   {
    "duration": 2459,
    "start_time": "2022-03-15T12:57:35.708Z"
   },
   {
    "duration": 2461,
    "start_time": "2022-03-15T12:57:35.713Z"
   },
   {
    "duration": 2428,
    "start_time": "2022-03-15T12:57:35.815Z"
   },
   {
    "duration": 2430,
    "start_time": "2022-03-15T12:57:35.820Z"
   },
   {
    "duration": 2432,
    "start_time": "2022-03-15T12:57:35.825Z"
   },
   {
    "duration": 2380,
    "start_time": "2022-03-15T12:57:35.884Z"
   },
   {
    "duration": 2381,
    "start_time": "2022-03-15T12:57:35.889Z"
   },
   {
    "duration": 2384,
    "start_time": "2022-03-15T12:57:35.893Z"
   },
   {
    "duration": 2444,
    "start_time": "2022-03-15T12:57:35.908Z"
   },
   {
    "duration": 2447,
    "start_time": "2022-03-15T12:57:35.912Z"
   },
   {
    "duration": 2448,
    "start_time": "2022-03-15T12:57:35.917Z"
   },
   {
    "duration": 2450,
    "start_time": "2022-03-15T12:57:35.922Z"
   },
   {
    "duration": 2416,
    "start_time": "2022-03-15T12:57:35.962Z"
   },
   {
    "duration": 2479,
    "start_time": "2022-03-15T12:57:35.969Z"
   },
   {
    "duration": 2481,
    "start_time": "2022-03-15T12:57:35.974Z"
   },
   {
    "duration": 2478,
    "start_time": "2022-03-15T12:57:35.984Z"
   },
   {
    "duration": 2478,
    "start_time": "2022-03-15T12:57:35.990Z"
   },
   {
    "duration": 2476,
    "start_time": "2022-03-15T12:57:35.994Z"
   },
   {
    "duration": 2468,
    "start_time": "2022-03-15T12:57:36.004Z"
   },
   {
    "duration": 2460,
    "start_time": "2022-03-15T12:57:36.013Z"
   },
   {
    "duration": 2458,
    "start_time": "2022-03-15T12:57:36.017Z"
   },
   {
    "duration": 10,
    "start_time": "2022-03-15T12:59:05.445Z"
   },
   {
    "duration": 56,
    "start_time": "2022-03-15T12:59:05.457Z"
   },
   {
    "duration": 36,
    "start_time": "2022-03-15T12:59:05.516Z"
   },
   {
    "duration": 11,
    "start_time": "2022-03-15T12:59:05.555Z"
   },
   {
    "duration": 30,
    "start_time": "2022-03-15T12:59:05.569Z"
   },
   {
    "duration": 36,
    "start_time": "2022-03-15T12:59:05.644Z"
   },
   {
    "duration": 16,
    "start_time": "2022-03-15T12:59:05.683Z"
   },
   {
    "duration": 43,
    "start_time": "2022-03-15T12:59:05.702Z"
   },
   {
    "duration": 9,
    "start_time": "2022-03-15T12:59:05.749Z"
   },
   {
    "duration": 508,
    "start_time": "2022-03-15T12:59:05.761Z"
   },
   {
    "duration": 15,
    "start_time": "2022-03-15T12:59:06.271Z"
   },
   {
    "duration": 12,
    "start_time": "2022-03-15T12:59:06.289Z"
   },
   {
    "duration": 833,
    "start_time": "2022-03-15T12:59:06.304Z"
   },
   {
    "duration": 517,
    "start_time": "2022-03-15T12:59:07.142Z"
   },
   {
    "duration": 661,
    "start_time": "2022-03-15T12:59:07.661Z"
   },
   {
    "duration": 6,
    "start_time": "2022-03-15T12:59:08.324Z"
   },
   {
    "duration": 18,
    "start_time": "2022-03-15T12:59:08.343Z"
   },
   {
    "duration": 386,
    "start_time": "2022-03-15T12:59:08.363Z"
   },
   {
    "duration": 891,
    "start_time": "2022-03-15T12:59:08.752Z"
   },
   {
    "duration": 890,
    "start_time": "2022-03-15T12:59:09.645Z"
   },
   {
    "duration": 807,
    "start_time": "2022-03-15T12:59:10.538Z"
   },
   {
    "duration": 806,
    "start_time": "2022-03-15T12:59:11.348Z"
   },
   {
    "duration": 11791,
    "start_time": "2022-03-15T12:59:12.157Z"
   },
   {
    "duration": 649,
    "start_time": "2022-03-15T12:59:23.951Z"
   },
   {
    "duration": 56266,
    "start_time": "2022-03-15T12:59:24.603Z"
   },
   {
    "duration": 777,
    "start_time": "2022-03-15T13:00:20.871Z"
   },
   {
    "duration": 899,
    "start_time": "2022-03-15T13:00:21.653Z"
   },
   {
    "duration": 515,
    "start_time": "2022-03-15T13:00:22.555Z"
   },
   {
    "duration": 787,
    "start_time": "2022-03-15T13:00:23.073Z"
   },
   {
    "duration": 465,
    "start_time": "2022-03-15T13:11:55.499Z"
   },
   {
    "duration": 491,
    "start_time": "2022-03-15T13:13:13.006Z"
   },
   {
    "duration": 179,
    "start_time": "2022-03-15T13:15:21.191Z"
   },
   {
    "duration": 94,
    "start_time": "2022-03-15T13:20:32.202Z"
   },
   {
    "duration": 519,
    "start_time": "2022-03-15T13:20:43.153Z"
   },
   {
    "duration": 434,
    "start_time": "2022-03-15T13:22:55.353Z"
   },
   {
    "duration": 161,
    "start_time": "2022-03-15T13:23:20.860Z"
   },
   {
    "duration": 3,
    "start_time": "2022-03-15T13:24:01.936Z"
   },
   {
    "duration": 487,
    "start_time": "2022-03-15T13:26:32.631Z"
   },
   {
    "duration": 57663,
    "start_time": "2022-03-15T13:27:01.556Z"
   },
   {
    "duration": 162,
    "start_time": "2022-03-15T13:35:04.478Z"
   },
   {
    "duration": 575,
    "start_time": "2022-03-15T13:37:46.621Z"
   },
   {
    "duration": 765,
    "start_time": "2022-03-15T13:39:15.911Z"
   },
   {
    "duration": 969,
    "start_time": "2022-03-15T13:40:56.267Z"
   },
   {
    "duration": 829,
    "start_time": "2022-03-15T13:43:46.525Z"
   },
   {
    "duration": 883,
    "start_time": "2022-03-15T13:45:33.313Z"
   },
   {
    "duration": 257,
    "start_time": "2022-03-15T13:59:41.157Z"
   },
   {
    "duration": 9,
    "start_time": "2022-03-15T13:59:54.980Z"
   },
   {
    "duration": 55,
    "start_time": "2022-03-15T13:59:54.991Z"
   },
   {
    "duration": 10,
    "start_time": "2022-03-15T13:59:55.049Z"
   },
   {
    "duration": 11,
    "start_time": "2022-03-15T13:59:55.063Z"
   },
   {
    "duration": 79,
    "start_time": "2022-03-15T13:59:55.076Z"
   },
   {
    "duration": 34,
    "start_time": "2022-03-15T13:59:55.158Z"
   },
   {
    "duration": 52,
    "start_time": "2022-03-15T13:59:55.195Z"
   },
   {
    "duration": 5,
    "start_time": "2022-03-15T13:59:55.250Z"
   },
   {
    "duration": 9,
    "start_time": "2022-03-15T13:59:55.260Z"
   },
   {
    "duration": 419,
    "start_time": "2022-03-15T13:59:55.272Z"
   },
   {
    "duration": 14,
    "start_time": "2022-03-15T13:59:55.693Z"
   },
   {
    "duration": 10,
    "start_time": "2022-03-15T13:59:55.709Z"
   },
   {
    "duration": 835,
    "start_time": "2022-03-15T13:59:55.744Z"
   },
   {
    "duration": 510,
    "start_time": "2022-03-15T13:59:56.581Z"
   },
   {
    "duration": 597,
    "start_time": "2022-03-15T13:59:57.093Z"
   },
   {
    "duration": 7,
    "start_time": "2022-03-15T13:59:57.694Z"
   },
   {
    "duration": 48,
    "start_time": "2022-03-15T13:59:57.705Z"
   },
   {
    "duration": 397,
    "start_time": "2022-03-15T13:59:57.756Z"
   },
   {
    "duration": 890,
    "start_time": "2022-03-15T13:59:58.155Z"
   },
   {
    "duration": 804,
    "start_time": "2022-03-15T13:59:59.047Z"
   },
   {
    "duration": 845,
    "start_time": "2022-03-15T13:59:59.854Z"
   },
   {
    "duration": 861,
    "start_time": "2022-03-15T14:00:00.702Z"
   },
   {
    "duration": 11342,
    "start_time": "2022-03-15T14:00:01.565Z"
   },
   {
    "duration": 565,
    "start_time": "2022-03-15T14:00:12.910Z"
   },
   {
    "duration": 520,
    "start_time": "2022-03-15T14:00:13.477Z"
   },
   {
    "duration": 579,
    "start_time": "2022-03-15T14:00:14.000Z"
   },
   {
    "duration": 512,
    "start_time": "2022-03-15T14:00:14.587Z"
   },
   {
    "duration": 56648,
    "start_time": "2022-03-15T14:00:15.101Z"
   },
   {
    "duration": 785,
    "start_time": "2022-03-15T14:01:11.752Z"
   },
   {
    "duration": 873,
    "start_time": "2022-03-15T14:01:12.543Z"
   },
   {
    "duration": 867,
    "start_time": "2022-03-15T14:01:13.418Z"
   },
   {
    "duration": 912,
    "start_time": "2022-03-15T14:01:14.289Z"
   },
   {
    "duration": 10,
    "start_time": "2022-03-15T14:01:15.204Z"
   },
   {
    "duration": 816,
    "start_time": "2022-03-15T14:01:15.217Z"
   },
   {
    "duration": 692,
    "start_time": "2022-03-15T14:01:16.043Z"
   },
   {
    "duration": 946,
    "start_time": "2022-03-15T14:01:16.743Z"
   },
   {
    "duration": 10,
    "start_time": "2022-03-15T14:05:37.804Z"
   },
   {
    "duration": 258,
    "start_time": "2022-03-15T14:08:17.041Z"
   },
   {
    "duration": 522,
    "start_time": "2022-03-15T14:09:35.545Z"
   },
   {
    "duration": 272,
    "start_time": "2022-03-15T14:09:43.091Z"
   },
   {
    "duration": 477,
    "start_time": "2022-03-15T14:10:02.124Z"
   },
   {
    "duration": 270,
    "start_time": "2022-03-15T14:10:06.853Z"
   },
   {
    "duration": 552,
    "start_time": "2022-03-15T14:10:23.173Z"
   },
   {
    "duration": 355,
    "start_time": "2022-03-15T14:10:36.115Z"
   },
   {
    "duration": 850,
    "start_time": "2022-03-15T14:10:55.330Z"
   },
   {
    "duration": 13,
    "start_time": "2022-03-15T14:10:58.778Z"
   },
   {
    "duration": 17,
    "start_time": "2022-03-15T14:11:29.226Z"
   },
   {
    "duration": 13,
    "start_time": "2022-03-15T14:11:47.235Z"
   },
   {
    "duration": 266,
    "start_time": "2022-03-15T14:22:32.404Z"
   },
   {
    "duration": 825,
    "start_time": "2022-03-15T14:22:44.676Z"
   },
   {
    "duration": 737,
    "start_time": "2022-03-15T14:24:56.567Z"
   },
   {
    "duration": 766,
    "start_time": "2022-03-15T14:25:42.387Z"
   },
   {
    "duration": 1135,
    "start_time": "2022-03-15T14:26:10.913Z"
   },
   {
    "duration": 736,
    "start_time": "2022-03-15T14:35:19.493Z"
   },
   {
    "duration": 816,
    "start_time": "2022-03-15T14:36:35.267Z"
   },
   {
    "duration": 745,
    "start_time": "2022-03-15T14:39:02.917Z"
   },
   {
    "duration": 751,
    "start_time": "2022-03-15T14:40:22.779Z"
   },
   {
    "duration": 10,
    "start_time": "2022-03-15T14:44:59.086Z"
   },
   {
    "duration": 6,
    "start_time": "2022-03-16T09:53:48.268Z"
   },
   {
    "duration": 338,
    "start_time": "2022-03-16T09:54:10.217Z"
   },
   {
    "duration": 1198,
    "start_time": "2022-03-16T09:58:10.130Z"
   },
   {
    "duration": 54,
    "start_time": "2022-03-16T09:58:11.330Z"
   },
   {
    "duration": 7,
    "start_time": "2022-03-16T09:58:11.385Z"
   },
   {
    "duration": 7,
    "start_time": "2022-03-16T09:58:11.394Z"
   },
   {
    "duration": 17,
    "start_time": "2022-03-16T09:58:11.402Z"
   },
   {
    "duration": 19,
    "start_time": "2022-03-16T09:58:11.421Z"
   },
   {
    "duration": 9,
    "start_time": "2022-03-16T09:58:11.442Z"
   },
   {
    "duration": 4,
    "start_time": "2022-03-16T09:58:11.453Z"
   },
   {
    "duration": 7,
    "start_time": "2022-03-16T09:58:11.458Z"
   },
   {
    "duration": 235,
    "start_time": "2022-03-16T09:58:11.466Z"
   },
   {
    "duration": 9,
    "start_time": "2022-03-16T09:58:11.702Z"
   },
   {
    "duration": 6,
    "start_time": "2022-03-16T09:58:11.713Z"
   },
   {
    "duration": 644,
    "start_time": "2022-03-16T09:58:11.720Z"
   },
   {
    "duration": 287,
    "start_time": "2022-03-16T09:58:12.366Z"
   },
   {
    "duration": 315,
    "start_time": "2022-03-16T09:58:12.655Z"
   },
   {
    "duration": 3,
    "start_time": "2022-03-16T09:58:12.971Z"
   },
   {
    "duration": 13,
    "start_time": "2022-03-16T09:58:12.976Z"
   },
   {
    "duration": 268,
    "start_time": "2022-03-16T09:58:12.990Z"
   },
   {
    "duration": 352,
    "start_time": "2022-03-16T09:58:13.259Z"
   },
   {
    "duration": 28,
    "start_time": "2022-03-16T09:58:13.585Z"
   },
   {
    "duration": 24,
    "start_time": "2022-03-16T09:58:13.590Z"
   },
   {
    "duration": 20,
    "start_time": "2022-03-16T09:58:13.595Z"
   },
   {
    "duration": 15,
    "start_time": "2022-03-16T09:58:13.601Z"
   },
   {
    "duration": 11,
    "start_time": "2022-03-16T09:58:13.606Z"
   },
   {
    "duration": 6,
    "start_time": "2022-03-16T09:58:13.612Z"
   },
   {
    "duration": 2,
    "start_time": "2022-03-16T09:58:13.617Z"
   },
   {
    "duration": -3,
    "start_time": "2022-03-16T09:58:13.623Z"
   },
   {
    "duration": -6,
    "start_time": "2022-03-16T09:58:13.627Z"
   },
   {
    "duration": -18,
    "start_time": "2022-03-16T09:58:13.640Z"
   },
   {
    "duration": -22,
    "start_time": "2022-03-16T09:58:13.645Z"
   },
   {
    "duration": -26,
    "start_time": "2022-03-16T09:58:13.650Z"
   },
   {
    "duration": -31,
    "start_time": "2022-03-16T09:58:13.655Z"
   },
   {
    "duration": -36,
    "start_time": "2022-03-16T09:58:13.661Z"
   },
   {
    "duration": -41,
    "start_time": "2022-03-16T09:58:13.667Z"
   },
   {
    "duration": -46,
    "start_time": "2022-03-16T09:58:13.673Z"
   },
   {
    "duration": -49,
    "start_time": "2022-03-16T09:58:13.677Z"
   },
   {
    "duration": -54,
    "start_time": "2022-03-16T09:58:13.683Z"
   },
   {
    "duration": -57,
    "start_time": "2022-03-16T09:58:13.687Z"
   },
   {
    "duration": -62,
    "start_time": "2022-03-16T09:58:13.693Z"
   },
   {
    "duration": -65,
    "start_time": "2022-03-16T09:58:13.697Z"
   },
   {
    "duration": 5,
    "start_time": "2022-03-16T09:58:44.088Z"
   },
   {
    "duration": 35,
    "start_time": "2022-03-16T09:58:44.095Z"
   },
   {
    "duration": 6,
    "start_time": "2022-03-16T09:58:44.132Z"
   },
   {
    "duration": 8,
    "start_time": "2022-03-16T09:58:44.139Z"
   },
   {
    "duration": 15,
    "start_time": "2022-03-16T09:58:44.148Z"
   },
   {
    "duration": 40,
    "start_time": "2022-03-16T09:58:44.165Z"
   },
   {
    "duration": 11,
    "start_time": "2022-03-16T09:58:44.206Z"
   },
   {
    "duration": 3,
    "start_time": "2022-03-16T09:58:44.218Z"
   },
   {
    "duration": 6,
    "start_time": "2022-03-16T09:58:44.224Z"
   },
   {
    "duration": 242,
    "start_time": "2022-03-16T09:58:44.232Z"
   },
   {
    "duration": 10,
    "start_time": "2022-03-16T09:58:44.476Z"
   },
   {
    "duration": 66,
    "start_time": "2022-03-16T09:58:44.488Z"
   },
   {
    "duration": 599,
    "start_time": "2022-03-16T09:58:44.556Z"
   },
   {
    "duration": 279,
    "start_time": "2022-03-16T09:58:45.157Z"
   },
   {
    "duration": 319,
    "start_time": "2022-03-16T09:58:45.438Z"
   },
   {
    "duration": 4,
    "start_time": "2022-03-16T09:58:45.758Z"
   },
   {
    "duration": 12,
    "start_time": "2022-03-16T09:58:45.763Z"
   },
   {
    "duration": 279,
    "start_time": "2022-03-16T09:58:45.776Z"
   },
   {
    "duration": 373,
    "start_time": "2022-03-16T09:58:46.056Z"
   },
   {
    "duration": 29,
    "start_time": "2022-03-16T09:58:46.402Z"
   },
   {
    "duration": 24,
    "start_time": "2022-03-16T09:58:46.409Z"
   },
   {
    "duration": 18,
    "start_time": "2022-03-16T09:58:46.416Z"
   },
   {
    "duration": 11,
    "start_time": "2022-03-16T09:58:46.425Z"
   },
   {
    "duration": 6,
    "start_time": "2022-03-16T09:58:46.431Z"
   },
   {
    "duration": 1,
    "start_time": "2022-03-16T09:58:46.438Z"
   },
   {
    "duration": -3,
    "start_time": "2022-03-16T09:58:46.443Z"
   },
   {
    "duration": -7,
    "start_time": "2022-03-16T09:58:46.449Z"
   },
   {
    "duration": -11,
    "start_time": "2022-03-16T09:58:46.454Z"
   },
   {
    "duration": -15,
    "start_time": "2022-03-16T09:58:46.460Z"
   },
   {
    "duration": -31,
    "start_time": "2022-03-16T09:58:46.477Z"
   },
   {
    "duration": -37,
    "start_time": "2022-03-16T09:58:46.484Z"
   },
   {
    "duration": -41,
    "start_time": "2022-03-16T09:58:46.490Z"
   },
   {
    "duration": -46,
    "start_time": "2022-03-16T09:58:46.496Z"
   },
   {
    "duration": -52,
    "start_time": "2022-03-16T09:58:46.503Z"
   },
   {
    "duration": -56,
    "start_time": "2022-03-16T09:58:46.509Z"
   },
   {
    "duration": -60,
    "start_time": "2022-03-16T09:58:46.514Z"
   },
   {
    "duration": -66,
    "start_time": "2022-03-16T09:58:46.522Z"
   },
   {
    "duration": -71,
    "start_time": "2022-03-16T09:58:46.528Z"
   },
   {
    "duration": -77,
    "start_time": "2022-03-16T09:58:46.535Z"
   },
   {
    "duration": -80,
    "start_time": "2022-03-16T09:58:46.540Z"
   },
   {
    "duration": 587,
    "start_time": "2022-03-16T10:02:49.320Z"
   },
   {
    "duration": 294,
    "start_time": "2022-03-16T10:04:15.055Z"
   },
   {
    "duration": 488,
    "start_time": "2022-03-16T10:04:43.026Z"
   },
   {
    "duration": 572,
    "start_time": "2022-03-16T10:06:51.034Z"
   },
   {
    "duration": 570,
    "start_time": "2022-03-16T10:06:54.273Z"
   },
   {
    "duration": 222,
    "start_time": "2022-03-16T10:08:18.533Z"
   },
   {
    "duration": 98,
    "start_time": "2022-03-16T10:08:56.793Z"
   },
   {
    "duration": 555,
    "start_time": "2022-03-16T10:09:03.657Z"
   },
   {
    "duration": 554,
    "start_time": "2022-03-16T10:09:17.059Z"
   },
   {
    "duration": 6504,
    "start_time": "2022-03-16T10:10:33.907Z"
   },
   {
    "duration": 7445,
    "start_time": "2022-03-16T10:16:59.220Z"
   },
   {
    "duration": 290,
    "start_time": "2022-03-16T10:18:01.648Z"
   },
   {
    "duration": 7721,
    "start_time": "2022-03-16T10:18:14.085Z"
   },
   {
    "duration": 388,
    "start_time": "2022-03-16T10:20:52.617Z"
   },
   {
    "duration": 264,
    "start_time": "2022-03-16T10:20:56.465Z"
   },
   {
    "duration": 414,
    "start_time": "2022-03-16T10:21:02.450Z"
   },
   {
    "duration": 265,
    "start_time": "2022-03-16T10:21:22.138Z"
   },
   {
    "duration": 393,
    "start_time": "2022-03-16T10:23:03.246Z"
   },
   {
    "duration": 258,
    "start_time": "2022-03-16T10:23:15.263Z"
   },
   {
    "duration": 215,
    "start_time": "2022-03-16T10:24:48.938Z"
   },
   {
    "duration": 264,
    "start_time": "2022-03-16T10:25:31.998Z"
   },
   {
    "duration": 621,
    "start_time": "2022-03-16T10:26:02.573Z"
   },
   {
    "duration": 560,
    "start_time": "2022-03-16T10:26:36.755Z"
   },
   {
    "duration": 617,
    "start_time": "2022-03-16T10:26:41.000Z"
   },
   {
    "duration": 548,
    "start_time": "2022-03-16T10:26:52.598Z"
   },
   {
    "duration": 606,
    "start_time": "2022-03-16T10:26:55.798Z"
   },
   {
    "duration": 99,
    "start_time": "2022-03-16T10:29:49.885Z"
   },
   {
    "duration": 112,
    "start_time": "2022-03-16T10:30:03.304Z"
   },
   {
    "duration": 253,
    "start_time": "2022-03-16T10:30:18.871Z"
   },
   {
    "duration": 269,
    "start_time": "2022-03-16T10:32:06.420Z"
   },
   {
    "duration": 36805,
    "start_time": "2022-03-16T10:35:37.307Z"
   },
   {
    "duration": 354,
    "start_time": "2022-03-16T10:37:44.231Z"
   },
   {
    "duration": 257,
    "start_time": "2022-03-16T10:39:45.207Z"
   },
   {
    "duration": 97,
    "start_time": "2022-03-16T10:41:31.182Z"
   },
   {
    "duration": 2665,
    "start_time": "2022-03-16T10:44:09.538Z"
   },
   {
    "duration": 2487,
    "start_time": "2022-03-16T10:45:18.419Z"
   },
   {
    "duration": 2497,
    "start_time": "2022-03-16T10:46:09.307Z"
   },
   {
    "duration": 114,
    "start_time": "2022-03-16T10:56:30.435Z"
   },
   {
    "duration": 334,
    "start_time": "2022-03-16T10:57:44.157Z"
   },
   {
    "duration": 262,
    "start_time": "2022-03-16T10:58:46.922Z"
   },
   {
    "duration": 258,
    "start_time": "2022-03-16T10:58:58.828Z"
   },
   {
    "duration": 6,
    "start_time": "2022-03-16T10:59:02.098Z"
   },
   {
    "duration": 38,
    "start_time": "2022-03-16T10:59:02.106Z"
   },
   {
    "duration": 7,
    "start_time": "2022-03-16T10:59:02.146Z"
   },
   {
    "duration": 8,
    "start_time": "2022-03-16T10:59:02.155Z"
   },
   {
    "duration": 39,
    "start_time": "2022-03-16T10:59:02.165Z"
   },
   {
    "duration": 21,
    "start_time": "2022-03-16T10:59:02.206Z"
   },
   {
    "duration": 9,
    "start_time": "2022-03-16T10:59:02.228Z"
   },
   {
    "duration": 4,
    "start_time": "2022-03-16T10:59:02.239Z"
   },
   {
    "duration": 6,
    "start_time": "2022-03-16T10:59:02.245Z"
   },
   {
    "duration": 238,
    "start_time": "2022-03-16T10:59:02.253Z"
   },
   {
    "duration": 14,
    "start_time": "2022-03-16T10:59:02.493Z"
   },
   {
    "duration": 6,
    "start_time": "2022-03-16T10:59:02.509Z"
   },
   {
    "duration": 590,
    "start_time": "2022-03-16T10:59:02.517Z"
   },
   {
    "duration": 290,
    "start_time": "2022-03-16T10:59:03.108Z"
   },
   {
    "duration": 325,
    "start_time": "2022-03-16T10:59:03.400Z"
   },
   {
    "duration": 4,
    "start_time": "2022-03-16T10:59:03.726Z"
   },
   {
    "duration": 34,
    "start_time": "2022-03-16T10:59:03.732Z"
   },
   {
    "duration": 1649,
    "start_time": "2022-03-16T10:59:03.768Z"
   },
   {
    "duration": 2502,
    "start_time": "2022-03-16T10:59:05.504Z"
   },
   {
    "duration": 749,
    "start_time": "2022-03-16T10:59:08.008Z"
   },
   {
    "duration": 781,
    "start_time": "2022-03-16T10:59:08.759Z"
   },
   {
    "duration": 672,
    "start_time": "2022-03-16T10:59:09.542Z"
   },
   {
    "duration": 592,
    "start_time": "2022-03-16T10:59:10.218Z"
   },
   {
    "duration": 7530,
    "start_time": "2022-03-16T10:59:10.812Z"
   },
   {
    "duration": 292,
    "start_time": "2022-03-16T10:59:18.344Z"
   },
   {
    "duration": 291,
    "start_time": "2022-03-16T10:59:18.638Z"
   },
   {
    "duration": 103,
    "start_time": "2022-03-16T10:59:18.930Z"
   },
   {
    "duration": 119,
    "start_time": "2022-03-16T10:59:19.035Z"
   },
   {
    "duration": 279,
    "start_time": "2022-03-16T10:59:19.156Z"
   },
   {
    "duration": 37115,
    "start_time": "2022-03-16T10:59:19.436Z"
   },
   {
    "duration": 451,
    "start_time": "2022-03-16T10:59:56.552Z"
   },
   {
    "duration": 502,
    "start_time": "2022-03-16T10:59:57.004Z"
   },
   {
    "duration": 259,
    "start_time": "2022-03-16T10:59:57.507Z"
   },
   {
    "duration": 344,
    "start_time": "2022-03-16T10:59:57.768Z"
   },
   {
    "duration": 505,
    "start_time": "2022-03-16T10:59:58.113Z"
   },
   {
    "duration": 8,
    "start_time": "2022-03-16T10:59:58.620Z"
   },
   {
    "duration": 472,
    "start_time": "2022-03-16T10:59:58.629Z"
   },
   {
    "duration": 458,
    "start_time": "2022-03-16T10:59:59.102Z"
   },
   {
    "duration": 515,
    "start_time": "2022-03-16T10:59:59.562Z"
   },
   {
    "duration": 447,
    "start_time": "2022-03-16T11:00:00.079Z"
   },
   {
    "duration": 444,
    "start_time": "2022-03-16T11:00:00.527Z"
   },
   {
    "duration": 473,
    "start_time": "2022-03-16T11:00:00.972Z"
   },
   {
    "duration": 7,
    "start_time": "2022-03-16T11:00:01.447Z"
   },
   {
    "duration": 499,
    "start_time": "2022-03-16T11:01:11.314Z"
   },
   {
    "duration": 501,
    "start_time": "2022-03-16T11:01:21.804Z"
   },
   {
    "duration": 448,
    "start_time": "2022-03-16T11:03:58.027Z"
   },
   {
    "duration": 87,
    "start_time": "2022-03-16T11:07:31.082Z"
   },
   {
    "duration": 2628,
    "start_time": "2022-03-16T11:12:25.379Z"
   },
   {
    "duration": 2293,
    "start_time": "2022-03-17T08:02:53.769Z"
   },
   {
    "duration": 58,
    "start_time": "2022-03-17T08:02:56.065Z"
   },
   {
    "duration": 20,
    "start_time": "2022-03-17T08:02:56.125Z"
   },
   {
    "duration": 36,
    "start_time": "2022-03-17T08:02:56.148Z"
   },
   {
    "duration": 31,
    "start_time": "2022-03-17T08:02:56.186Z"
   },
   {
    "duration": 63,
    "start_time": "2022-03-17T08:02:56.220Z"
   },
   {
    "duration": 25,
    "start_time": "2022-03-17T08:02:56.286Z"
   },
   {
    "duration": 8,
    "start_time": "2022-03-17T08:02:56.314Z"
   },
   {
    "duration": 9,
    "start_time": "2022-03-17T08:02:56.324Z"
   },
   {
    "duration": 191,
    "start_time": "2022-03-17T08:02:56.383Z"
   },
   {
    "duration": 14,
    "start_time": "2022-03-17T08:02:56.582Z"
   },
   {
    "duration": 9,
    "start_time": "2022-03-17T08:02:56.599Z"
   },
   {
    "duration": 534,
    "start_time": "2022-03-17T08:02:56.612Z"
   },
   {
    "duration": 337,
    "start_time": "2022-03-17T08:02:57.148Z"
   },
   {
    "duration": 1227,
    "start_time": "2022-03-17T08:02:57.487Z"
   },
   {
    "duration": 6,
    "start_time": "2022-03-17T08:02:58.716Z"
   },
   {
    "duration": 20,
    "start_time": "2022-03-17T08:02:58.725Z"
   },
   {
    "duration": 338,
    "start_time": "2022-03-17T08:02:58.747Z"
   },
   {
    "duration": 337,
    "start_time": "2022-03-17T08:02:59.087Z"
   },
   {
    "duration": 1556,
    "start_time": "2022-03-17T08:02:59.426Z"
   },
   {
    "duration": 1861,
    "start_time": "2022-03-17T08:03:00.984Z"
   },
   {
    "duration": 1301,
    "start_time": "2022-03-17T08:03:02.847Z"
   },
   {
    "duration": 883,
    "start_time": "2022-03-17T08:03:04.150Z"
   },
   {
    "duration": 13550,
    "start_time": "2022-03-17T08:03:05.035Z"
   },
   {
    "duration": 336,
    "start_time": "2022-03-17T08:03:18.587Z"
   },
   {
    "duration": 325,
    "start_time": "2022-03-17T08:03:18.926Z"
   },
   {
    "duration": 177,
    "start_time": "2022-03-17T08:03:19.253Z"
   },
   {
    "duration": 192,
    "start_time": "2022-03-17T08:03:19.435Z"
   },
   {
    "duration": 335,
    "start_time": "2022-03-17T08:03:19.629Z"
   },
   {
    "duration": 61816,
    "start_time": "2022-03-17T08:03:19.967Z"
   },
   {
    "duration": 584,
    "start_time": "2022-03-17T08:04:21.785Z"
   },
   {
    "duration": 692,
    "start_time": "2022-03-17T08:04:22.371Z"
   },
   {
    "duration": 427,
    "start_time": "2022-03-17T08:04:23.065Z"
   },
   {
    "duration": 558,
    "start_time": "2022-03-17T08:04:23.494Z"
   },
   {
    "duration": 682,
    "start_time": "2022-03-17T08:04:24.055Z"
   },
   {
    "duration": 13,
    "start_time": "2022-03-17T08:04:24.739Z"
   },
   {
    "duration": 528,
    "start_time": "2022-03-17T08:04:24.754Z"
   },
   {
    "duration": 552,
    "start_time": "2022-03-17T08:04:25.284Z"
   },
   {
    "duration": 502,
    "start_time": "2022-03-17T08:04:25.839Z"
   },
   {
    "duration": 559,
    "start_time": "2022-03-17T08:04:26.343Z"
   },
   {
    "duration": 659,
    "start_time": "2022-03-17T08:04:26.904Z"
   },
   {
    "duration": 583,
    "start_time": "2022-03-17T08:04:27.566Z"
   },
   {
    "duration": 11,
    "start_time": "2022-03-17T08:04:28.152Z"
   },
   {
    "duration": 9,
    "start_time": "2022-03-17T08:11:56.962Z"
   },
   {
    "duration": 56,
    "start_time": "2022-03-17T08:11:56.975Z"
   },
   {
    "duration": 21,
    "start_time": "2022-03-17T08:11:57.033Z"
   },
   {
    "duration": 34,
    "start_time": "2022-03-17T08:11:57.057Z"
   },
   {
    "duration": 34,
    "start_time": "2022-03-17T08:11:57.094Z"
   },
   {
    "duration": 61,
    "start_time": "2022-03-17T08:11:57.130Z"
   },
   {
    "duration": 24,
    "start_time": "2022-03-17T08:11:57.193Z"
   },
   {
    "duration": 6,
    "start_time": "2022-03-17T08:11:57.219Z"
   },
   {
    "duration": 16,
    "start_time": "2022-03-17T08:11:57.228Z"
   },
   {
    "duration": 201,
    "start_time": "2022-03-17T08:11:57.246Z"
   },
   {
    "duration": 12,
    "start_time": "2022-03-17T08:11:57.450Z"
   },
   {
    "duration": 25,
    "start_time": "2022-03-17T08:11:57.464Z"
   },
   {
    "duration": 491,
    "start_time": "2022-03-17T08:11:57.491Z"
   },
   {
    "duration": 359,
    "start_time": "2022-03-17T08:11:57.988Z"
   },
   {
    "duration": 1279,
    "start_time": "2022-03-17T08:11:58.350Z"
   },
   {
    "duration": 5,
    "start_time": "2022-03-17T08:11:59.631Z"
   },
   {
    "duration": 18,
    "start_time": "2022-03-17T08:11:59.639Z"
   },
   {
    "duration": 323,
    "start_time": "2022-03-17T08:11:59.659Z"
   },
   {
    "duration": 298,
    "start_time": "2022-03-17T08:11:59.984Z"
   },
   {
    "duration": 1170,
    "start_time": "2022-03-17T08:12:00.285Z"
   },
   {
    "duration": 1074,
    "start_time": "2022-03-17T08:12:01.458Z"
   },
   {
    "duration": 1226,
    "start_time": "2022-03-17T08:12:02.535Z"
   },
   {
    "duration": 1283,
    "start_time": "2022-03-17T08:12:03.764Z"
   },
   {
    "duration": 13572,
    "start_time": "2022-03-17T08:12:05.049Z"
   },
   {
    "duration": 372,
    "start_time": "2022-03-17T08:12:18.624Z"
   },
   {
    "duration": 353,
    "start_time": "2022-03-17T08:12:18.998Z"
   },
   {
    "duration": 177,
    "start_time": "2022-03-17T08:12:19.353Z"
   },
   {
    "duration": 190,
    "start_time": "2022-03-17T08:12:19.533Z"
   },
   {
    "duration": 340,
    "start_time": "2022-03-17T08:12:19.726Z"
   },
   {
    "duration": 64518,
    "start_time": "2022-03-17T08:12:20.069Z"
   },
   {
    "duration": 698,
    "start_time": "2022-03-17T08:13:24.590Z"
   },
   {
    "duration": 920,
    "start_time": "2022-03-17T08:13:25.291Z"
   },
   {
    "duration": 518,
    "start_time": "2022-03-17T08:13:26.213Z"
   },
   {
    "duration": 785,
    "start_time": "2022-03-17T08:13:26.733Z"
   },
   {
    "duration": 958,
    "start_time": "2022-03-17T08:13:27.520Z"
   },
   {
    "duration": 14,
    "start_time": "2022-03-17T08:13:28.482Z"
   },
   {
    "duration": 557,
    "start_time": "2022-03-17T08:13:28.498Z"
   },
   {
    "duration": 551,
    "start_time": "2022-03-17T08:13:29.057Z"
   },
   {
    "duration": 538,
    "start_time": "2022-03-17T08:13:29.610Z"
   },
   {
    "duration": 755,
    "start_time": "2022-03-17T08:13:30.150Z"
   },
   {
    "duration": 905,
    "start_time": "2022-03-17T08:13:30.913Z"
   },
   {
    "duration": 1375,
    "start_time": "2022-03-17T08:13:31.821Z"
   },
   {
    "duration": 10,
    "start_time": "2022-03-17T08:13:33.199Z"
   },
   {
    "duration": 796,
    "start_time": "2022-03-17T08:18:49.108Z"
   },
   {
    "duration": 6,
    "start_time": "2022-03-17T08:20:30.114Z"
   },
   {
    "duration": 771,
    "start_time": "2022-03-17T08:20:54.614Z"
   },
   {
    "duration": 625,
    "start_time": "2022-03-17T08:21:02.587Z"
   },
   {
    "duration": 10,
    "start_time": "2022-03-17T08:21:32.822Z"
   },
   {
    "duration": 12,
    "start_time": "2022-03-17T08:22:03.568Z"
   }
  ],
  "kernelspec": {
   "display_name": "Python 3 (ipykernel)",
   "language": "python",
   "name": "python3"
  },
  "language_info": {
   "codemirror_mode": {
    "name": "ipython",
    "version": 3
   },
   "file_extension": ".py",
   "mimetype": "text/x-python",
   "name": "python",
   "nbconvert_exporter": "python",
   "pygments_lexer": "ipython3",
   "version": "3.9.7"
  },
  "toc": {
   "base_numbering": 1,
   "nav_menu": {},
   "number_sections": true,
   "sideBar": true,
   "skip_h1_title": true,
   "title_cell": "Содержание",
   "title_sidebar": "Contents",
   "toc_cell": true,
   "toc_position": {
    "height": "calc(100% - 180px)",
    "left": "10px",
    "top": "150px",
    "width": "236.719px"
   },
   "toc_section_display": true,
   "toc_window_display": true
  }
 },
 "nbformat": 4,
 "nbformat_minor": 2
}
